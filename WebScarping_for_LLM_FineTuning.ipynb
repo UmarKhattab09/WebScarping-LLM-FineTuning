{
  "nbformat": 4,
  "nbformat_minor": 0,
  "metadata": {
    "colab": {
      "provenance": [],
      "gpuType": "T4",
      "authorship_tag": "ABX9TyNX0jq7J/OT9KL7ue4VrkTQ",
      "include_colab_link": true
    },
    "kernelspec": {
      "name": "python3",
      "display_name": "Python 3"
    },
    "language_info": {
      "name": "python"
    },
    "widgets": {
      "application/vnd.jupyter.widget-state+json": {
        "d7ac9fa675204290a498f09b7e1b6262": {
          "model_module": "@jupyter-widgets/controls",
          "model_name": "HBoxModel",
          "model_module_version": "1.5.0",
          "state": {
            "_dom_classes": [],
            "_model_module": "@jupyter-widgets/controls",
            "_model_module_version": "1.5.0",
            "_model_name": "HBoxModel",
            "_view_count": null,
            "_view_module": "@jupyter-widgets/controls",
            "_view_module_version": "1.5.0",
            "_view_name": "HBoxView",
            "box_style": "",
            "children": [
              "IPY_MODEL_d66ff6b675a6466f895e9b97140f1020",
              "IPY_MODEL_f0405cd293d344eb9d81fd2c2506add8",
              "IPY_MODEL_badcf65bc7c24193a8430acfe1d4606e"
            ],
            "layout": "IPY_MODEL_496f6cb75a564907bb85d65c1af8fc00"
          }
        },
        "d66ff6b675a6466f895e9b97140f1020": {
          "model_module": "@jupyter-widgets/controls",
          "model_name": "HTMLModel",
          "model_module_version": "1.5.0",
          "state": {
            "_dom_classes": [],
            "_model_module": "@jupyter-widgets/controls",
            "_model_module_version": "1.5.0",
            "_model_name": "HTMLModel",
            "_view_count": null,
            "_view_module": "@jupyter-widgets/controls",
            "_view_module_version": "1.5.0",
            "_view_name": "HTMLView",
            "description": "",
            "description_tooltip": null,
            "layout": "IPY_MODEL_9341c696a0dd4bddbfd720e6c291267b",
            "placeholder": "​",
            "style": "IPY_MODEL_1bec4b81246d4270bd125ee299a30b78",
            "value": "tokenizer_config.json: 100%"
          }
        },
        "f0405cd293d344eb9d81fd2c2506add8": {
          "model_module": "@jupyter-widgets/controls",
          "model_name": "FloatProgressModel",
          "model_module_version": "1.5.0",
          "state": {
            "_dom_classes": [],
            "_model_module": "@jupyter-widgets/controls",
            "_model_module_version": "1.5.0",
            "_model_name": "FloatProgressModel",
            "_view_count": null,
            "_view_module": "@jupyter-widgets/controls",
            "_view_module_version": "1.5.0",
            "_view_name": "ProgressView",
            "bar_style": "success",
            "description": "",
            "description_tooltip": null,
            "layout": "IPY_MODEL_40ef921cb6dc41cebfc701784d181c7c",
            "max": 50500,
            "min": 0,
            "orientation": "horizontal",
            "style": "IPY_MODEL_4f98dfd4474e47c0930a9b9ec4714273",
            "value": 50500
          }
        },
        "badcf65bc7c24193a8430acfe1d4606e": {
          "model_module": "@jupyter-widgets/controls",
          "model_name": "HTMLModel",
          "model_module_version": "1.5.0",
          "state": {
            "_dom_classes": [],
            "_model_module": "@jupyter-widgets/controls",
            "_model_module_version": "1.5.0",
            "_model_name": "HTMLModel",
            "_view_count": null,
            "_view_module": "@jupyter-widgets/controls",
            "_view_module_version": "1.5.0",
            "_view_name": "HTMLView",
            "description": "",
            "description_tooltip": null,
            "layout": "IPY_MODEL_494a7556fd5344379337b2925888d3ca",
            "placeholder": "​",
            "style": "IPY_MODEL_73817cea9cec4e5584b2955f9970c76f",
            "value": " 50.5k/50.5k [00:00&lt;00:00, 2.42MB/s]"
          }
        },
        "496f6cb75a564907bb85d65c1af8fc00": {
          "model_module": "@jupyter-widgets/base",
          "model_name": "LayoutModel",
          "model_module_version": "1.2.0",
          "state": {
            "_model_module": "@jupyter-widgets/base",
            "_model_module_version": "1.2.0",
            "_model_name": "LayoutModel",
            "_view_count": null,
            "_view_module": "@jupyter-widgets/base",
            "_view_module_version": "1.2.0",
            "_view_name": "LayoutView",
            "align_content": null,
            "align_items": null,
            "align_self": null,
            "border": null,
            "bottom": null,
            "display": null,
            "flex": null,
            "flex_flow": null,
            "grid_area": null,
            "grid_auto_columns": null,
            "grid_auto_flow": null,
            "grid_auto_rows": null,
            "grid_column": null,
            "grid_gap": null,
            "grid_row": null,
            "grid_template_areas": null,
            "grid_template_columns": null,
            "grid_template_rows": null,
            "height": null,
            "justify_content": null,
            "justify_items": null,
            "left": null,
            "margin": null,
            "max_height": null,
            "max_width": null,
            "min_height": null,
            "min_width": null,
            "object_fit": null,
            "object_position": null,
            "order": null,
            "overflow": null,
            "overflow_x": null,
            "overflow_y": null,
            "padding": null,
            "right": null,
            "top": null,
            "visibility": null,
            "width": null
          }
        },
        "9341c696a0dd4bddbfd720e6c291267b": {
          "model_module": "@jupyter-widgets/base",
          "model_name": "LayoutModel",
          "model_module_version": "1.2.0",
          "state": {
            "_model_module": "@jupyter-widgets/base",
            "_model_module_version": "1.2.0",
            "_model_name": "LayoutModel",
            "_view_count": null,
            "_view_module": "@jupyter-widgets/base",
            "_view_module_version": "1.2.0",
            "_view_name": "LayoutView",
            "align_content": null,
            "align_items": null,
            "align_self": null,
            "border": null,
            "bottom": null,
            "display": null,
            "flex": null,
            "flex_flow": null,
            "grid_area": null,
            "grid_auto_columns": null,
            "grid_auto_flow": null,
            "grid_auto_rows": null,
            "grid_column": null,
            "grid_gap": null,
            "grid_row": null,
            "grid_template_areas": null,
            "grid_template_columns": null,
            "grid_template_rows": null,
            "height": null,
            "justify_content": null,
            "justify_items": null,
            "left": null,
            "margin": null,
            "max_height": null,
            "max_width": null,
            "min_height": null,
            "min_width": null,
            "object_fit": null,
            "object_position": null,
            "order": null,
            "overflow": null,
            "overflow_x": null,
            "overflow_y": null,
            "padding": null,
            "right": null,
            "top": null,
            "visibility": null,
            "width": null
          }
        },
        "1bec4b81246d4270bd125ee299a30b78": {
          "model_module": "@jupyter-widgets/controls",
          "model_name": "DescriptionStyleModel",
          "model_module_version": "1.5.0",
          "state": {
            "_model_module": "@jupyter-widgets/controls",
            "_model_module_version": "1.5.0",
            "_model_name": "DescriptionStyleModel",
            "_view_count": null,
            "_view_module": "@jupyter-widgets/base",
            "_view_module_version": "1.2.0",
            "_view_name": "StyleView",
            "description_width": ""
          }
        },
        "40ef921cb6dc41cebfc701784d181c7c": {
          "model_module": "@jupyter-widgets/base",
          "model_name": "LayoutModel",
          "model_module_version": "1.2.0",
          "state": {
            "_model_module": "@jupyter-widgets/base",
            "_model_module_version": "1.2.0",
            "_model_name": "LayoutModel",
            "_view_count": null,
            "_view_module": "@jupyter-widgets/base",
            "_view_module_version": "1.2.0",
            "_view_name": "LayoutView",
            "align_content": null,
            "align_items": null,
            "align_self": null,
            "border": null,
            "bottom": null,
            "display": null,
            "flex": null,
            "flex_flow": null,
            "grid_area": null,
            "grid_auto_columns": null,
            "grid_auto_flow": null,
            "grid_auto_rows": null,
            "grid_column": null,
            "grid_gap": null,
            "grid_row": null,
            "grid_template_areas": null,
            "grid_template_columns": null,
            "grid_template_rows": null,
            "height": null,
            "justify_content": null,
            "justify_items": null,
            "left": null,
            "margin": null,
            "max_height": null,
            "max_width": null,
            "min_height": null,
            "min_width": null,
            "object_fit": null,
            "object_position": null,
            "order": null,
            "overflow": null,
            "overflow_x": null,
            "overflow_y": null,
            "padding": null,
            "right": null,
            "top": null,
            "visibility": null,
            "width": null
          }
        },
        "4f98dfd4474e47c0930a9b9ec4714273": {
          "model_module": "@jupyter-widgets/controls",
          "model_name": "ProgressStyleModel",
          "model_module_version": "1.5.0",
          "state": {
            "_model_module": "@jupyter-widgets/controls",
            "_model_module_version": "1.5.0",
            "_model_name": "ProgressStyleModel",
            "_view_count": null,
            "_view_module": "@jupyter-widgets/base",
            "_view_module_version": "1.2.0",
            "_view_name": "StyleView",
            "bar_color": null,
            "description_width": ""
          }
        },
        "494a7556fd5344379337b2925888d3ca": {
          "model_module": "@jupyter-widgets/base",
          "model_name": "LayoutModel",
          "model_module_version": "1.2.0",
          "state": {
            "_model_module": "@jupyter-widgets/base",
            "_model_module_version": "1.2.0",
            "_model_name": "LayoutModel",
            "_view_count": null,
            "_view_module": "@jupyter-widgets/base",
            "_view_module_version": "1.2.0",
            "_view_name": "LayoutView",
            "align_content": null,
            "align_items": null,
            "align_self": null,
            "border": null,
            "bottom": null,
            "display": null,
            "flex": null,
            "flex_flow": null,
            "grid_area": null,
            "grid_auto_columns": null,
            "grid_auto_flow": null,
            "grid_auto_rows": null,
            "grid_column": null,
            "grid_gap": null,
            "grid_row": null,
            "grid_template_areas": null,
            "grid_template_columns": null,
            "grid_template_rows": null,
            "height": null,
            "justify_content": null,
            "justify_items": null,
            "left": null,
            "margin": null,
            "max_height": null,
            "max_width": null,
            "min_height": null,
            "min_width": null,
            "object_fit": null,
            "object_position": null,
            "order": null,
            "overflow": null,
            "overflow_x": null,
            "overflow_y": null,
            "padding": null,
            "right": null,
            "top": null,
            "visibility": null,
            "width": null
          }
        },
        "73817cea9cec4e5584b2955f9970c76f": {
          "model_module": "@jupyter-widgets/controls",
          "model_name": "DescriptionStyleModel",
          "model_module_version": "1.5.0",
          "state": {
            "_model_module": "@jupyter-widgets/controls",
            "_model_module_version": "1.5.0",
            "_model_name": "DescriptionStyleModel",
            "_view_count": null,
            "_view_module": "@jupyter-widgets/base",
            "_view_module_version": "1.2.0",
            "_view_name": "StyleView",
            "description_width": ""
          }
        },
        "2b6eee7f602e4c7d9991c6d08f0af776": {
          "model_module": "@jupyter-widgets/controls",
          "model_name": "HBoxModel",
          "model_module_version": "1.5.0",
          "state": {
            "_dom_classes": [],
            "_model_module": "@jupyter-widgets/controls",
            "_model_module_version": "1.5.0",
            "_model_name": "HBoxModel",
            "_view_count": null,
            "_view_module": "@jupyter-widgets/controls",
            "_view_module_version": "1.5.0",
            "_view_name": "HBoxView",
            "box_style": "",
            "children": [
              "IPY_MODEL_5d470588abf8451b946d3d73763927c3",
              "IPY_MODEL_b92844519929461dbf4748ca7d3bec35",
              "IPY_MODEL_b07f744fa4cd4dbeb6cb75489c64aa95"
            ],
            "layout": "IPY_MODEL_ef12899ae90f4149a17ad5289819c9f8"
          }
        },
        "5d470588abf8451b946d3d73763927c3": {
          "model_module": "@jupyter-widgets/controls",
          "model_name": "HTMLModel",
          "model_module_version": "1.5.0",
          "state": {
            "_dom_classes": [],
            "_model_module": "@jupyter-widgets/controls",
            "_model_module_version": "1.5.0",
            "_model_name": "HTMLModel",
            "_view_count": null,
            "_view_module": "@jupyter-widgets/controls",
            "_view_module_version": "1.5.0",
            "_view_name": "HTMLView",
            "description": "",
            "description_tooltip": null,
            "layout": "IPY_MODEL_6bacb9c74c364ce28f41e20ebdac0b16",
            "placeholder": "​",
            "style": "IPY_MODEL_a9dc292561764a438570061390385480",
            "value": "tokenizer.json: 100%"
          }
        },
        "b92844519929461dbf4748ca7d3bec35": {
          "model_module": "@jupyter-widgets/controls",
          "model_name": "FloatProgressModel",
          "model_module_version": "1.5.0",
          "state": {
            "_dom_classes": [],
            "_model_module": "@jupyter-widgets/controls",
            "_model_module_version": "1.5.0",
            "_model_name": "FloatProgressModel",
            "_view_count": null,
            "_view_module": "@jupyter-widgets/controls",
            "_view_module_version": "1.5.0",
            "_view_name": "ProgressView",
            "bar_style": "success",
            "description": "",
            "description_tooltip": null,
            "layout": "IPY_MODEL_46ae5693ae8a455c9f0afe9e504434f7",
            "max": 9085657,
            "min": 0,
            "orientation": "horizontal",
            "style": "IPY_MODEL_b4371e0d8f7045c49c7dd45d09751feb",
            "value": 9085657
          }
        },
        "b07f744fa4cd4dbeb6cb75489c64aa95": {
          "model_module": "@jupyter-widgets/controls",
          "model_name": "HTMLModel",
          "model_module_version": "1.5.0",
          "state": {
            "_dom_classes": [],
            "_model_module": "@jupyter-widgets/controls",
            "_model_module_version": "1.5.0",
            "_model_name": "HTMLModel",
            "_view_count": null,
            "_view_module": "@jupyter-widgets/controls",
            "_view_module_version": "1.5.0",
            "_view_name": "HTMLView",
            "description": "",
            "description_tooltip": null,
            "layout": "IPY_MODEL_d0fa56d9ace44101842220dd5715abe9",
            "placeholder": "​",
            "style": "IPY_MODEL_795c8ca82d3c435b8be260e0543ff230",
            "value": " 9.09M/9.09M [00:00&lt;00:00, 19.9MB/s]"
          }
        },
        "ef12899ae90f4149a17ad5289819c9f8": {
          "model_module": "@jupyter-widgets/base",
          "model_name": "LayoutModel",
          "model_module_version": "1.2.0",
          "state": {
            "_model_module": "@jupyter-widgets/base",
            "_model_module_version": "1.2.0",
            "_model_name": "LayoutModel",
            "_view_count": null,
            "_view_module": "@jupyter-widgets/base",
            "_view_module_version": "1.2.0",
            "_view_name": "LayoutView",
            "align_content": null,
            "align_items": null,
            "align_self": null,
            "border": null,
            "bottom": null,
            "display": null,
            "flex": null,
            "flex_flow": null,
            "grid_area": null,
            "grid_auto_columns": null,
            "grid_auto_flow": null,
            "grid_auto_rows": null,
            "grid_column": null,
            "grid_gap": null,
            "grid_row": null,
            "grid_template_areas": null,
            "grid_template_columns": null,
            "grid_template_rows": null,
            "height": null,
            "justify_content": null,
            "justify_items": null,
            "left": null,
            "margin": null,
            "max_height": null,
            "max_width": null,
            "min_height": null,
            "min_width": null,
            "object_fit": null,
            "object_position": null,
            "order": null,
            "overflow": null,
            "overflow_x": null,
            "overflow_y": null,
            "padding": null,
            "right": null,
            "top": null,
            "visibility": null,
            "width": null
          }
        },
        "6bacb9c74c364ce28f41e20ebdac0b16": {
          "model_module": "@jupyter-widgets/base",
          "model_name": "LayoutModel",
          "model_module_version": "1.2.0",
          "state": {
            "_model_module": "@jupyter-widgets/base",
            "_model_module_version": "1.2.0",
            "_model_name": "LayoutModel",
            "_view_count": null,
            "_view_module": "@jupyter-widgets/base",
            "_view_module_version": "1.2.0",
            "_view_name": "LayoutView",
            "align_content": null,
            "align_items": null,
            "align_self": null,
            "border": null,
            "bottom": null,
            "display": null,
            "flex": null,
            "flex_flow": null,
            "grid_area": null,
            "grid_auto_columns": null,
            "grid_auto_flow": null,
            "grid_auto_rows": null,
            "grid_column": null,
            "grid_gap": null,
            "grid_row": null,
            "grid_template_areas": null,
            "grid_template_columns": null,
            "grid_template_rows": null,
            "height": null,
            "justify_content": null,
            "justify_items": null,
            "left": null,
            "margin": null,
            "max_height": null,
            "max_width": null,
            "min_height": null,
            "min_width": null,
            "object_fit": null,
            "object_position": null,
            "order": null,
            "overflow": null,
            "overflow_x": null,
            "overflow_y": null,
            "padding": null,
            "right": null,
            "top": null,
            "visibility": null,
            "width": null
          }
        },
        "a9dc292561764a438570061390385480": {
          "model_module": "@jupyter-widgets/controls",
          "model_name": "DescriptionStyleModel",
          "model_module_version": "1.5.0",
          "state": {
            "_model_module": "@jupyter-widgets/controls",
            "_model_module_version": "1.5.0",
            "_model_name": "DescriptionStyleModel",
            "_view_count": null,
            "_view_module": "@jupyter-widgets/base",
            "_view_module_version": "1.2.0",
            "_view_name": "StyleView",
            "description_width": ""
          }
        },
        "46ae5693ae8a455c9f0afe9e504434f7": {
          "model_module": "@jupyter-widgets/base",
          "model_name": "LayoutModel",
          "model_module_version": "1.2.0",
          "state": {
            "_model_module": "@jupyter-widgets/base",
            "_model_module_version": "1.2.0",
            "_model_name": "LayoutModel",
            "_view_count": null,
            "_view_module": "@jupyter-widgets/base",
            "_view_module_version": "1.2.0",
            "_view_name": "LayoutView",
            "align_content": null,
            "align_items": null,
            "align_self": null,
            "border": null,
            "bottom": null,
            "display": null,
            "flex": null,
            "flex_flow": null,
            "grid_area": null,
            "grid_auto_columns": null,
            "grid_auto_flow": null,
            "grid_auto_rows": null,
            "grid_column": null,
            "grid_gap": null,
            "grid_row": null,
            "grid_template_areas": null,
            "grid_template_columns": null,
            "grid_template_rows": null,
            "height": null,
            "justify_content": null,
            "justify_items": null,
            "left": null,
            "margin": null,
            "max_height": null,
            "max_width": null,
            "min_height": null,
            "min_width": null,
            "object_fit": null,
            "object_position": null,
            "order": null,
            "overflow": null,
            "overflow_x": null,
            "overflow_y": null,
            "padding": null,
            "right": null,
            "top": null,
            "visibility": null,
            "width": null
          }
        },
        "b4371e0d8f7045c49c7dd45d09751feb": {
          "model_module": "@jupyter-widgets/controls",
          "model_name": "ProgressStyleModel",
          "model_module_version": "1.5.0",
          "state": {
            "_model_module": "@jupyter-widgets/controls",
            "_model_module_version": "1.5.0",
            "_model_name": "ProgressStyleModel",
            "_view_count": null,
            "_view_module": "@jupyter-widgets/base",
            "_view_module_version": "1.2.0",
            "_view_name": "StyleView",
            "bar_color": null,
            "description_width": ""
          }
        },
        "d0fa56d9ace44101842220dd5715abe9": {
          "model_module": "@jupyter-widgets/base",
          "model_name": "LayoutModel",
          "model_module_version": "1.2.0",
          "state": {
            "_model_module": "@jupyter-widgets/base",
            "_model_module_version": "1.2.0",
            "_model_name": "LayoutModel",
            "_view_count": null,
            "_view_module": "@jupyter-widgets/base",
            "_view_module_version": "1.2.0",
            "_view_name": "LayoutView",
            "align_content": null,
            "align_items": null,
            "align_self": null,
            "border": null,
            "bottom": null,
            "display": null,
            "flex": null,
            "flex_flow": null,
            "grid_area": null,
            "grid_auto_columns": null,
            "grid_auto_flow": null,
            "grid_auto_rows": null,
            "grid_column": null,
            "grid_gap": null,
            "grid_row": null,
            "grid_template_areas": null,
            "grid_template_columns": null,
            "grid_template_rows": null,
            "height": null,
            "justify_content": null,
            "justify_items": null,
            "left": null,
            "margin": null,
            "max_height": null,
            "max_width": null,
            "min_height": null,
            "min_width": null,
            "object_fit": null,
            "object_position": null,
            "order": null,
            "overflow": null,
            "overflow_x": null,
            "overflow_y": null,
            "padding": null,
            "right": null,
            "top": null,
            "visibility": null,
            "width": null
          }
        },
        "795c8ca82d3c435b8be260e0543ff230": {
          "model_module": "@jupyter-widgets/controls",
          "model_name": "DescriptionStyleModel",
          "model_module_version": "1.5.0",
          "state": {
            "_model_module": "@jupyter-widgets/controls",
            "_model_module_version": "1.5.0",
            "_model_name": "DescriptionStyleModel",
            "_view_count": null,
            "_view_module": "@jupyter-widgets/base",
            "_view_module_version": "1.2.0",
            "_view_name": "StyleView",
            "description_width": ""
          }
        },
        "c18138cf0bc840ecbcf45ccd6da8a558": {
          "model_module": "@jupyter-widgets/controls",
          "model_name": "HBoxModel",
          "model_module_version": "1.5.0",
          "state": {
            "_dom_classes": [],
            "_model_module": "@jupyter-widgets/controls",
            "_model_module_version": "1.5.0",
            "_model_name": "HBoxModel",
            "_view_count": null,
            "_view_module": "@jupyter-widgets/controls",
            "_view_module_version": "1.5.0",
            "_view_name": "HBoxView",
            "box_style": "",
            "children": [
              "IPY_MODEL_93996c9559bb4183b1a8b04ddd8c0445",
              "IPY_MODEL_5425180e2671404481ae9f42838af6aa",
              "IPY_MODEL_ce3b82b96cf44a6bbc99ecb28d901cdd"
            ],
            "layout": "IPY_MODEL_675b91b674b44a2b857b2ffe4b3509b3"
          }
        },
        "93996c9559bb4183b1a8b04ddd8c0445": {
          "model_module": "@jupyter-widgets/controls",
          "model_name": "HTMLModel",
          "model_module_version": "1.5.0",
          "state": {
            "_dom_classes": [],
            "_model_module": "@jupyter-widgets/controls",
            "_model_module_version": "1.5.0",
            "_model_name": "HTMLModel",
            "_view_count": null,
            "_view_module": "@jupyter-widgets/controls",
            "_view_module_version": "1.5.0",
            "_view_name": "HTMLView",
            "description": "",
            "description_tooltip": null,
            "layout": "IPY_MODEL_91f57ce7f57d476780de8f3ca5000ce8",
            "placeholder": "​",
            "style": "IPY_MODEL_4d557c42de0b4405b6bcabd9d9b270eb",
            "value": "special_tokens_map.json: 100%"
          }
        },
        "5425180e2671404481ae9f42838af6aa": {
          "model_module": "@jupyter-widgets/controls",
          "model_name": "FloatProgressModel",
          "model_module_version": "1.5.0",
          "state": {
            "_dom_classes": [],
            "_model_module": "@jupyter-widgets/controls",
            "_model_module_version": "1.5.0",
            "_model_name": "FloatProgressModel",
            "_view_count": null,
            "_view_module": "@jupyter-widgets/controls",
            "_view_module_version": "1.5.0",
            "_view_name": "ProgressView",
            "bar_style": "success",
            "description": "",
            "description_tooltip": null,
            "layout": "IPY_MODEL_f67a83aa52b04e1c8f5358638a14b4b9",
            "max": 301,
            "min": 0,
            "orientation": "horizontal",
            "style": "IPY_MODEL_774e7e1356a04943a201621f0c335207",
            "value": 301
          }
        },
        "ce3b82b96cf44a6bbc99ecb28d901cdd": {
          "model_module": "@jupyter-widgets/controls",
          "model_name": "HTMLModel",
          "model_module_version": "1.5.0",
          "state": {
            "_dom_classes": [],
            "_model_module": "@jupyter-widgets/controls",
            "_model_module_version": "1.5.0",
            "_model_name": "HTMLModel",
            "_view_count": null,
            "_view_module": "@jupyter-widgets/controls",
            "_view_module_version": "1.5.0",
            "_view_name": "HTMLView",
            "description": "",
            "description_tooltip": null,
            "layout": "IPY_MODEL_9e6db2364f8c455b9dc9d13e2c6f0ef0",
            "placeholder": "​",
            "style": "IPY_MODEL_0be52f9028414cf0a8486dd40ba9d1af",
            "value": " 301/301 [00:00&lt;00:00, 10.8kB/s]"
          }
        },
        "675b91b674b44a2b857b2ffe4b3509b3": {
          "model_module": "@jupyter-widgets/base",
          "model_name": "LayoutModel",
          "model_module_version": "1.2.0",
          "state": {
            "_model_module": "@jupyter-widgets/base",
            "_model_module_version": "1.2.0",
            "_model_name": "LayoutModel",
            "_view_count": null,
            "_view_module": "@jupyter-widgets/base",
            "_view_module_version": "1.2.0",
            "_view_name": "LayoutView",
            "align_content": null,
            "align_items": null,
            "align_self": null,
            "border": null,
            "bottom": null,
            "display": null,
            "flex": null,
            "flex_flow": null,
            "grid_area": null,
            "grid_auto_columns": null,
            "grid_auto_flow": null,
            "grid_auto_rows": null,
            "grid_column": null,
            "grid_gap": null,
            "grid_row": null,
            "grid_template_areas": null,
            "grid_template_columns": null,
            "grid_template_rows": null,
            "height": null,
            "justify_content": null,
            "justify_items": null,
            "left": null,
            "margin": null,
            "max_height": null,
            "max_width": null,
            "min_height": null,
            "min_width": null,
            "object_fit": null,
            "object_position": null,
            "order": null,
            "overflow": null,
            "overflow_x": null,
            "overflow_y": null,
            "padding": null,
            "right": null,
            "top": null,
            "visibility": null,
            "width": null
          }
        },
        "91f57ce7f57d476780de8f3ca5000ce8": {
          "model_module": "@jupyter-widgets/base",
          "model_name": "LayoutModel",
          "model_module_version": "1.2.0",
          "state": {
            "_model_module": "@jupyter-widgets/base",
            "_model_module_version": "1.2.0",
            "_model_name": "LayoutModel",
            "_view_count": null,
            "_view_module": "@jupyter-widgets/base",
            "_view_module_version": "1.2.0",
            "_view_name": "LayoutView",
            "align_content": null,
            "align_items": null,
            "align_self": null,
            "border": null,
            "bottom": null,
            "display": null,
            "flex": null,
            "flex_flow": null,
            "grid_area": null,
            "grid_auto_columns": null,
            "grid_auto_flow": null,
            "grid_auto_rows": null,
            "grid_column": null,
            "grid_gap": null,
            "grid_row": null,
            "grid_template_areas": null,
            "grid_template_columns": null,
            "grid_template_rows": null,
            "height": null,
            "justify_content": null,
            "justify_items": null,
            "left": null,
            "margin": null,
            "max_height": null,
            "max_width": null,
            "min_height": null,
            "min_width": null,
            "object_fit": null,
            "object_position": null,
            "order": null,
            "overflow": null,
            "overflow_x": null,
            "overflow_y": null,
            "padding": null,
            "right": null,
            "top": null,
            "visibility": null,
            "width": null
          }
        },
        "4d557c42de0b4405b6bcabd9d9b270eb": {
          "model_module": "@jupyter-widgets/controls",
          "model_name": "DescriptionStyleModel",
          "model_module_version": "1.5.0",
          "state": {
            "_model_module": "@jupyter-widgets/controls",
            "_model_module_version": "1.5.0",
            "_model_name": "DescriptionStyleModel",
            "_view_count": null,
            "_view_module": "@jupyter-widgets/base",
            "_view_module_version": "1.2.0",
            "_view_name": "StyleView",
            "description_width": ""
          }
        },
        "f67a83aa52b04e1c8f5358638a14b4b9": {
          "model_module": "@jupyter-widgets/base",
          "model_name": "LayoutModel",
          "model_module_version": "1.2.0",
          "state": {
            "_model_module": "@jupyter-widgets/base",
            "_model_module_version": "1.2.0",
            "_model_name": "LayoutModel",
            "_view_count": null,
            "_view_module": "@jupyter-widgets/base",
            "_view_module_version": "1.2.0",
            "_view_name": "LayoutView",
            "align_content": null,
            "align_items": null,
            "align_self": null,
            "border": null,
            "bottom": null,
            "display": null,
            "flex": null,
            "flex_flow": null,
            "grid_area": null,
            "grid_auto_columns": null,
            "grid_auto_flow": null,
            "grid_auto_rows": null,
            "grid_column": null,
            "grid_gap": null,
            "grid_row": null,
            "grid_template_areas": null,
            "grid_template_columns": null,
            "grid_template_rows": null,
            "height": null,
            "justify_content": null,
            "justify_items": null,
            "left": null,
            "margin": null,
            "max_height": null,
            "max_width": null,
            "min_height": null,
            "min_width": null,
            "object_fit": null,
            "object_position": null,
            "order": null,
            "overflow": null,
            "overflow_x": null,
            "overflow_y": null,
            "padding": null,
            "right": null,
            "top": null,
            "visibility": null,
            "width": null
          }
        },
        "774e7e1356a04943a201621f0c335207": {
          "model_module": "@jupyter-widgets/controls",
          "model_name": "ProgressStyleModel",
          "model_module_version": "1.5.0",
          "state": {
            "_model_module": "@jupyter-widgets/controls",
            "_model_module_version": "1.5.0",
            "_model_name": "ProgressStyleModel",
            "_view_count": null,
            "_view_module": "@jupyter-widgets/base",
            "_view_module_version": "1.2.0",
            "_view_name": "StyleView",
            "bar_color": null,
            "description_width": ""
          }
        },
        "9e6db2364f8c455b9dc9d13e2c6f0ef0": {
          "model_module": "@jupyter-widgets/base",
          "model_name": "LayoutModel",
          "model_module_version": "1.2.0",
          "state": {
            "_model_module": "@jupyter-widgets/base",
            "_model_module_version": "1.2.0",
            "_model_name": "LayoutModel",
            "_view_count": null,
            "_view_module": "@jupyter-widgets/base",
            "_view_module_version": "1.2.0",
            "_view_name": "LayoutView",
            "align_content": null,
            "align_items": null,
            "align_self": null,
            "border": null,
            "bottom": null,
            "display": null,
            "flex": null,
            "flex_flow": null,
            "grid_area": null,
            "grid_auto_columns": null,
            "grid_auto_flow": null,
            "grid_auto_rows": null,
            "grid_column": null,
            "grid_gap": null,
            "grid_row": null,
            "grid_template_areas": null,
            "grid_template_columns": null,
            "grid_template_rows": null,
            "height": null,
            "justify_content": null,
            "justify_items": null,
            "left": null,
            "margin": null,
            "max_height": null,
            "max_width": null,
            "min_height": null,
            "min_width": null,
            "object_fit": null,
            "object_position": null,
            "order": null,
            "overflow": null,
            "overflow_x": null,
            "overflow_y": null,
            "padding": null,
            "right": null,
            "top": null,
            "visibility": null,
            "width": null
          }
        },
        "0be52f9028414cf0a8486dd40ba9d1af": {
          "model_module": "@jupyter-widgets/controls",
          "model_name": "DescriptionStyleModel",
          "model_module_version": "1.5.0",
          "state": {
            "_model_module": "@jupyter-widgets/controls",
            "_model_module_version": "1.5.0",
            "_model_name": "DescriptionStyleModel",
            "_view_count": null,
            "_view_module": "@jupyter-widgets/base",
            "_view_module_version": "1.2.0",
            "_view_name": "StyleView",
            "description_width": ""
          }
        },
        "c571e96d789a4496afa2c078ead9f92c": {
          "model_module": "@jupyter-widgets/controls",
          "model_name": "HBoxModel",
          "model_module_version": "1.5.0",
          "state": {
            "_dom_classes": [],
            "_model_module": "@jupyter-widgets/controls",
            "_model_module_version": "1.5.0",
            "_model_name": "HBoxModel",
            "_view_count": null,
            "_view_module": "@jupyter-widgets/controls",
            "_view_module_version": "1.5.0",
            "_view_name": "HBoxView",
            "box_style": "",
            "children": [
              "IPY_MODEL_1877d901632c47d19c78554e5cc9b030",
              "IPY_MODEL_f7760f087fa54102b561286f23431c9f",
              "IPY_MODEL_cef4c18e358442f6aa30c6525de3f96e"
            ],
            "layout": "IPY_MODEL_372b8d74918a4936a15b197393f5cf58"
          }
        },
        "1877d901632c47d19c78554e5cc9b030": {
          "model_module": "@jupyter-widgets/controls",
          "model_name": "HTMLModel",
          "model_module_version": "1.5.0",
          "state": {
            "_dom_classes": [],
            "_model_module": "@jupyter-widgets/controls",
            "_model_module_version": "1.5.0",
            "_model_name": "HTMLModel",
            "_view_count": null,
            "_view_module": "@jupyter-widgets/controls",
            "_view_module_version": "1.5.0",
            "_view_name": "HTMLView",
            "description": "",
            "description_tooltip": null,
            "layout": "IPY_MODEL_dbd45939a73f40b6ac7085144d5aceca",
            "placeholder": "​",
            "style": "IPY_MODEL_dfc18e86a20b4ebb8b37453318d0fe2c",
            "value": "Map: 100%"
          }
        },
        "f7760f087fa54102b561286f23431c9f": {
          "model_module": "@jupyter-widgets/controls",
          "model_name": "FloatProgressModel",
          "model_module_version": "1.5.0",
          "state": {
            "_dom_classes": [],
            "_model_module": "@jupyter-widgets/controls",
            "_model_module_version": "1.5.0",
            "_model_name": "FloatProgressModel",
            "_view_count": null,
            "_view_module": "@jupyter-widgets/controls",
            "_view_module_version": "1.5.0",
            "_view_name": "ProgressView",
            "bar_style": "success",
            "description": "",
            "description_tooltip": null,
            "layout": "IPY_MODEL_602ce216d2c6470d82f12b53adcfb9c0",
            "max": 96,
            "min": 0,
            "orientation": "horizontal",
            "style": "IPY_MODEL_4f13dc0053ff4cdd892a4b70b7c2bc8c",
            "value": 96
          }
        },
        "cef4c18e358442f6aa30c6525de3f96e": {
          "model_module": "@jupyter-widgets/controls",
          "model_name": "HTMLModel",
          "model_module_version": "1.5.0",
          "state": {
            "_dom_classes": [],
            "_model_module": "@jupyter-widgets/controls",
            "_model_module_version": "1.5.0",
            "_model_name": "HTMLModel",
            "_view_count": null,
            "_view_module": "@jupyter-widgets/controls",
            "_view_module_version": "1.5.0",
            "_view_name": "HTMLView",
            "description": "",
            "description_tooltip": null,
            "layout": "IPY_MODEL_713b77e6aa4d4b0abba4f8dc2970f51f",
            "placeholder": "​",
            "style": "IPY_MODEL_b5495d99527f41bf9467e9258104eea0",
            "value": " 96/96 [00:00&lt;00:00, 176.94 examples/s]"
          }
        },
        "372b8d74918a4936a15b197393f5cf58": {
          "model_module": "@jupyter-widgets/base",
          "model_name": "LayoutModel",
          "model_module_version": "1.2.0",
          "state": {
            "_model_module": "@jupyter-widgets/base",
            "_model_module_version": "1.2.0",
            "_model_name": "LayoutModel",
            "_view_count": null,
            "_view_module": "@jupyter-widgets/base",
            "_view_module_version": "1.2.0",
            "_view_name": "LayoutView",
            "align_content": null,
            "align_items": null,
            "align_self": null,
            "border": null,
            "bottom": null,
            "display": null,
            "flex": null,
            "flex_flow": null,
            "grid_area": null,
            "grid_auto_columns": null,
            "grid_auto_flow": null,
            "grid_auto_rows": null,
            "grid_column": null,
            "grid_gap": null,
            "grid_row": null,
            "grid_template_areas": null,
            "grid_template_columns": null,
            "grid_template_rows": null,
            "height": null,
            "justify_content": null,
            "justify_items": null,
            "left": null,
            "margin": null,
            "max_height": null,
            "max_width": null,
            "min_height": null,
            "min_width": null,
            "object_fit": null,
            "object_position": null,
            "order": null,
            "overflow": null,
            "overflow_x": null,
            "overflow_y": null,
            "padding": null,
            "right": null,
            "top": null,
            "visibility": null,
            "width": null
          }
        },
        "dbd45939a73f40b6ac7085144d5aceca": {
          "model_module": "@jupyter-widgets/base",
          "model_name": "LayoutModel",
          "model_module_version": "1.2.0",
          "state": {
            "_model_module": "@jupyter-widgets/base",
            "_model_module_version": "1.2.0",
            "_model_name": "LayoutModel",
            "_view_count": null,
            "_view_module": "@jupyter-widgets/base",
            "_view_module_version": "1.2.0",
            "_view_name": "LayoutView",
            "align_content": null,
            "align_items": null,
            "align_self": null,
            "border": null,
            "bottom": null,
            "display": null,
            "flex": null,
            "flex_flow": null,
            "grid_area": null,
            "grid_auto_columns": null,
            "grid_auto_flow": null,
            "grid_auto_rows": null,
            "grid_column": null,
            "grid_gap": null,
            "grid_row": null,
            "grid_template_areas": null,
            "grid_template_columns": null,
            "grid_template_rows": null,
            "height": null,
            "justify_content": null,
            "justify_items": null,
            "left": null,
            "margin": null,
            "max_height": null,
            "max_width": null,
            "min_height": null,
            "min_width": null,
            "object_fit": null,
            "object_position": null,
            "order": null,
            "overflow": null,
            "overflow_x": null,
            "overflow_y": null,
            "padding": null,
            "right": null,
            "top": null,
            "visibility": null,
            "width": null
          }
        },
        "dfc18e86a20b4ebb8b37453318d0fe2c": {
          "model_module": "@jupyter-widgets/controls",
          "model_name": "DescriptionStyleModel",
          "model_module_version": "1.5.0",
          "state": {
            "_model_module": "@jupyter-widgets/controls",
            "_model_module_version": "1.5.0",
            "_model_name": "DescriptionStyleModel",
            "_view_count": null,
            "_view_module": "@jupyter-widgets/base",
            "_view_module_version": "1.2.0",
            "_view_name": "StyleView",
            "description_width": ""
          }
        },
        "602ce216d2c6470d82f12b53adcfb9c0": {
          "model_module": "@jupyter-widgets/base",
          "model_name": "LayoutModel",
          "model_module_version": "1.2.0",
          "state": {
            "_model_module": "@jupyter-widgets/base",
            "_model_module_version": "1.2.0",
            "_model_name": "LayoutModel",
            "_view_count": null,
            "_view_module": "@jupyter-widgets/base",
            "_view_module_version": "1.2.0",
            "_view_name": "LayoutView",
            "align_content": null,
            "align_items": null,
            "align_self": null,
            "border": null,
            "bottom": null,
            "display": null,
            "flex": null,
            "flex_flow": null,
            "grid_area": null,
            "grid_auto_columns": null,
            "grid_auto_flow": null,
            "grid_auto_rows": null,
            "grid_column": null,
            "grid_gap": null,
            "grid_row": null,
            "grid_template_areas": null,
            "grid_template_columns": null,
            "grid_template_rows": null,
            "height": null,
            "justify_content": null,
            "justify_items": null,
            "left": null,
            "margin": null,
            "max_height": null,
            "max_width": null,
            "min_height": null,
            "min_width": null,
            "object_fit": null,
            "object_position": null,
            "order": null,
            "overflow": null,
            "overflow_x": null,
            "overflow_y": null,
            "padding": null,
            "right": null,
            "top": null,
            "visibility": null,
            "width": null
          }
        },
        "4f13dc0053ff4cdd892a4b70b7c2bc8c": {
          "model_module": "@jupyter-widgets/controls",
          "model_name": "ProgressStyleModel",
          "model_module_version": "1.5.0",
          "state": {
            "_model_module": "@jupyter-widgets/controls",
            "_model_module_version": "1.5.0",
            "_model_name": "ProgressStyleModel",
            "_view_count": null,
            "_view_module": "@jupyter-widgets/base",
            "_view_module_version": "1.2.0",
            "_view_name": "StyleView",
            "bar_color": null,
            "description_width": ""
          }
        },
        "713b77e6aa4d4b0abba4f8dc2970f51f": {
          "model_module": "@jupyter-widgets/base",
          "model_name": "LayoutModel",
          "model_module_version": "1.2.0",
          "state": {
            "_model_module": "@jupyter-widgets/base",
            "_model_module_version": "1.2.0",
            "_model_name": "LayoutModel",
            "_view_count": null,
            "_view_module": "@jupyter-widgets/base",
            "_view_module_version": "1.2.0",
            "_view_name": "LayoutView",
            "align_content": null,
            "align_items": null,
            "align_self": null,
            "border": null,
            "bottom": null,
            "display": null,
            "flex": null,
            "flex_flow": null,
            "grid_area": null,
            "grid_auto_columns": null,
            "grid_auto_flow": null,
            "grid_auto_rows": null,
            "grid_column": null,
            "grid_gap": null,
            "grid_row": null,
            "grid_template_areas": null,
            "grid_template_columns": null,
            "grid_template_rows": null,
            "height": null,
            "justify_content": null,
            "justify_items": null,
            "left": null,
            "margin": null,
            "max_height": null,
            "max_width": null,
            "min_height": null,
            "min_width": null,
            "object_fit": null,
            "object_position": null,
            "order": null,
            "overflow": null,
            "overflow_x": null,
            "overflow_y": null,
            "padding": null,
            "right": null,
            "top": null,
            "visibility": null,
            "width": null
          }
        },
        "b5495d99527f41bf9467e9258104eea0": {
          "model_module": "@jupyter-widgets/controls",
          "model_name": "DescriptionStyleModel",
          "model_module_version": "1.5.0",
          "state": {
            "_model_module": "@jupyter-widgets/controls",
            "_model_module_version": "1.5.0",
            "_model_name": "DescriptionStyleModel",
            "_view_count": null,
            "_view_module": "@jupyter-widgets/base",
            "_view_module_version": "1.2.0",
            "_view_name": "StyleView",
            "description_width": ""
          }
        },
        "7ecbeaa325124b689d95b3206e417272": {
          "model_module": "@jupyter-widgets/controls",
          "model_name": "HBoxModel",
          "model_module_version": "1.5.0",
          "state": {
            "_dom_classes": [],
            "_model_module": "@jupyter-widgets/controls",
            "_model_module_version": "1.5.0",
            "_model_name": "HBoxModel",
            "_view_count": null,
            "_view_module": "@jupyter-widgets/controls",
            "_view_module_version": "1.5.0",
            "_view_name": "HBoxView",
            "box_style": "",
            "children": [
              "IPY_MODEL_4b6807f1947e46ad942b45c385f7ca1d",
              "IPY_MODEL_423dbdc4ee444d0181d088c2ac2b99aa",
              "IPY_MODEL_812aee9cc022466e9991321df7e5af88"
            ],
            "layout": "IPY_MODEL_ac022ac909d74956b5f2aabf2129f7ec"
          }
        },
        "4b6807f1947e46ad942b45c385f7ca1d": {
          "model_module": "@jupyter-widgets/controls",
          "model_name": "HTMLModel",
          "model_module_version": "1.5.0",
          "state": {
            "_dom_classes": [],
            "_model_module": "@jupyter-widgets/controls",
            "_model_module_version": "1.5.0",
            "_model_name": "HTMLModel",
            "_view_count": null,
            "_view_module": "@jupyter-widgets/controls",
            "_view_module_version": "1.5.0",
            "_view_name": "HTMLView",
            "description": "",
            "description_tooltip": null,
            "layout": "IPY_MODEL_b99ab9507dbe45608c9c59eb2c43fa46",
            "placeholder": "​",
            "style": "IPY_MODEL_80e911d3610a49c68281404af4d599ab",
            "value": "Map: 100%"
          }
        },
        "423dbdc4ee444d0181d088c2ac2b99aa": {
          "model_module": "@jupyter-widgets/controls",
          "model_name": "FloatProgressModel",
          "model_module_version": "1.5.0",
          "state": {
            "_dom_classes": [],
            "_model_module": "@jupyter-widgets/controls",
            "_model_module_version": "1.5.0",
            "_model_name": "FloatProgressModel",
            "_view_count": null,
            "_view_module": "@jupyter-widgets/controls",
            "_view_module_version": "1.5.0",
            "_view_name": "ProgressView",
            "bar_style": "success",
            "description": "",
            "description_tooltip": null,
            "layout": "IPY_MODEL_88a94bc3415c4286bbd278b8034de18b",
            "max": 24,
            "min": 0,
            "orientation": "horizontal",
            "style": "IPY_MODEL_6ac227202a874b578bb3b259c320b55c",
            "value": 24
          }
        },
        "812aee9cc022466e9991321df7e5af88": {
          "model_module": "@jupyter-widgets/controls",
          "model_name": "HTMLModel",
          "model_module_version": "1.5.0",
          "state": {
            "_dom_classes": [],
            "_model_module": "@jupyter-widgets/controls",
            "_model_module_version": "1.5.0",
            "_model_name": "HTMLModel",
            "_view_count": null,
            "_view_module": "@jupyter-widgets/controls",
            "_view_module_version": "1.5.0",
            "_view_name": "HTMLView",
            "description": "",
            "description_tooltip": null,
            "layout": "IPY_MODEL_f14693cb9bfa44c2ba8a03720e09ff03",
            "placeholder": "​",
            "style": "IPY_MODEL_7cd9e80035aa4d10a06fc6c7199d4335",
            "value": " 24/24 [00:00&lt;00:00, 170.10 examples/s]"
          }
        },
        "ac022ac909d74956b5f2aabf2129f7ec": {
          "model_module": "@jupyter-widgets/base",
          "model_name": "LayoutModel",
          "model_module_version": "1.2.0",
          "state": {
            "_model_module": "@jupyter-widgets/base",
            "_model_module_version": "1.2.0",
            "_model_name": "LayoutModel",
            "_view_count": null,
            "_view_module": "@jupyter-widgets/base",
            "_view_module_version": "1.2.0",
            "_view_name": "LayoutView",
            "align_content": null,
            "align_items": null,
            "align_self": null,
            "border": null,
            "bottom": null,
            "display": null,
            "flex": null,
            "flex_flow": null,
            "grid_area": null,
            "grid_auto_columns": null,
            "grid_auto_flow": null,
            "grid_auto_rows": null,
            "grid_column": null,
            "grid_gap": null,
            "grid_row": null,
            "grid_template_areas": null,
            "grid_template_columns": null,
            "grid_template_rows": null,
            "height": null,
            "justify_content": null,
            "justify_items": null,
            "left": null,
            "margin": null,
            "max_height": null,
            "max_width": null,
            "min_height": null,
            "min_width": null,
            "object_fit": null,
            "object_position": null,
            "order": null,
            "overflow": null,
            "overflow_x": null,
            "overflow_y": null,
            "padding": null,
            "right": null,
            "top": null,
            "visibility": null,
            "width": null
          }
        },
        "b99ab9507dbe45608c9c59eb2c43fa46": {
          "model_module": "@jupyter-widgets/base",
          "model_name": "LayoutModel",
          "model_module_version": "1.2.0",
          "state": {
            "_model_module": "@jupyter-widgets/base",
            "_model_module_version": "1.2.0",
            "_model_name": "LayoutModel",
            "_view_count": null,
            "_view_module": "@jupyter-widgets/base",
            "_view_module_version": "1.2.0",
            "_view_name": "LayoutView",
            "align_content": null,
            "align_items": null,
            "align_self": null,
            "border": null,
            "bottom": null,
            "display": null,
            "flex": null,
            "flex_flow": null,
            "grid_area": null,
            "grid_auto_columns": null,
            "grid_auto_flow": null,
            "grid_auto_rows": null,
            "grid_column": null,
            "grid_gap": null,
            "grid_row": null,
            "grid_template_areas": null,
            "grid_template_columns": null,
            "grid_template_rows": null,
            "height": null,
            "justify_content": null,
            "justify_items": null,
            "left": null,
            "margin": null,
            "max_height": null,
            "max_width": null,
            "min_height": null,
            "min_width": null,
            "object_fit": null,
            "object_position": null,
            "order": null,
            "overflow": null,
            "overflow_x": null,
            "overflow_y": null,
            "padding": null,
            "right": null,
            "top": null,
            "visibility": null,
            "width": null
          }
        },
        "80e911d3610a49c68281404af4d599ab": {
          "model_module": "@jupyter-widgets/controls",
          "model_name": "DescriptionStyleModel",
          "model_module_version": "1.5.0",
          "state": {
            "_model_module": "@jupyter-widgets/controls",
            "_model_module_version": "1.5.0",
            "_model_name": "DescriptionStyleModel",
            "_view_count": null,
            "_view_module": "@jupyter-widgets/base",
            "_view_module_version": "1.2.0",
            "_view_name": "StyleView",
            "description_width": ""
          }
        },
        "88a94bc3415c4286bbd278b8034de18b": {
          "model_module": "@jupyter-widgets/base",
          "model_name": "LayoutModel",
          "model_module_version": "1.2.0",
          "state": {
            "_model_module": "@jupyter-widgets/base",
            "_model_module_version": "1.2.0",
            "_model_name": "LayoutModel",
            "_view_count": null,
            "_view_module": "@jupyter-widgets/base",
            "_view_module_version": "1.2.0",
            "_view_name": "LayoutView",
            "align_content": null,
            "align_items": null,
            "align_self": null,
            "border": null,
            "bottom": null,
            "display": null,
            "flex": null,
            "flex_flow": null,
            "grid_area": null,
            "grid_auto_columns": null,
            "grid_auto_flow": null,
            "grid_auto_rows": null,
            "grid_column": null,
            "grid_gap": null,
            "grid_row": null,
            "grid_template_areas": null,
            "grid_template_columns": null,
            "grid_template_rows": null,
            "height": null,
            "justify_content": null,
            "justify_items": null,
            "left": null,
            "margin": null,
            "max_height": null,
            "max_width": null,
            "min_height": null,
            "min_width": null,
            "object_fit": null,
            "object_position": null,
            "order": null,
            "overflow": null,
            "overflow_x": null,
            "overflow_y": null,
            "padding": null,
            "right": null,
            "top": null,
            "visibility": null,
            "width": null
          }
        },
        "6ac227202a874b578bb3b259c320b55c": {
          "model_module": "@jupyter-widgets/controls",
          "model_name": "ProgressStyleModel",
          "model_module_version": "1.5.0",
          "state": {
            "_model_module": "@jupyter-widgets/controls",
            "_model_module_version": "1.5.0",
            "_model_name": "ProgressStyleModel",
            "_view_count": null,
            "_view_module": "@jupyter-widgets/base",
            "_view_module_version": "1.2.0",
            "_view_name": "StyleView",
            "bar_color": null,
            "description_width": ""
          }
        },
        "f14693cb9bfa44c2ba8a03720e09ff03": {
          "model_module": "@jupyter-widgets/base",
          "model_name": "LayoutModel",
          "model_module_version": "1.2.0",
          "state": {
            "_model_module": "@jupyter-widgets/base",
            "_model_module_version": "1.2.0",
            "_model_name": "LayoutModel",
            "_view_count": null,
            "_view_module": "@jupyter-widgets/base",
            "_view_module_version": "1.2.0",
            "_view_name": "LayoutView",
            "align_content": null,
            "align_items": null,
            "align_self": null,
            "border": null,
            "bottom": null,
            "display": null,
            "flex": null,
            "flex_flow": null,
            "grid_area": null,
            "grid_auto_columns": null,
            "grid_auto_flow": null,
            "grid_auto_rows": null,
            "grid_column": null,
            "grid_gap": null,
            "grid_row": null,
            "grid_template_areas": null,
            "grid_template_columns": null,
            "grid_template_rows": null,
            "height": null,
            "justify_content": null,
            "justify_items": null,
            "left": null,
            "margin": null,
            "max_height": null,
            "max_width": null,
            "min_height": null,
            "min_width": null,
            "object_fit": null,
            "object_position": null,
            "order": null,
            "overflow": null,
            "overflow_x": null,
            "overflow_y": null,
            "padding": null,
            "right": null,
            "top": null,
            "visibility": null,
            "width": null
          }
        },
        "7cd9e80035aa4d10a06fc6c7199d4335": {
          "model_module": "@jupyter-widgets/controls",
          "model_name": "DescriptionStyleModel",
          "model_module_version": "1.5.0",
          "state": {
            "_model_module": "@jupyter-widgets/controls",
            "_model_module_version": "1.5.0",
            "_model_name": "DescriptionStyleModel",
            "_view_count": null,
            "_view_module": "@jupyter-widgets/base",
            "_view_module_version": "1.2.0",
            "_view_name": "StyleView",
            "description_width": ""
          }
        },
        "2cb25a4fb57e493e96a04c9a89285433": {
          "model_module": "@jupyter-widgets/controls",
          "model_name": "HBoxModel",
          "model_module_version": "1.5.0",
          "state": {
            "_dom_classes": [],
            "_model_module": "@jupyter-widgets/controls",
            "_model_module_version": "1.5.0",
            "_model_name": "HBoxModel",
            "_view_count": null,
            "_view_module": "@jupyter-widgets/controls",
            "_view_module_version": "1.5.0",
            "_view_name": "HBoxView",
            "box_style": "",
            "children": [
              "IPY_MODEL_e68664d7c0834c9297948c1afdfbe672",
              "IPY_MODEL_20824fe0d1e44a3bb311d293b3a58805",
              "IPY_MODEL_8b0cd687031c485495c5fdd00484cfc6"
            ],
            "layout": "IPY_MODEL_bbc455ab2bde4b5993caa81ff4c22fb2"
          }
        },
        "e68664d7c0834c9297948c1afdfbe672": {
          "model_module": "@jupyter-widgets/controls",
          "model_name": "HTMLModel",
          "model_module_version": "1.5.0",
          "state": {
            "_dom_classes": [],
            "_model_module": "@jupyter-widgets/controls",
            "_model_module_version": "1.5.0",
            "_model_name": "HTMLModel",
            "_view_count": null,
            "_view_module": "@jupyter-widgets/controls",
            "_view_module_version": "1.5.0",
            "_view_name": "HTMLView",
            "description": "",
            "description_tooltip": null,
            "layout": "IPY_MODEL_d460b9cebce248f8a812dafff79d0120",
            "placeholder": "​",
            "style": "IPY_MODEL_ede4ae9cd7c543f8856deb3568b75f81",
            "value": "config.json: 100%"
          }
        },
        "20824fe0d1e44a3bb311d293b3a58805": {
          "model_module": "@jupyter-widgets/controls",
          "model_name": "FloatProgressModel",
          "model_module_version": "1.5.0",
          "state": {
            "_dom_classes": [],
            "_model_module": "@jupyter-widgets/controls",
            "_model_module_version": "1.5.0",
            "_model_name": "FloatProgressModel",
            "_view_count": null,
            "_view_module": "@jupyter-widgets/controls",
            "_view_module_version": "1.5.0",
            "_view_name": "ProgressView",
            "bar_style": "success",
            "description": "",
            "description_tooltip": null,
            "layout": "IPY_MODEL_5427b78c0cd04a89a85a5505139851ee",
            "max": 843,
            "min": 0,
            "orientation": "horizontal",
            "style": "IPY_MODEL_06b3a43803ea4b1986caa1e3f98ef425",
            "value": 843
          }
        },
        "8b0cd687031c485495c5fdd00484cfc6": {
          "model_module": "@jupyter-widgets/controls",
          "model_name": "HTMLModel",
          "model_module_version": "1.5.0",
          "state": {
            "_dom_classes": [],
            "_model_module": "@jupyter-widgets/controls",
            "_model_module_version": "1.5.0",
            "_model_name": "HTMLModel",
            "_view_count": null,
            "_view_module": "@jupyter-widgets/controls",
            "_view_module_version": "1.5.0",
            "_view_name": "HTMLView",
            "description": "",
            "description_tooltip": null,
            "layout": "IPY_MODEL_01e1202391cf4955b9565bf5696764e1",
            "placeholder": "​",
            "style": "IPY_MODEL_94e1dc5926b34988a52034da624aec3e",
            "value": " 843/843 [00:00&lt;00:00, 24.8kB/s]"
          }
        },
        "bbc455ab2bde4b5993caa81ff4c22fb2": {
          "model_module": "@jupyter-widgets/base",
          "model_name": "LayoutModel",
          "model_module_version": "1.2.0",
          "state": {
            "_model_module": "@jupyter-widgets/base",
            "_model_module_version": "1.2.0",
            "_model_name": "LayoutModel",
            "_view_count": null,
            "_view_module": "@jupyter-widgets/base",
            "_view_module_version": "1.2.0",
            "_view_name": "LayoutView",
            "align_content": null,
            "align_items": null,
            "align_self": null,
            "border": null,
            "bottom": null,
            "display": null,
            "flex": null,
            "flex_flow": null,
            "grid_area": null,
            "grid_auto_columns": null,
            "grid_auto_flow": null,
            "grid_auto_rows": null,
            "grid_column": null,
            "grid_gap": null,
            "grid_row": null,
            "grid_template_areas": null,
            "grid_template_columns": null,
            "grid_template_rows": null,
            "height": null,
            "justify_content": null,
            "justify_items": null,
            "left": null,
            "margin": null,
            "max_height": null,
            "max_width": null,
            "min_height": null,
            "min_width": null,
            "object_fit": null,
            "object_position": null,
            "order": null,
            "overflow": null,
            "overflow_x": null,
            "overflow_y": null,
            "padding": null,
            "right": null,
            "top": null,
            "visibility": null,
            "width": null
          }
        },
        "d460b9cebce248f8a812dafff79d0120": {
          "model_module": "@jupyter-widgets/base",
          "model_name": "LayoutModel",
          "model_module_version": "1.2.0",
          "state": {
            "_model_module": "@jupyter-widgets/base",
            "_model_module_version": "1.2.0",
            "_model_name": "LayoutModel",
            "_view_count": null,
            "_view_module": "@jupyter-widgets/base",
            "_view_module_version": "1.2.0",
            "_view_name": "LayoutView",
            "align_content": null,
            "align_items": null,
            "align_self": null,
            "border": null,
            "bottom": null,
            "display": null,
            "flex": null,
            "flex_flow": null,
            "grid_area": null,
            "grid_auto_columns": null,
            "grid_auto_flow": null,
            "grid_auto_rows": null,
            "grid_column": null,
            "grid_gap": null,
            "grid_row": null,
            "grid_template_areas": null,
            "grid_template_columns": null,
            "grid_template_rows": null,
            "height": null,
            "justify_content": null,
            "justify_items": null,
            "left": null,
            "margin": null,
            "max_height": null,
            "max_width": null,
            "min_height": null,
            "min_width": null,
            "object_fit": null,
            "object_position": null,
            "order": null,
            "overflow": null,
            "overflow_x": null,
            "overflow_y": null,
            "padding": null,
            "right": null,
            "top": null,
            "visibility": null,
            "width": null
          }
        },
        "ede4ae9cd7c543f8856deb3568b75f81": {
          "model_module": "@jupyter-widgets/controls",
          "model_name": "DescriptionStyleModel",
          "model_module_version": "1.5.0",
          "state": {
            "_model_module": "@jupyter-widgets/controls",
            "_model_module_version": "1.5.0",
            "_model_name": "DescriptionStyleModel",
            "_view_count": null,
            "_view_module": "@jupyter-widgets/base",
            "_view_module_version": "1.2.0",
            "_view_name": "StyleView",
            "description_width": ""
          }
        },
        "5427b78c0cd04a89a85a5505139851ee": {
          "model_module": "@jupyter-widgets/base",
          "model_name": "LayoutModel",
          "model_module_version": "1.2.0",
          "state": {
            "_model_module": "@jupyter-widgets/base",
            "_model_module_version": "1.2.0",
            "_model_name": "LayoutModel",
            "_view_count": null,
            "_view_module": "@jupyter-widgets/base",
            "_view_module_version": "1.2.0",
            "_view_name": "LayoutView",
            "align_content": null,
            "align_items": null,
            "align_self": null,
            "border": null,
            "bottom": null,
            "display": null,
            "flex": null,
            "flex_flow": null,
            "grid_area": null,
            "grid_auto_columns": null,
            "grid_auto_flow": null,
            "grid_auto_rows": null,
            "grid_column": null,
            "grid_gap": null,
            "grid_row": null,
            "grid_template_areas": null,
            "grid_template_columns": null,
            "grid_template_rows": null,
            "height": null,
            "justify_content": null,
            "justify_items": null,
            "left": null,
            "margin": null,
            "max_height": null,
            "max_width": null,
            "min_height": null,
            "min_width": null,
            "object_fit": null,
            "object_position": null,
            "order": null,
            "overflow": null,
            "overflow_x": null,
            "overflow_y": null,
            "padding": null,
            "right": null,
            "top": null,
            "visibility": null,
            "width": null
          }
        },
        "06b3a43803ea4b1986caa1e3f98ef425": {
          "model_module": "@jupyter-widgets/controls",
          "model_name": "ProgressStyleModel",
          "model_module_version": "1.5.0",
          "state": {
            "_model_module": "@jupyter-widgets/controls",
            "_model_module_version": "1.5.0",
            "_model_name": "ProgressStyleModel",
            "_view_count": null,
            "_view_module": "@jupyter-widgets/base",
            "_view_module_version": "1.2.0",
            "_view_name": "StyleView",
            "bar_color": null,
            "description_width": ""
          }
        },
        "01e1202391cf4955b9565bf5696764e1": {
          "model_module": "@jupyter-widgets/base",
          "model_name": "LayoutModel",
          "model_module_version": "1.2.0",
          "state": {
            "_model_module": "@jupyter-widgets/base",
            "_model_module_version": "1.2.0",
            "_model_name": "LayoutModel",
            "_view_count": null,
            "_view_module": "@jupyter-widgets/base",
            "_view_module_version": "1.2.0",
            "_view_name": "LayoutView",
            "align_content": null,
            "align_items": null,
            "align_self": null,
            "border": null,
            "bottom": null,
            "display": null,
            "flex": null,
            "flex_flow": null,
            "grid_area": null,
            "grid_auto_columns": null,
            "grid_auto_flow": null,
            "grid_auto_rows": null,
            "grid_column": null,
            "grid_gap": null,
            "grid_row": null,
            "grid_template_areas": null,
            "grid_template_columns": null,
            "grid_template_rows": null,
            "height": null,
            "justify_content": null,
            "justify_items": null,
            "left": null,
            "margin": null,
            "max_height": null,
            "max_width": null,
            "min_height": null,
            "min_width": null,
            "object_fit": null,
            "object_position": null,
            "order": null,
            "overflow": null,
            "overflow_x": null,
            "overflow_y": null,
            "padding": null,
            "right": null,
            "top": null,
            "visibility": null,
            "width": null
          }
        },
        "94e1dc5926b34988a52034da624aec3e": {
          "model_module": "@jupyter-widgets/controls",
          "model_name": "DescriptionStyleModel",
          "model_module_version": "1.5.0",
          "state": {
            "_model_module": "@jupyter-widgets/controls",
            "_model_module_version": "1.5.0",
            "_model_name": "DescriptionStyleModel",
            "_view_count": null,
            "_view_module": "@jupyter-widgets/base",
            "_view_module_version": "1.2.0",
            "_view_name": "StyleView",
            "description_width": ""
          }
        },
        "17dea03a0839482a925ccd25875f9043": {
          "model_module": "@jupyter-widgets/controls",
          "model_name": "HBoxModel",
          "model_module_version": "1.5.0",
          "state": {
            "_dom_classes": [],
            "_model_module": "@jupyter-widgets/controls",
            "_model_module_version": "1.5.0",
            "_model_name": "HBoxModel",
            "_view_count": null,
            "_view_module": "@jupyter-widgets/controls",
            "_view_module_version": "1.5.0",
            "_view_name": "HBoxView",
            "box_style": "",
            "children": [
              "IPY_MODEL_13437d524bb64ec5a96ce3aa189c8bf6",
              "IPY_MODEL_0dd49013a13442b09acbaf38a7ef2859",
              "IPY_MODEL_fb35e11084b448f5a9caa73f754a5667"
            ],
            "layout": "IPY_MODEL_a5fb94c0a6884c418628c6c10c5d1d3e"
          }
        },
        "13437d524bb64ec5a96ce3aa189c8bf6": {
          "model_module": "@jupyter-widgets/controls",
          "model_name": "HTMLModel",
          "model_module_version": "1.5.0",
          "state": {
            "_dom_classes": [],
            "_model_module": "@jupyter-widgets/controls",
            "_model_module_version": "1.5.0",
            "_model_name": "HTMLModel",
            "_view_count": null,
            "_view_module": "@jupyter-widgets/controls",
            "_view_module_version": "1.5.0",
            "_view_name": "HTMLView",
            "description": "",
            "description_tooltip": null,
            "layout": "IPY_MODEL_8a07cbea16c543f389488c35411bc819",
            "placeholder": "​",
            "style": "IPY_MODEL_5c63b5c65f2941cdb468257d22dbc01e",
            "value": "model.safetensors: 100%"
          }
        },
        "0dd49013a13442b09acbaf38a7ef2859": {
          "model_module": "@jupyter-widgets/controls",
          "model_name": "FloatProgressModel",
          "model_module_version": "1.5.0",
          "state": {
            "_dom_classes": [],
            "_model_module": "@jupyter-widgets/controls",
            "_model_module_version": "1.5.0",
            "_model_name": "FloatProgressModel",
            "_view_count": null,
            "_view_module": "@jupyter-widgets/controls",
            "_view_module_version": "1.5.0",
            "_view_name": "ProgressView",
            "bar_style": "success",
            "description": "",
            "description_tooltip": null,
            "layout": "IPY_MODEL_1554423dc59f47b1a386485acc045621",
            "max": 2471645608,
            "min": 0,
            "orientation": "horizontal",
            "style": "IPY_MODEL_ad72b2eaa64b4d5f9ba2160bc31fc34a",
            "value": 2471645608
          }
        },
        "fb35e11084b448f5a9caa73f754a5667": {
          "model_module": "@jupyter-widgets/controls",
          "model_name": "HTMLModel",
          "model_module_version": "1.5.0",
          "state": {
            "_dom_classes": [],
            "_model_module": "@jupyter-widgets/controls",
            "_model_module_version": "1.5.0",
            "_model_name": "HTMLModel",
            "_view_count": null,
            "_view_module": "@jupyter-widgets/controls",
            "_view_module_version": "1.5.0",
            "_view_name": "HTMLView",
            "description": "",
            "description_tooltip": null,
            "layout": "IPY_MODEL_96240faf72ff42019c5878b01ba25748",
            "placeholder": "​",
            "style": "IPY_MODEL_682b443ed15c4ee4bb75b87c1b70c97b",
            "value": " 2.47G/2.47G [00:51&lt;00:00, 27.6MB/s]"
          }
        },
        "a5fb94c0a6884c418628c6c10c5d1d3e": {
          "model_module": "@jupyter-widgets/base",
          "model_name": "LayoutModel",
          "model_module_version": "1.2.0",
          "state": {
            "_model_module": "@jupyter-widgets/base",
            "_model_module_version": "1.2.0",
            "_model_name": "LayoutModel",
            "_view_count": null,
            "_view_module": "@jupyter-widgets/base",
            "_view_module_version": "1.2.0",
            "_view_name": "LayoutView",
            "align_content": null,
            "align_items": null,
            "align_self": null,
            "border": null,
            "bottom": null,
            "display": null,
            "flex": null,
            "flex_flow": null,
            "grid_area": null,
            "grid_auto_columns": null,
            "grid_auto_flow": null,
            "grid_auto_rows": null,
            "grid_column": null,
            "grid_gap": null,
            "grid_row": null,
            "grid_template_areas": null,
            "grid_template_columns": null,
            "grid_template_rows": null,
            "height": null,
            "justify_content": null,
            "justify_items": null,
            "left": null,
            "margin": null,
            "max_height": null,
            "max_width": null,
            "min_height": null,
            "min_width": null,
            "object_fit": null,
            "object_position": null,
            "order": null,
            "overflow": null,
            "overflow_x": null,
            "overflow_y": null,
            "padding": null,
            "right": null,
            "top": null,
            "visibility": null,
            "width": null
          }
        },
        "8a07cbea16c543f389488c35411bc819": {
          "model_module": "@jupyter-widgets/base",
          "model_name": "LayoutModel",
          "model_module_version": "1.2.0",
          "state": {
            "_model_module": "@jupyter-widgets/base",
            "_model_module_version": "1.2.0",
            "_model_name": "LayoutModel",
            "_view_count": null,
            "_view_module": "@jupyter-widgets/base",
            "_view_module_version": "1.2.0",
            "_view_name": "LayoutView",
            "align_content": null,
            "align_items": null,
            "align_self": null,
            "border": null,
            "bottom": null,
            "display": null,
            "flex": null,
            "flex_flow": null,
            "grid_area": null,
            "grid_auto_columns": null,
            "grid_auto_flow": null,
            "grid_auto_rows": null,
            "grid_column": null,
            "grid_gap": null,
            "grid_row": null,
            "grid_template_areas": null,
            "grid_template_columns": null,
            "grid_template_rows": null,
            "height": null,
            "justify_content": null,
            "justify_items": null,
            "left": null,
            "margin": null,
            "max_height": null,
            "max_width": null,
            "min_height": null,
            "min_width": null,
            "object_fit": null,
            "object_position": null,
            "order": null,
            "overflow": null,
            "overflow_x": null,
            "overflow_y": null,
            "padding": null,
            "right": null,
            "top": null,
            "visibility": null,
            "width": null
          }
        },
        "5c63b5c65f2941cdb468257d22dbc01e": {
          "model_module": "@jupyter-widgets/controls",
          "model_name": "DescriptionStyleModel",
          "model_module_version": "1.5.0",
          "state": {
            "_model_module": "@jupyter-widgets/controls",
            "_model_module_version": "1.5.0",
            "_model_name": "DescriptionStyleModel",
            "_view_count": null,
            "_view_module": "@jupyter-widgets/base",
            "_view_module_version": "1.2.0",
            "_view_name": "StyleView",
            "description_width": ""
          }
        },
        "1554423dc59f47b1a386485acc045621": {
          "model_module": "@jupyter-widgets/base",
          "model_name": "LayoutModel",
          "model_module_version": "1.2.0",
          "state": {
            "_model_module": "@jupyter-widgets/base",
            "_model_module_version": "1.2.0",
            "_model_name": "LayoutModel",
            "_view_count": null,
            "_view_module": "@jupyter-widgets/base",
            "_view_module_version": "1.2.0",
            "_view_name": "LayoutView",
            "align_content": null,
            "align_items": null,
            "align_self": null,
            "border": null,
            "bottom": null,
            "display": null,
            "flex": null,
            "flex_flow": null,
            "grid_area": null,
            "grid_auto_columns": null,
            "grid_auto_flow": null,
            "grid_auto_rows": null,
            "grid_column": null,
            "grid_gap": null,
            "grid_row": null,
            "grid_template_areas": null,
            "grid_template_columns": null,
            "grid_template_rows": null,
            "height": null,
            "justify_content": null,
            "justify_items": null,
            "left": null,
            "margin": null,
            "max_height": null,
            "max_width": null,
            "min_height": null,
            "min_width": null,
            "object_fit": null,
            "object_position": null,
            "order": null,
            "overflow": null,
            "overflow_x": null,
            "overflow_y": null,
            "padding": null,
            "right": null,
            "top": null,
            "visibility": null,
            "width": null
          }
        },
        "ad72b2eaa64b4d5f9ba2160bc31fc34a": {
          "model_module": "@jupyter-widgets/controls",
          "model_name": "ProgressStyleModel",
          "model_module_version": "1.5.0",
          "state": {
            "_model_module": "@jupyter-widgets/controls",
            "_model_module_version": "1.5.0",
            "_model_name": "ProgressStyleModel",
            "_view_count": null,
            "_view_module": "@jupyter-widgets/base",
            "_view_module_version": "1.2.0",
            "_view_name": "StyleView",
            "bar_color": null,
            "description_width": ""
          }
        },
        "96240faf72ff42019c5878b01ba25748": {
          "model_module": "@jupyter-widgets/base",
          "model_name": "LayoutModel",
          "model_module_version": "1.2.0",
          "state": {
            "_model_module": "@jupyter-widgets/base",
            "_model_module_version": "1.2.0",
            "_model_name": "LayoutModel",
            "_view_count": null,
            "_view_module": "@jupyter-widgets/base",
            "_view_module_version": "1.2.0",
            "_view_name": "LayoutView",
            "align_content": null,
            "align_items": null,
            "align_self": null,
            "border": null,
            "bottom": null,
            "display": null,
            "flex": null,
            "flex_flow": null,
            "grid_area": null,
            "grid_auto_columns": null,
            "grid_auto_flow": null,
            "grid_auto_rows": null,
            "grid_column": null,
            "grid_gap": null,
            "grid_row": null,
            "grid_template_areas": null,
            "grid_template_columns": null,
            "grid_template_rows": null,
            "height": null,
            "justify_content": null,
            "justify_items": null,
            "left": null,
            "margin": null,
            "max_height": null,
            "max_width": null,
            "min_height": null,
            "min_width": null,
            "object_fit": null,
            "object_position": null,
            "order": null,
            "overflow": null,
            "overflow_x": null,
            "overflow_y": null,
            "padding": null,
            "right": null,
            "top": null,
            "visibility": null,
            "width": null
          }
        },
        "682b443ed15c4ee4bb75b87c1b70c97b": {
          "model_module": "@jupyter-widgets/controls",
          "model_name": "DescriptionStyleModel",
          "model_module_version": "1.5.0",
          "state": {
            "_model_module": "@jupyter-widgets/controls",
            "_model_module_version": "1.5.0",
            "_model_name": "DescriptionStyleModel",
            "_view_count": null,
            "_view_module": "@jupyter-widgets/base",
            "_view_module_version": "1.2.0",
            "_view_name": "StyleView",
            "description_width": ""
          }
        },
        "74b7d12a29924eab8a9ba8f65370dc32": {
          "model_module": "@jupyter-widgets/controls",
          "model_name": "HBoxModel",
          "model_module_version": "1.5.0",
          "state": {
            "_dom_classes": [],
            "_model_module": "@jupyter-widgets/controls",
            "_model_module_version": "1.5.0",
            "_model_name": "HBoxModel",
            "_view_count": null,
            "_view_module": "@jupyter-widgets/controls",
            "_view_module_version": "1.5.0",
            "_view_name": "HBoxView",
            "box_style": "",
            "children": [
              "IPY_MODEL_3131cbaef7e04ffab872e48bd07a2720",
              "IPY_MODEL_923382d678844afd9c504d1f5fbba460",
              "IPY_MODEL_c4b11a957d9146a4b122613fb81fbdaf"
            ],
            "layout": "IPY_MODEL_50e4ce20c1d5440ebc5a0aa409ee6c0f"
          }
        },
        "3131cbaef7e04ffab872e48bd07a2720": {
          "model_module": "@jupyter-widgets/controls",
          "model_name": "HTMLModel",
          "model_module_version": "1.5.0",
          "state": {
            "_dom_classes": [],
            "_model_module": "@jupyter-widgets/controls",
            "_model_module_version": "1.5.0",
            "_model_name": "HTMLModel",
            "_view_count": null,
            "_view_module": "@jupyter-widgets/controls",
            "_view_module_version": "1.5.0",
            "_view_name": "HTMLView",
            "description": "",
            "description_tooltip": null,
            "layout": "IPY_MODEL_d02ec90ffa624a97bfa87202f45f8c3f",
            "placeholder": "​",
            "style": "IPY_MODEL_fc5bb0fc4e154f138766dcee6c02cf21",
            "value": "Downloading builder script: "
          }
        },
        "923382d678844afd9c504d1f5fbba460": {
          "model_module": "@jupyter-widgets/controls",
          "model_name": "FloatProgressModel",
          "model_module_version": "1.5.0",
          "state": {
            "_dom_classes": [],
            "_model_module": "@jupyter-widgets/controls",
            "_model_module_version": "1.5.0",
            "_model_name": "FloatProgressModel",
            "_view_count": null,
            "_view_module": "@jupyter-widgets/controls",
            "_view_module_version": "1.5.0",
            "_view_name": "ProgressView",
            "bar_style": "success",
            "description": "",
            "description_tooltip": null,
            "layout": "IPY_MODEL_2355304d24de4478b7fbf9378d7b7d3f",
            "max": 1,
            "min": 0,
            "orientation": "horizontal",
            "style": "IPY_MODEL_d6ce520e7fdd414ca5c8f1dcb3f37f29",
            "value": 1
          }
        },
        "c4b11a957d9146a4b122613fb81fbdaf": {
          "model_module": "@jupyter-widgets/controls",
          "model_name": "HTMLModel",
          "model_module_version": "1.5.0",
          "state": {
            "_dom_classes": [],
            "_model_module": "@jupyter-widgets/controls",
            "_model_module_version": "1.5.0",
            "_model_name": "HTMLModel",
            "_view_count": null,
            "_view_module": "@jupyter-widgets/controls",
            "_view_module_version": "1.5.0",
            "_view_name": "HTMLView",
            "description": "",
            "description_tooltip": null,
            "layout": "IPY_MODEL_288e6257900d47628ea0925a3a27ece7",
            "placeholder": "​",
            "style": "IPY_MODEL_62f7d9bf759b435e8848597471446e00",
            "value": " 4.20k/? [00:00&lt;00:00, 352kB/s]"
          }
        },
        "50e4ce20c1d5440ebc5a0aa409ee6c0f": {
          "model_module": "@jupyter-widgets/base",
          "model_name": "LayoutModel",
          "model_module_version": "1.2.0",
          "state": {
            "_model_module": "@jupyter-widgets/base",
            "_model_module_version": "1.2.0",
            "_model_name": "LayoutModel",
            "_view_count": null,
            "_view_module": "@jupyter-widgets/base",
            "_view_module_version": "1.2.0",
            "_view_name": "LayoutView",
            "align_content": null,
            "align_items": null,
            "align_self": null,
            "border": null,
            "bottom": null,
            "display": null,
            "flex": null,
            "flex_flow": null,
            "grid_area": null,
            "grid_auto_columns": null,
            "grid_auto_flow": null,
            "grid_auto_rows": null,
            "grid_column": null,
            "grid_gap": null,
            "grid_row": null,
            "grid_template_areas": null,
            "grid_template_columns": null,
            "grid_template_rows": null,
            "height": null,
            "justify_content": null,
            "justify_items": null,
            "left": null,
            "margin": null,
            "max_height": null,
            "max_width": null,
            "min_height": null,
            "min_width": null,
            "object_fit": null,
            "object_position": null,
            "order": null,
            "overflow": null,
            "overflow_x": null,
            "overflow_y": null,
            "padding": null,
            "right": null,
            "top": null,
            "visibility": null,
            "width": null
          }
        },
        "d02ec90ffa624a97bfa87202f45f8c3f": {
          "model_module": "@jupyter-widgets/base",
          "model_name": "LayoutModel",
          "model_module_version": "1.2.0",
          "state": {
            "_model_module": "@jupyter-widgets/base",
            "_model_module_version": "1.2.0",
            "_model_name": "LayoutModel",
            "_view_count": null,
            "_view_module": "@jupyter-widgets/base",
            "_view_module_version": "1.2.0",
            "_view_name": "LayoutView",
            "align_content": null,
            "align_items": null,
            "align_self": null,
            "border": null,
            "bottom": null,
            "display": null,
            "flex": null,
            "flex_flow": null,
            "grid_area": null,
            "grid_auto_columns": null,
            "grid_auto_flow": null,
            "grid_auto_rows": null,
            "grid_column": null,
            "grid_gap": null,
            "grid_row": null,
            "grid_template_areas": null,
            "grid_template_columns": null,
            "grid_template_rows": null,
            "height": null,
            "justify_content": null,
            "justify_items": null,
            "left": null,
            "margin": null,
            "max_height": null,
            "max_width": null,
            "min_height": null,
            "min_width": null,
            "object_fit": null,
            "object_position": null,
            "order": null,
            "overflow": null,
            "overflow_x": null,
            "overflow_y": null,
            "padding": null,
            "right": null,
            "top": null,
            "visibility": null,
            "width": null
          }
        },
        "fc5bb0fc4e154f138766dcee6c02cf21": {
          "model_module": "@jupyter-widgets/controls",
          "model_name": "DescriptionStyleModel",
          "model_module_version": "1.5.0",
          "state": {
            "_model_module": "@jupyter-widgets/controls",
            "_model_module_version": "1.5.0",
            "_model_name": "DescriptionStyleModel",
            "_view_count": null,
            "_view_module": "@jupyter-widgets/base",
            "_view_module_version": "1.2.0",
            "_view_name": "StyleView",
            "description_width": ""
          }
        },
        "2355304d24de4478b7fbf9378d7b7d3f": {
          "model_module": "@jupyter-widgets/base",
          "model_name": "LayoutModel",
          "model_module_version": "1.2.0",
          "state": {
            "_model_module": "@jupyter-widgets/base",
            "_model_module_version": "1.2.0",
            "_model_name": "LayoutModel",
            "_view_count": null,
            "_view_module": "@jupyter-widgets/base",
            "_view_module_version": "1.2.0",
            "_view_name": "LayoutView",
            "align_content": null,
            "align_items": null,
            "align_self": null,
            "border": null,
            "bottom": null,
            "display": null,
            "flex": null,
            "flex_flow": null,
            "grid_area": null,
            "grid_auto_columns": null,
            "grid_auto_flow": null,
            "grid_auto_rows": null,
            "grid_column": null,
            "grid_gap": null,
            "grid_row": null,
            "grid_template_areas": null,
            "grid_template_columns": null,
            "grid_template_rows": null,
            "height": null,
            "justify_content": null,
            "justify_items": null,
            "left": null,
            "margin": null,
            "max_height": null,
            "max_width": null,
            "min_height": null,
            "min_width": null,
            "object_fit": null,
            "object_position": null,
            "order": null,
            "overflow": null,
            "overflow_x": null,
            "overflow_y": null,
            "padding": null,
            "right": null,
            "top": null,
            "visibility": null,
            "width": "20px"
          }
        },
        "d6ce520e7fdd414ca5c8f1dcb3f37f29": {
          "model_module": "@jupyter-widgets/controls",
          "model_name": "ProgressStyleModel",
          "model_module_version": "1.5.0",
          "state": {
            "_model_module": "@jupyter-widgets/controls",
            "_model_module_version": "1.5.0",
            "_model_name": "ProgressStyleModel",
            "_view_count": null,
            "_view_module": "@jupyter-widgets/base",
            "_view_module_version": "1.2.0",
            "_view_name": "StyleView",
            "bar_color": null,
            "description_width": ""
          }
        },
        "288e6257900d47628ea0925a3a27ece7": {
          "model_module": "@jupyter-widgets/base",
          "model_name": "LayoutModel",
          "model_module_version": "1.2.0",
          "state": {
            "_model_module": "@jupyter-widgets/base",
            "_model_module_version": "1.2.0",
            "_model_name": "LayoutModel",
            "_view_count": null,
            "_view_module": "@jupyter-widgets/base",
            "_view_module_version": "1.2.0",
            "_view_name": "LayoutView",
            "align_content": null,
            "align_items": null,
            "align_self": null,
            "border": null,
            "bottom": null,
            "display": null,
            "flex": null,
            "flex_flow": null,
            "grid_area": null,
            "grid_auto_columns": null,
            "grid_auto_flow": null,
            "grid_auto_rows": null,
            "grid_column": null,
            "grid_gap": null,
            "grid_row": null,
            "grid_template_areas": null,
            "grid_template_columns": null,
            "grid_template_rows": null,
            "height": null,
            "justify_content": null,
            "justify_items": null,
            "left": null,
            "margin": null,
            "max_height": null,
            "max_width": null,
            "min_height": null,
            "min_width": null,
            "object_fit": null,
            "object_position": null,
            "order": null,
            "overflow": null,
            "overflow_x": null,
            "overflow_y": null,
            "padding": null,
            "right": null,
            "top": null,
            "visibility": null,
            "width": null
          }
        },
        "62f7d9bf759b435e8848597471446e00": {
          "model_module": "@jupyter-widgets/controls",
          "model_name": "DescriptionStyleModel",
          "model_module_version": "1.5.0",
          "state": {
            "_model_module": "@jupyter-widgets/controls",
            "_model_module_version": "1.5.0",
            "_model_name": "DescriptionStyleModel",
            "_view_count": null,
            "_view_module": "@jupyter-widgets/base",
            "_view_module_version": "1.2.0",
            "_view_name": "StyleView",
            "description_width": ""
          }
        }
      }
    },
    "accelerator": "GPU"
  },
  "cells": [
    {
      "cell_type": "markdown",
      "metadata": {
        "id": "view-in-github",
        "colab_type": "text"
      },
      "source": [
        "<a href=\"https://colab.research.google.com/github/UmarKhattab09/WebScarping-LLM-FineTuning/blob/main/WebScarping_for_LLM_FineTuning.ipynb\" target=\"_parent\"><img src=\"https://colab.research.google.com/assets/colab-badge.svg\" alt=\"Open In Colab\"/></a>"
      ]
    },
    {
      "cell_type": "code",
      "execution_count": 10,
      "metadata": {
        "id": "kaWo4KhardmO"
      },
      "outputs": [],
      "source": [
        "from bs4 import BeautifulSoup\n",
        "import requests\n",
        "import json"
      ]
    },
    {
      "cell_type": "code",
      "source": [
        "urldict = {\n",
        "    'politics':f\"https://www.npr.org/get/1014/render/partial/next?start={1}&count={24}\",\n",
        "    'science' : f\"https://www.npr.org/get/1007/render/partial/next?start={1}&count={24}\",\n",
        "    'health'  : f\"https://www.npr.org/get/1128/render/partial/next?start={1}&count={24}\",\n",
        "    'business': f\"https://www.npr.org/get/1006/render/partial/next?start={1}&count={24}\",\n",
        "    'climate' : f\"https://www.npr.org/get/1167/render/partial/next?start={1}&count={24}\" #\n",
        "}"
      ],
      "metadata": {
        "id": "hSWIna1Y2gv1"
      },
      "execution_count": 11,
      "outputs": []
    },
    {
      "cell_type": "code",
      "source": [
        "def url_extractor(url):\n",
        "  response=requests.get(url)\n",
        "  status = response.status_code\n",
        "  #print(f\"Status:{status}\")\n",
        "  html_content= response.text\n",
        "  soup = BeautifulSoup(html_content,'html.parser')\n",
        "  return soup\n",
        "\n",
        "politics= url_extractor(urldict['politics'])\n",
        "science= url_extractor(urldict['science'])\n",
        "health= url_extractor(urldict['health'])\n",
        "business= url_extractor(urldict['business'])\n",
        "climate= url_extractor(urldict['climate'])\n"
      ],
      "metadata": {
        "id": "WaVsqW5J3DGJ"
      },
      "execution_count": 12,
      "outputs": []
    },
    {
      "cell_type": "code",
      "source": [
        "def extractinglinks(url):\n",
        "  data=[]\n",
        "  for article in url.find_all('article'):\n",
        "    anchortag=article.find('a')\n",
        "    try:\n",
        "      articlelink=anchortag['href']\n",
        "      if articlelink.startswith(\"https://www.npr.org\"):\n",
        "        data.append(articlelink)\n",
        "    except:\n",
        "      f\"no href\"\n",
        "  return data\n",
        "politicslinks=extractinglinks(politics)\n",
        "sciencelinks=extractinglinks(science)\n",
        "healthlinks=extractinglinks(health)\n",
        "businesslinks=extractinglinks(business)\n",
        "climatelinks=extractinglinks(climate)\n",
        "\n",
        "politicslinks[23]\n",
        "\n",
        "# data=[]\n",
        "# for article in politics.find_all('article'):\n",
        "#   anchortag=article.find('a')\n",
        "#   try:\n",
        "#     articlelink=anchortag['href']\n",
        "#     if articlelink.startswith(\"https://www.npr.org\"):\n",
        "#       data.append(articlelink)\n",
        "#   except:\n",
        "#     f\"no href\"\n",
        "# print(\"___________________________\")\n",
        "\n",
        "\n",
        "#   articleur=anchortag['href']\n",
        "#   #print(articleur)\n",
        "#   if articleur.startswith('https://www.npr.org'):\n"
      ],
      "metadata": {
        "colab": {
          "base_uri": "https://localhost:8080/",
          "height": 36
        },
        "id": "2LW6r24jYYjC",
        "outputId": "42225bd9-87ac-48c4-9ef9-bcfdfebc495a"
      },
      "execution_count": 13,
      "outputs": [
        {
          "output_type": "execute_result",
          "data": {
            "text/plain": [
              "'https://www.npr.org/2025/07/11/nx-s1-5459955/social-security-megabill-trump-tax-cuts'"
            ],
            "application/vnd.google.colaboratory.intrinsic+json": {
              "type": "string"
            }
          },
          "metadata": {},
          "execution_count": 13
        }
      ]
    },
    {
      "cell_type": "code",
      "source": [
        "# data=[]\n",
        "# for article in climate.find_all('article'):\n",
        "#   anchortag=article.find('a')\n",
        "#   try:\n",
        "#     articlelink=anchortag['href']\n",
        "#     if articlelink.startswith(\"https://www.npr.org\"):\n",
        "#       data.append(articlelink)\n",
        "#   except:\n",
        "#     f\"no href\"\n",
        "# print(\"___________________________\")\n",
        "\n",
        "\n",
        "# #   articleur=anchortag['href']\n",
        "# #   #print(articleur)\n",
        "# #   if articleur.startswith('https://www.npr.org'):\n",
        "# #     data.append(articleur)\n",
        "# print(data)\n",
        "# print(len(data))"
      ],
      "metadata": {
        "id": "mYZrsZX9VsOy"
      },
      "execution_count": 14,
      "outputs": []
    },
    {
      "cell_type": "code",
      "source": [
        "def storyextractor(links):\n",
        "  separator=' '\n",
        "  data =[]\n",
        "  for i in range(len(links)):\n",
        "    article = url_extractor(links[i])\n",
        "    storydiv=article.find(\"div\",id=\"storytext\")\n",
        "    try:\n",
        "      text=storydiv.find_all('p')\n",
        "    except:\n",
        "      f\"no p\"\n",
        "    for i in range(len(text)):\n",
        "      try:\n",
        "        temp= text[i].get_text(separator= ' ', strip = True)\n",
        "      except:\n",
        "        f\"no temp\"\n",
        "      text[i] = temp\n",
        "    finaltxt= separator.join(text)\n",
        "    data.append(finaltxt)\n",
        "  return data\n",
        "\n",
        "\n",
        "politicsnews = storyextractor(politicslinks)\n",
        "sciencenews = storyextractor(sciencelinks)\n",
        "healthnews = storyextractor(healthlinks)\n",
        "businessnews = storyextractor(businesslinks)\n",
        "climatenews = storyextractor(climatelinks)\n",
        "\n"
      ],
      "metadata": {
        "id": "odP9GC4TnMMt"
      },
      "execution_count": 15,
      "outputs": []
    },
    {
      "cell_type": "code",
      "source": [
        "import pandas as pd\n",
        "def createDataFrame(Name:str,data:list):\n",
        "  df = pd.DataFrame({\n",
        "      \"NewsType\": [Name] * len(data),\n",
        "      \"News\": data\n",
        "  })\n",
        "  print(f\"The size of News for {Name} is {len(data)}\")\n",
        "  return df\n",
        "politicsdf = createDataFrame(\"Politics\",politicsnews)\n",
        "sciencedf = createDataFrame(\"Science\",sciencenews)\n",
        "healthdf = createDataFrame(\"Health\",healthnews)\n",
        "businessdf = createDataFrame(\"Business\",businessnews)\n",
        "climatedf = createDataFrame(\"Climate\",climatenews)\n"
      ],
      "metadata": {
        "colab": {
          "base_uri": "https://localhost:8080/"
        },
        "id": "JIQ_0fGQqvoD",
        "outputId": "36ef8830-d323-4626-8a2b-2017a3e14302"
      },
      "execution_count": 16,
      "outputs": [
        {
          "output_type": "stream",
          "name": "stdout",
          "text": [
            "The size of News for Politics is 24\n",
            "The size of News for Science is 24\n",
            "The size of News for Health is 24\n",
            "The size of News for Business is 24\n",
            "The size of News for Climate is 24\n"
          ]
        }
      ]
    },
    {
      "cell_type": "code",
      "source": [
        "combined_df_rows = pd.concat([politicsdf, sciencedf,healthdf,businessdf,climatedf])\n",
        "combined_df_rows.to_csv(\"Dataset.csv\")"
      ],
      "metadata": {
        "id": "clRKvXyXwknn"
      },
      "execution_count": 17,
      "outputs": []
    },
    {
      "cell_type": "code",
      "source": [],
      "metadata": {
        "id": "H78Fh025qvqX"
      },
      "execution_count": 17,
      "outputs": []
    },
    {
      "cell_type": "markdown",
      "source": [
        "#### Fine Tuning LLM\n",
        "1. Define Parameter\n",
        "2. Clean Dataset\n",
        "3. Wrangling Dataset\n",
        "\n",
        ">> Label Encoder\n",
        "\n",
        ">> TrainTestSplit\n",
        "\n",
        ">> Convert into Hugging Face\n",
        "\n",
        ">> Tokenizer\n",
        "\n",
        "4. Initalize Model\n",
        "5. Train Model\n"
      ],
      "metadata": {
        "id": "WkXA3fHaP4Si"
      }
    },
    {
      "cell_type": "code",
      "source": [
        "import pandas as pd\n",
        "import huggingface_hub\n",
        "\n",
        "model_name=\"meta-llama/Llama-3.2-1B\"\n"
      ],
      "metadata": {
        "id": "YwBZ-Zb_P0GA"
      },
      "execution_count": 18,
      "outputs": []
    },
    {
      "cell_type": "code",
      "source": [
        "text_column_name='article'\n",
        "df = pd.read_csv(\"Dataset.csv\")"
      ],
      "metadata": {
        "id": "HMZANT0cqvvQ"
      },
      "execution_count": 19,
      "outputs": []
    },
    {
      "cell_type": "code",
      "source": [
        "df['NewsType'].nunique()"
      ],
      "metadata": {
        "colab": {
          "base_uri": "https://localhost:8080/"
        },
        "id": "vCjtxeetqvxz",
        "outputId": "fec23afc-a0bf-4dab-f0e3-a964025758a4"
      },
      "execution_count": 20,
      "outputs": [
        {
          "output_type": "execute_result",
          "data": {
            "text/plain": [
              "5"
            ]
          },
          "metadata": {},
          "execution_count": 20
        }
      ]
    },
    {
      "cell_type": "code",
      "source": [
        "from google.colab import userdata\n",
        "hf_token=userdata.get(\"hf_token\")\n",
        "huggingface_hub.login(hf_token)"
      ],
      "metadata": {
        "id": "CrRyWlOlqv0F"
      },
      "execution_count": 21,
      "outputs": []
    },
    {
      "cell_type": "code",
      "source": [
        "import re\n",
        "class Cleaner():\n",
        "  def __init__(self):\n",
        "    pass\n",
        "\n",
        "  def remove_hml_tags(self,text):\n",
        "    clean_text=BeautifulSoup(text,'lxml').text\n",
        "    return clean_text\n",
        "\n",
        "  def remove_double_spaces(self,text):\n",
        "    clean_text=re.sub(' +',' ',text)\n",
        "    return clean_text\n",
        "  def clean(self,text):\n",
        "    clean_text=self.remove_hml_tags(text)\n",
        "    clean_text=self.remove_double_spaces(clean_text)\n",
        "    return clean_text\n",
        "\n"
      ],
      "metadata": {
        "id": "XpHCC0dVqv2Q"
      },
      "execution_count": 22,
      "outputs": []
    },
    {
      "cell_type": "code",
      "source": [
        "from bs4 import BeautifulSoup\n",
        "import re\n",
        "cleaner=Cleaner()\n",
        "df['text_cleaned']=df['News'].apply(cleaner.clean)"
      ],
      "metadata": {
        "id": "wH5GGzzhqv4l"
      },
      "execution_count": 23,
      "outputs": []
    },
    {
      "cell_type": "code",
      "source": [
        "df.head()"
      ],
      "metadata": {
        "colab": {
          "base_uri": "https://localhost:8080/",
          "height": 206
        },
        "id": "ta8DxTiEqv7v",
        "outputId": "c53c8560-f9be-4681-a149-4a338da11d40"
      },
      "execution_count": 24,
      "outputs": [
        {
          "output_type": "execute_result",
          "data": {
            "text/plain": [
              "   Unnamed: 0  NewsType                                               News  \\\n",
              "0           0  Politics  President Trump in profile at  MetLife Stadium...   \n",
              "1           1  Politics  GOP Rep. Hal Rogers of Kentucky, left, poses d...   \n",
              "2           2  Politics  A sign shows the location of an immigration co...   \n",
              "3           3  Politics  Mike Waltz, former US national security advise...   \n",
              "4           4  Politics  Workers on scaffolding repaint the NASA logo n...   \n",
              "\n",
              "                                        text_cleaned  \n",
              "0  President Trump in profile at MetLife Stadium ...  \n",
              "1  GOP Rep. Hal Rogers of Kentucky, left, poses d...  \n",
              "2  A sign shows the location of an immigration co...  \n",
              "3  Mike Waltz, former US national security advise...  \n",
              "4  Workers on scaffolding repaint the NASA logo n...  "
            ],
            "text/html": [
              "\n",
              "  <div id=\"df-dfcf8340-03e1-4c16-8128-08d81566ae6e\" class=\"colab-df-container\">\n",
              "    <div>\n",
              "<style scoped>\n",
              "    .dataframe tbody tr th:only-of-type {\n",
              "        vertical-align: middle;\n",
              "    }\n",
              "\n",
              "    .dataframe tbody tr th {\n",
              "        vertical-align: top;\n",
              "    }\n",
              "\n",
              "    .dataframe thead th {\n",
              "        text-align: right;\n",
              "    }\n",
              "</style>\n",
              "<table border=\"1\" class=\"dataframe\">\n",
              "  <thead>\n",
              "    <tr style=\"text-align: right;\">\n",
              "      <th></th>\n",
              "      <th>Unnamed: 0</th>\n",
              "      <th>NewsType</th>\n",
              "      <th>News</th>\n",
              "      <th>text_cleaned</th>\n",
              "    </tr>\n",
              "  </thead>\n",
              "  <tbody>\n",
              "    <tr>\n",
              "      <th>0</th>\n",
              "      <td>0</td>\n",
              "      <td>Politics</td>\n",
              "      <td>President Trump in profile at  MetLife Stadium...</td>\n",
              "      <td>President Trump in profile at MetLife Stadium ...</td>\n",
              "    </tr>\n",
              "    <tr>\n",
              "      <th>1</th>\n",
              "      <td>1</td>\n",
              "      <td>Politics</td>\n",
              "      <td>GOP Rep. Hal Rogers of Kentucky, left, poses d...</td>\n",
              "      <td>GOP Rep. Hal Rogers of Kentucky, left, poses d...</td>\n",
              "    </tr>\n",
              "    <tr>\n",
              "      <th>2</th>\n",
              "      <td>2</td>\n",
              "      <td>Politics</td>\n",
              "      <td>A sign shows the location of an immigration co...</td>\n",
              "      <td>A sign shows the location of an immigration co...</td>\n",
              "    </tr>\n",
              "    <tr>\n",
              "      <th>3</th>\n",
              "      <td>3</td>\n",
              "      <td>Politics</td>\n",
              "      <td>Mike Waltz, former US national security advise...</td>\n",
              "      <td>Mike Waltz, former US national security advise...</td>\n",
              "    </tr>\n",
              "    <tr>\n",
              "      <th>4</th>\n",
              "      <td>4</td>\n",
              "      <td>Politics</td>\n",
              "      <td>Workers on scaffolding repaint the NASA logo n...</td>\n",
              "      <td>Workers on scaffolding repaint the NASA logo n...</td>\n",
              "    </tr>\n",
              "  </tbody>\n",
              "</table>\n",
              "</div>\n",
              "    <div class=\"colab-df-buttons\">\n",
              "\n",
              "  <div class=\"colab-df-container\">\n",
              "    <button class=\"colab-df-convert\" onclick=\"convertToInteractive('df-dfcf8340-03e1-4c16-8128-08d81566ae6e')\"\n",
              "            title=\"Convert this dataframe to an interactive table.\"\n",
              "            style=\"display:none;\">\n",
              "\n",
              "  <svg xmlns=\"http://www.w3.org/2000/svg\" height=\"24px\" viewBox=\"0 -960 960 960\">\n",
              "    <path d=\"M120-120v-720h720v720H120Zm60-500h600v-160H180v160Zm220 220h160v-160H400v160Zm0 220h160v-160H400v160ZM180-400h160v-160H180v160Zm440 0h160v-160H620v160ZM180-180h160v-160H180v160Zm440 0h160v-160H620v160Z\"/>\n",
              "  </svg>\n",
              "    </button>\n",
              "\n",
              "  <style>\n",
              "    .colab-df-container {\n",
              "      display:flex;\n",
              "      gap: 12px;\n",
              "    }\n",
              "\n",
              "    .colab-df-convert {\n",
              "      background-color: #E8F0FE;\n",
              "      border: none;\n",
              "      border-radius: 50%;\n",
              "      cursor: pointer;\n",
              "      display: none;\n",
              "      fill: #1967D2;\n",
              "      height: 32px;\n",
              "      padding: 0 0 0 0;\n",
              "      width: 32px;\n",
              "    }\n",
              "\n",
              "    .colab-df-convert:hover {\n",
              "      background-color: #E2EBFA;\n",
              "      box-shadow: 0px 1px 2px rgba(60, 64, 67, 0.3), 0px 1px 3px 1px rgba(60, 64, 67, 0.15);\n",
              "      fill: #174EA6;\n",
              "    }\n",
              "\n",
              "    .colab-df-buttons div {\n",
              "      margin-bottom: 4px;\n",
              "    }\n",
              "\n",
              "    [theme=dark] .colab-df-convert {\n",
              "      background-color: #3B4455;\n",
              "      fill: #D2E3FC;\n",
              "    }\n",
              "\n",
              "    [theme=dark] .colab-df-convert:hover {\n",
              "      background-color: #434B5C;\n",
              "      box-shadow: 0px 1px 3px 1px rgba(0, 0, 0, 0.15);\n",
              "      filter: drop-shadow(0px 1px 2px rgba(0, 0, 0, 0.3));\n",
              "      fill: #FFFFFF;\n",
              "    }\n",
              "  </style>\n",
              "\n",
              "    <script>\n",
              "      const buttonEl =\n",
              "        document.querySelector('#df-dfcf8340-03e1-4c16-8128-08d81566ae6e button.colab-df-convert');\n",
              "      buttonEl.style.display =\n",
              "        google.colab.kernel.accessAllowed ? 'block' : 'none';\n",
              "\n",
              "      async function convertToInteractive(key) {\n",
              "        const element = document.querySelector('#df-dfcf8340-03e1-4c16-8128-08d81566ae6e');\n",
              "        const dataTable =\n",
              "          await google.colab.kernel.invokeFunction('convertToInteractive',\n",
              "                                                    [key], {});\n",
              "        if (!dataTable) return;\n",
              "\n",
              "        const docLinkHtml = 'Like what you see? Visit the ' +\n",
              "          '<a target=\"_blank\" href=https://colab.research.google.com/notebooks/data_table.ipynb>data table notebook</a>'\n",
              "          + ' to learn more about interactive tables.';\n",
              "        element.innerHTML = '';\n",
              "        dataTable['output_type'] = 'display_data';\n",
              "        await google.colab.output.renderOutput(dataTable, element);\n",
              "        const docLink = document.createElement('div');\n",
              "        docLink.innerHTML = docLinkHtml;\n",
              "        element.appendChild(docLink);\n",
              "      }\n",
              "    </script>\n",
              "  </div>\n",
              "\n",
              "\n",
              "    <div id=\"df-f050a3a2-b097-4c4d-be41-1a29a6911f25\">\n",
              "      <button class=\"colab-df-quickchart\" onclick=\"quickchart('df-f050a3a2-b097-4c4d-be41-1a29a6911f25')\"\n",
              "                title=\"Suggest charts\"\n",
              "                style=\"display:none;\">\n",
              "\n",
              "<svg xmlns=\"http://www.w3.org/2000/svg\" height=\"24px\"viewBox=\"0 0 24 24\"\n",
              "     width=\"24px\">\n",
              "    <g>\n",
              "        <path d=\"M19 3H5c-1.1 0-2 .9-2 2v14c0 1.1.9 2 2 2h14c1.1 0 2-.9 2-2V5c0-1.1-.9-2-2-2zM9 17H7v-7h2v7zm4 0h-2V7h2v10zm4 0h-2v-4h2v4z\"/>\n",
              "    </g>\n",
              "</svg>\n",
              "      </button>\n",
              "\n",
              "<style>\n",
              "  .colab-df-quickchart {\n",
              "      --bg-color: #E8F0FE;\n",
              "      --fill-color: #1967D2;\n",
              "      --hover-bg-color: #E2EBFA;\n",
              "      --hover-fill-color: #174EA6;\n",
              "      --disabled-fill-color: #AAA;\n",
              "      --disabled-bg-color: #DDD;\n",
              "  }\n",
              "\n",
              "  [theme=dark] .colab-df-quickchart {\n",
              "      --bg-color: #3B4455;\n",
              "      --fill-color: #D2E3FC;\n",
              "      --hover-bg-color: #434B5C;\n",
              "      --hover-fill-color: #FFFFFF;\n",
              "      --disabled-bg-color: #3B4455;\n",
              "      --disabled-fill-color: #666;\n",
              "  }\n",
              "\n",
              "  .colab-df-quickchart {\n",
              "    background-color: var(--bg-color);\n",
              "    border: none;\n",
              "    border-radius: 50%;\n",
              "    cursor: pointer;\n",
              "    display: none;\n",
              "    fill: var(--fill-color);\n",
              "    height: 32px;\n",
              "    padding: 0;\n",
              "    width: 32px;\n",
              "  }\n",
              "\n",
              "  .colab-df-quickchart:hover {\n",
              "    background-color: var(--hover-bg-color);\n",
              "    box-shadow: 0 1px 2px rgba(60, 64, 67, 0.3), 0 1px 3px 1px rgba(60, 64, 67, 0.15);\n",
              "    fill: var(--button-hover-fill-color);\n",
              "  }\n",
              "\n",
              "  .colab-df-quickchart-complete:disabled,\n",
              "  .colab-df-quickchart-complete:disabled:hover {\n",
              "    background-color: var(--disabled-bg-color);\n",
              "    fill: var(--disabled-fill-color);\n",
              "    box-shadow: none;\n",
              "  }\n",
              "\n",
              "  .colab-df-spinner {\n",
              "    border: 2px solid var(--fill-color);\n",
              "    border-color: transparent;\n",
              "    border-bottom-color: var(--fill-color);\n",
              "    animation:\n",
              "      spin 1s steps(1) infinite;\n",
              "  }\n",
              "\n",
              "  @keyframes spin {\n",
              "    0% {\n",
              "      border-color: transparent;\n",
              "      border-bottom-color: var(--fill-color);\n",
              "      border-left-color: var(--fill-color);\n",
              "    }\n",
              "    20% {\n",
              "      border-color: transparent;\n",
              "      border-left-color: var(--fill-color);\n",
              "      border-top-color: var(--fill-color);\n",
              "    }\n",
              "    30% {\n",
              "      border-color: transparent;\n",
              "      border-left-color: var(--fill-color);\n",
              "      border-top-color: var(--fill-color);\n",
              "      border-right-color: var(--fill-color);\n",
              "    }\n",
              "    40% {\n",
              "      border-color: transparent;\n",
              "      border-right-color: var(--fill-color);\n",
              "      border-top-color: var(--fill-color);\n",
              "    }\n",
              "    60% {\n",
              "      border-color: transparent;\n",
              "      border-right-color: var(--fill-color);\n",
              "    }\n",
              "    80% {\n",
              "      border-color: transparent;\n",
              "      border-right-color: var(--fill-color);\n",
              "      border-bottom-color: var(--fill-color);\n",
              "    }\n",
              "    90% {\n",
              "      border-color: transparent;\n",
              "      border-bottom-color: var(--fill-color);\n",
              "    }\n",
              "  }\n",
              "</style>\n",
              "\n",
              "      <script>\n",
              "        async function quickchart(key) {\n",
              "          const quickchartButtonEl =\n",
              "            document.querySelector('#' + key + ' button');\n",
              "          quickchartButtonEl.disabled = true;  // To prevent multiple clicks.\n",
              "          quickchartButtonEl.classList.add('colab-df-spinner');\n",
              "          try {\n",
              "            const charts = await google.colab.kernel.invokeFunction(\n",
              "                'suggestCharts', [key], {});\n",
              "          } catch (error) {\n",
              "            console.error('Error during call to suggestCharts:', error);\n",
              "          }\n",
              "          quickchartButtonEl.classList.remove('colab-df-spinner');\n",
              "          quickchartButtonEl.classList.add('colab-df-quickchart-complete');\n",
              "        }\n",
              "        (() => {\n",
              "          let quickchartButtonEl =\n",
              "            document.querySelector('#df-f050a3a2-b097-4c4d-be41-1a29a6911f25 button');\n",
              "          quickchartButtonEl.style.display =\n",
              "            google.colab.kernel.accessAllowed ? 'block' : 'none';\n",
              "        })();\n",
              "      </script>\n",
              "    </div>\n",
              "\n",
              "    </div>\n",
              "  </div>\n"
            ],
            "application/vnd.google.colaboratory.intrinsic+json": {
              "type": "dataframe",
              "variable_name": "df",
              "summary": "{\n  \"name\": \"df\",\n  \"rows\": 120,\n  \"fields\": [\n    {\n      \"column\": \"Unnamed: 0\",\n      \"properties\": {\n        \"dtype\": \"number\",\n        \"std\": 6,\n        \"min\": 0,\n        \"max\": 23,\n        \"num_unique_values\": 24,\n        \"samples\": [\n          8,\n          16,\n          0\n        ],\n        \"semantic_type\": \"\",\n        \"description\": \"\"\n      }\n    },\n    {\n      \"column\": \"NewsType\",\n      \"properties\": {\n        \"dtype\": \"category\",\n        \"num_unique_values\": 5,\n        \"samples\": [\n          \"Science\",\n          \"Climate\",\n          \"Health\"\n        ],\n        \"semantic_type\": \"\",\n        \"description\": \"\"\n      }\n    },\n    {\n      \"column\": \"News\",\n      \"properties\": {\n        \"dtype\": \"string\",\n        \"num_unique_values\": 105,\n        \"samples\": [\n          \"A damaged home is seen after flash flooding in Hunt, Texas, on July 4. Just 4% of homeowners nationwide have flood insurance, according to the Federal Emergency Management Agency. Ronaldo Schemidt/AFP via Getty Images hide caption Nearly every county in the United States has experienced flooding in the past few decades, but just 4% of homeowners nationwide have flood insurance, according to the Federal Emergency Management Agency . It's what experts call the flood insurance gap . Most homeowners insurance doesn't cover flooding . And while FEMA aid may be available to help people repair their homes after federally declared disasters , it often covers just a fraction of the costs. That means when floodwaters come, people frequently are on their own to pick up the pieces. It's a reality communities across the country are facing after flooding hit parts of Texas , New Mexico and North Carolina in the past week alone. In all three states, the floods were caused by extremely heavy rainfall inland \\u2014 a risk that's growing with climate change . A warmer atmosphere can hold more moisture. As temperatures rise, it's fueling more intense rainstorms that drop more water in shorter periods of time. One solution: Homeowners, renters and businesses can buy flood insurance, which most people get through FEMA's National Flood Insurance Program , says Jeremy Porter, head of climate implications research at First Street, which assesses property risks from climate change. Federal flood insurance offers up to $250,000 for homes and $500,000 for nonresidential buildings . People can buy policies that also cover the belongings inside their home, including clothing and furniture. The program is open to anyone who lives in one of the approximately 22,600 communities that have adopted certain standards to regulate development in their floodplains. Porter estimates that people living in more than 90% of U.S. counties are eligible. For people who want flood insurance but live outside of a qualifying community, they would have to go to the private market. \\\"It's clear that [flood] insurance protects property owners and it protects the communities,\\\" Porter says. \\\"It ends up keeping property values from dropping, post-event. It ultimately ends up keeping properties from going into foreclosure.\\\" In some places, though, federal flood insurance is unaffordable for many residents, and costs are rising around the country. So, people \\\"roll the dice, hope [a flood] doesn't happen,\\\" says Brian O'Connell, an analyst at insuranceQuotes, an online platform where people can compare and buy insurance. \\\"And when it does happen \\u2014 and we talk to people who it happens to \\u2014 it's one of the worst things people ever experience in their lives.\\\" Heavy rains from Hurricane Helene caused record flooding and damage last year in Asheville, N.C. As climate change raises global temperatures, it's fueling more intense rainstorms that drop more water in shorter periods of time. Melissa Sue Gerrits/Getty Images hide caption The U.S. government created the National Flood Insurance Program in 1968 when private companies stopped offering coverage. The federal program, which is backed by taxpayers, has been chronically in debt, borrowing from the Treasury to pay claims. Several years ago, FEMA began overhauling how the flood program sets its prices . Now, premiums are based on a home's value, FEMA says, and the flood risk an individual property faces. That's a more granular approach than the government used before. FEMA says one of the goals is to encourage actions that reduce flood risks. As a result of those changes, the cost of federal flood insurance is surging in some parts of the U.S. In Louisiana's Plaquemines Parish, for example, where 9 out of 10 homes are at risk of flooding , people are looking at paying more than $5,400 a year for flood insurance, an average increase of more than 500%. That's on top of their regular home insurance costs. \\\"The guy with a million dollar house, he'll figure it out,\\\" says Anderson Baker, a retired insurance executive in Louisiana. \\\"The guy with a $150,000 house, a couple hundred dollars extra a month, or $300 extra a month, that's a life-changing increase in his premium.\\\" O'Connell of insuranceQuotes estimates a flood insurance policy is likely to cost around 30% to 75% of what someone already pays for homeowners insurance. There are companies that have started to offer flood insurance again, which creates some competition for the federal program, says Porter of First Street. However, private insurers only cover 12% of the market, according to First Street . For some people, taking on the added expense of flood insurance isn't much of a choice . Homes in high-risk flood areas that have mortgages from government-backed lenders have to have flood insurance. Properties that have received federal disaster aid in the past also must be covered by flood insurance to qualify for future assistance. And in Florida , the state-backed insurer of last resort, Citizens Property Insurance Corp., has started requiring homeowners that have coverage for wind damage to also buy flood insurance. If a lot more people bought flood insurance, it would drive down the cost of coverage and could entice more private insurers into the market, says Michelle Osborne, director of the Risk Management Institute at Campbell University. But as things stand, the cost of flood insurance is often a dealbreaker for people, says O'Connell of insuranceQuotes, especially since many doubt they need protection. \\\"There's this misapprehension that if I'm not in a flood zone, then I shouldn't have to get flood insurance,\\\" says Baker, the retired insurance executive. \\\"But everybody's in a flood zone. People at the top of a mountain are in a flood zone. They're just in a good flood zone.\\\"\",\n          \"A member of the medical staff administers a dose of the measles vaccine to a child at a health center in Lubbock, Texas, on February 27, 2025. RONALDO SCHEMIDT/Getty Images hide caption A member of the medical staff administers a dose of the measles vaccine to a child at a health center in Lubbock, Texas, on February 27, 2025. If you're a parent, decisions about vaccines have gotten a lot more confusing recently. Robert F. Kennedy, Jr.'s health department is walking back longstanding recommendations. NPR's Pien Huang speaks with a pediatrician and a vaccine researcher to discuss how the changes may affect public health - and how frontline conversations are going between pediatricians and families. For sponsor-free episodes of Consider This, sign up for C onsider This+ via Apple Podcasts or at plus.nprth.org . Email us at considerthis@npr.org .\",\n          \"Seed oils, commonly called vegetable oils, are extracted from the seeds of plants. alaskla/iStockphoto/Getty Images hide caption By now, you might have heard that seed oils are bad for you \\u2014 if not from social media wellness influencers, then from Health Secretary Robert F. Kennedy Jr. himself. Kennedy has said these vegetable oils \\u2014 extracted from the seeds of plants, like canola, soybean and safflower \\u2014 are poisoning Americans and driving the obesity epidemic. Part of the evidence he points to is that obesity rates started to rise as seed oils began to dominate the American diet. Many nutrition and health researchers say that while seed oils might not be as good for you as olive oil, claims that they're harmful to health have been stretched too far. \\\"This is one of the more studied topics in nutrition. So it's sort of extra bewildering to quite a few of us in the field that this is coming up,\\\" says Christopher Gardner , a nutrition scientist and professor of medicine at Stanford University. He says studies have consistently shown that replacing saturated fats, such as lard or beef tallow, with fats from plant oils leads to better health outcomes. Still, Kennedy celebrated when the fast-food chain Steak 'n Shake announced earlier this year that it would stop making its french fries with seed oils and use tallow \\u2014 rendered beef fat \\u2014 instead. When we reached out to Secretary Kennedy, his team pointed us to the MAHA report, which says that seed oils contribute to imbalances of fatty acids that play \\\"a potential role in inflammation.\\\" So what is the science on seed oils? Let's unpack some of the criticisms. Seed oils \\u2014 commonly called vegetable oils \\u2014 are extracted from the seeds of plants. Critics tend to focus on eight specific oils, sometimes referred to as the \\\"hateful eight\\\": soybean, canola, corn, cottonseed, sunflower, safflower, rice bran and grapeseed. To maximize how much oil is drawn out of these seeds, manufacturers usually process them using heat and chemicals, explains Eric Decker , a professor emeritus of food science and lipids researcher at the University of Massachusetts Amherst. It's a cheaper and more efficient process than mechanically pressing the oil out. By comparison, extra virgin olive oil is squeezed out of the fruit without the help of chemicals or heat. Decker says critics often raise concerns about the most commonly used solvent in refining seed oils \\u2014 hexane \\u2014 which is hazardous. The hexane is removed during processing, \\\"but you end up with very small amounts left in the oil,\\\" he says. However, Decker says these residues are at levels too low to be toxic. A toxicology report from the federal government, published in April 2025, called the amount \\\"toxicologically insignificant.\\\" And any residual hexane is likely to evaporate once you heat your oil during cooking, Decker says. Caitlin Dow, a senior nutrition scientist with the Center for Science in the Public Interest, says she's personally not concerned about hexane residues in seed oils, but if you are, you can always buy organic seed oils \\u2014 they aren't processed with hexane, but they do cost more. One common argument against seed oils is that they promote inflammation \\u2014 a physiological response that helps the body heal from infection or injuries. President Trump's nominee for surgeon general, Dr. Casey Means, has written that seed oil \\\"increases inflammation in the body.\\\" Too much inflammation over a long period of time \\u2014 chronic inflammation \\u2014 can lead to health problems like autoimmune diseases, heart disease and certain cancers. This idea is rooted in the kinds of fats found in these oils, says Sarah Berry , a professor of nutrition at King's College London. Seed oils tend to have higher levels of essential fatty acids called omega-6s and lower levels of other essential fatty acids called omega-3s. These fatty acids play a role in lots of different body processes, including regulating inflammation. Berry says our bodies tend to convert omega-3s into chemicals that fight inflammation,\\\" while omega-6s can be converted into chemicals that promote inflammation. That's why critics say you shouldn't eat seed oils that are high in omega-6s, because they argue that this will promote chronic inflammation. Berry says that might make sense in theory, \\\"but it doesn't play out in real life, it doesn't play out in the human body.\\\" Berry says randomized controlled trials have found that, when people consume more seed oils, they don't show signs of excess pro-inflammatory compounds in their tissues , and they don't have more markers of inflammation . There's also strong evidence that omega-6s help lower levels of bad cholesterol, which reduces the risk of heart disease, which is why the American Heart Association supports eating them as part of a healthy diet. One researcher who has spent decades studying fatty acids is Tom Brenna of the University of Texas at Austin. He is concerned that some people may be eating too many omega-6s in their diet from seed oils, because not everyone processes omega-6s in the same way. He says emerging research suggests some people may be more susceptible to inflammation from omega-6s. Most Americans eat about 10 times more omega-6 fats than omega-3 fats. And all the nutrition researchers we spoke with agree that for better health, it's a good idea to bring that intake into better balance, although the exact ratio has not been defined , according to the National Institutes of Health. Since most people get plenty of omega-6s in their diet, the general advice is to up your intake of omega-3s. Fatty fish like salmon, mackerel and sardines, and plants including walnuts, flaxseeds and chia seeds are all rich sources of omega-3s. And Brenna says you shouldn't stop eating omega-6s altogether. \\\"Some of the influencers are talking about getting rid of all the omega-6 in the diet,\\\" Brenna says. \\\"And that would be a terrible idea,\\\" he says. \\\"Some omega-6 is absolutely required. The question is how much?\\\" Brenna says he sticks mostly to olive oil \\u2014 which is a fruit oil \\u2014 though he notes that if everyone only used olive oil, \\\"there isn't enough olive oil in the world\\\" to meet demand.  And he says it's expensive. Another option: use seed oils labeled as \\\"high oleic.\\\" These oils have lower levels of omega-6s and fatty acid profiles similar to olive oil. Nutrition scientist Caitlin Dow is not worried about seed oils. She has a bottle of canola oil in her pantry. On a recent afternoon, she was using it to stir-fry vegetables \\u2014 bell peppers, zucchini, carrots and broccoli. \\\"I don't want people afraid to use seed oils thinking that they're doing something bad for their health or their family's health,\\\" she says. \\\"They're not doing anything bad. It's a much healthier option than switching to lard or butter or coconut oil.\\\" One thing to keep in mind when using vegetable oils is that you should avoid repeatedly reheating the same oil at high temperatures, like you might do with a deep fryer \\u2014 which are common in restaurants and fast-food chains. Over time, that can lead to changes in the oil that can promote inflammation in the body. But the take-home message here, Decker says, is to eat less fried food. \\\"In general, fried foods don't really represent a healthy category that we should be eating on a regular basis.\\\" The main reason why our seed oil consumption has increased dramatically is because these oils are ubiquitous in ultra-processed foods, which now dominate the U.S. food supply. And one thing everyone seems to agree on is that Americans should eat fewer ultra-processed foods, which tend to be high in sugar, salt and unhealthy fats, as well as preservatives, artificial dyes and other additives. There is lots of evidence that shows eating too much ultra-processed food is linked to poor health outcomes. \\\"So many of the seed oil haters show these beautiful graphs showing how, as intakes of seed oils have increased over the years, so have rates of all of these awful chronic diseases \\u2013 cancer, cardiovascular disease, Type 2 diabetes, obesity,\\\" Berry says. \\\"But look what else has changed. Our food landscape is almost unrecognizable now compared to how it was 50 years ago.\\\" Berry and Gardner say you can't single out seed oils for this correlation when ultra-processed foods are often high in other ingredients known to drive poor health. \\\"Is it the junk food that's causing these health issues or is it the seed oils? And I have always thought it's the junk foods,\\\" Gardner says. Instead of focusing on which oils you eat, Gardner says focus on your overall diet. Gardner, Berry and Brenna all agree that means cutting back on ultra-processed foods and cooking at home more. And make sure to get plenty of fruits, vegetables, legumes, nuts and seeds and omega-3s from foods like fish. And if you use some seed oil to make a salad dressing that encourages you to eat more vegetables, Gardner says \\u2014 that's a win for health. NPR requested an interview with Secretary Kennedy for this story but did not hear back. Edited by Jane Greenhalgh\"\n        ],\n        \"semantic_type\": \"\",\n        \"description\": \"\"\n      }\n    },\n    {\n      \"column\": \"text_cleaned\",\n      \"properties\": {\n        \"dtype\": \"string\",\n        \"num_unique_values\": 105,\n        \"samples\": [\n          \"A damaged home is seen after flash flooding in Hunt, Texas, on July 4. Just 4% of homeowners nationwide have flood insurance, according to the Federal Emergency Management Agency. Ronaldo Schemidt/AFP via Getty Images hide caption Nearly every county in the United States has experienced flooding in the past few decades, but just 4% of homeowners nationwide have flood insurance, according to the Federal Emergency Management Agency . It's what experts call the flood insurance gap . Most homeowners insurance doesn't cover flooding . And while FEMA aid may be available to help people repair their homes after federally declared disasters , it often covers just a fraction of the costs. That means when floodwaters come, people frequently are on their own to pick up the pieces. It's a reality communities across the country are facing after flooding hit parts of Texas , New Mexico and North Carolina in the past week alone. In all three states, the floods were caused by extremely heavy rainfall inland \\u2014 a risk that's growing with climate change . A warmer atmosphere can hold more moisture. As temperatures rise, it's fueling more intense rainstorms that drop more water in shorter periods of time. One solution: Homeowners, renters and businesses can buy flood insurance, which most people get through FEMA's National Flood Insurance Program , says Jeremy Porter, head of climate implications research at First Street, which assesses property risks from climate change. Federal flood insurance offers up to $250,000 for homes and $500,000 for nonresidential buildings . People can buy policies that also cover the belongings inside their home, including clothing and furniture. The program is open to anyone who lives in one of the approximately 22,600 communities that have adopted certain standards to regulate development in their floodplains. Porter estimates that people living in more than 90% of U.S. counties are eligible. For people who want flood insurance but live outside of a qualifying community, they would have to go to the private market. \\\"It's clear that [flood] insurance protects property owners and it protects the communities,\\\" Porter says. \\\"It ends up keeping property values from dropping, post-event. It ultimately ends up keeping properties from going into foreclosure.\\\" In some places, though, federal flood insurance is unaffordable for many residents, and costs are rising around the country. So, people \\\"roll the dice, hope [a flood] doesn't happen,\\\" says Brian O'Connell, an analyst at insuranceQuotes, an online platform where people can compare and buy insurance. \\\"And when it does happen \\u2014 and we talk to people who it happens to \\u2014 it's one of the worst things people ever experience in their lives.\\\" Heavy rains from Hurricane Helene caused record flooding and damage last year in Asheville, N.C. As climate change raises global temperatures, it's fueling more intense rainstorms that drop more water in shorter periods of time. Melissa Sue Gerrits/Getty Images hide caption The U.S. government created the National Flood Insurance Program in 1968 when private companies stopped offering coverage. The federal program, which is backed by taxpayers, has been chronically in debt, borrowing from the Treasury to pay claims. Several years ago, FEMA began overhauling how the flood program sets its prices . Now, premiums are based on a home's value, FEMA says, and the flood risk an individual property faces. That's a more granular approach than the government used before. FEMA says one of the goals is to encourage actions that reduce flood risks. As a result of those changes, the cost of federal flood insurance is surging in some parts of the U.S. In Louisiana's Plaquemines Parish, for example, where 9 out of 10 homes are at risk of flooding , people are looking at paying more than $5,400 a year for flood insurance, an average increase of more than 500%. That's on top of their regular home insurance costs. \\\"The guy with a million dollar house, he'll figure it out,\\\" says Anderson Baker, a retired insurance executive in Louisiana. \\\"The guy with a $150,000 house, a couple hundred dollars extra a month, or $300 extra a month, that's a life-changing increase in his premium.\\\" O'Connell of insuranceQuotes estimates a flood insurance policy is likely to cost around 30% to 75% of what someone already pays for homeowners insurance. There are companies that have started to offer flood insurance again, which creates some competition for the federal program, says Porter of First Street. However, private insurers only cover 12% of the market, according to First Street . For some people, taking on the added expense of flood insurance isn't much of a choice . Homes in high-risk flood areas that have mortgages from government-backed lenders have to have flood insurance. Properties that have received federal disaster aid in the past also must be covered by flood insurance to qualify for future assistance. And in Florida , the state-backed insurer of last resort, Citizens Property Insurance Corp., has started requiring homeowners that have coverage for wind damage to also buy flood insurance. If a lot more people bought flood insurance, it would drive down the cost of coverage and could entice more private insurers into the market, says Michelle Osborne, director of the Risk Management Institute at Campbell University. But as things stand, the cost of flood insurance is often a dealbreaker for people, says O'Connell of insuranceQuotes, especially since many doubt they need protection. \\\"There's this misapprehension that if I'm not in a flood zone, then I shouldn't have to get flood insurance,\\\" says Baker, the retired insurance executive. \\\"But everybody's in a flood zone. People at the top of a mountain are in a flood zone. They're just in a good flood zone.\\\"\",\n          \"A member of the medical staff administers a dose of the measles vaccine to a child at a health center in Lubbock, Texas, on February 27, 2025. RONALDO SCHEMIDT/Getty Images hide caption A member of the medical staff administers a dose of the measles vaccine to a child at a health center in Lubbock, Texas, on February 27, 2025. If you're a parent, decisions about vaccines have gotten a lot more confusing recently. Robert F. Kennedy, Jr.'s health department is walking back longstanding recommendations. NPR's Pien Huang speaks with a pediatrician and a vaccine researcher to discuss how the changes may affect public health - and how frontline conversations are going between pediatricians and families. For sponsor-free episodes of Consider This, sign up for C onsider This+ via Apple Podcasts or at plus.nprth.org . Email us at considerthis@npr.org .\",\n          \"Seed oils, commonly called vegetable oils, are extracted from the seeds of plants. alaskla/iStockphoto/Getty Images hide caption By now, you might have heard that seed oils are bad for you \\u2014 if not from social media wellness influencers, then from Health Secretary Robert F. Kennedy Jr. himself. Kennedy has said these vegetable oils \\u2014 extracted from the seeds of plants, like canola, soybean and safflower \\u2014 are poisoning Americans and driving the obesity epidemic. Part of the evidence he points to is that obesity rates started to rise as seed oils began to dominate the American diet. Many nutrition and health researchers say that while seed oils might not be as good for you as olive oil, claims that they're harmful to health have been stretched too far. \\\"This is one of the more studied topics in nutrition. So it's sort of extra bewildering to quite a few of us in the field that this is coming up,\\\" says Christopher Gardner , a nutrition scientist and professor of medicine at Stanford University. He says studies have consistently shown that replacing saturated fats, such as lard or beef tallow, with fats from plant oils leads to better health outcomes. Still, Kennedy celebrated when the fast-food chain Steak 'n Shake announced earlier this year that it would stop making its french fries with seed oils and use tallow \\u2014 rendered beef fat \\u2014 instead. When we reached out to Secretary Kennedy, his team pointed us to the MAHA report, which says that seed oils contribute to imbalances of fatty acids that play \\\"a potential role in inflammation.\\\" So what is the science on seed oils? Let's unpack some of the criticisms. Seed oils \\u2014 commonly called vegetable oils \\u2014 are extracted from the seeds of plants. Critics tend to focus on eight specific oils, sometimes referred to as the \\\"hateful eight\\\": soybean, canola, corn, cottonseed, sunflower, safflower, rice bran and grapeseed. To maximize how much oil is drawn out of these seeds, manufacturers usually process them using heat and chemicals, explains Eric Decker , a professor emeritus of food science and lipids researcher at the University of Massachusetts Amherst. It's a cheaper and more efficient process than mechanically pressing the oil out. By comparison, extra virgin olive oil is squeezed out of the fruit without the help of chemicals or heat. Decker says critics often raise concerns about the most commonly used solvent in refining seed oils \\u2014 hexane \\u2014 which is hazardous. The hexane is removed during processing, \\\"but you end up with very small amounts left in the oil,\\\" he says. However, Decker says these residues are at levels too low to be toxic. A toxicology report from the federal government, published in April 2025, called the amount \\\"toxicologically insignificant.\\\" And any residual hexane is likely to evaporate once you heat your oil during cooking, Decker says. Caitlin Dow, a senior nutrition scientist with the Center for Science in the Public Interest, says she's personally not concerned about hexane residues in seed oils, but if you are, you can always buy organic seed oils \\u2014 they aren't processed with hexane, but they do cost more. One common argument against seed oils is that they promote inflammation \\u2014 a physiological response that helps the body heal from infection or injuries. President Trump's nominee for surgeon general, Dr. Casey Means, has written that seed oil \\\"increases inflammation in the body.\\\" Too much inflammation over a long period of time \\u2014 chronic inflammation \\u2014 can lead to health problems like autoimmune diseases, heart disease and certain cancers. This idea is rooted in the kinds of fats found in these oils, says Sarah Berry , a professor of nutrition at King's College London. Seed oils tend to have higher levels of essential fatty acids called omega-6s and lower levels of other essential fatty acids called omega-3s. These fatty acids play a role in lots of different body processes, including regulating inflammation. Berry says our bodies tend to convert omega-3s into chemicals that fight inflammation,\\\" while omega-6s can be converted into chemicals that promote inflammation. That's why critics say you shouldn't eat seed oils that are high in omega-6s, because they argue that this will promote chronic inflammation. Berry says that might make sense in theory, \\\"but it doesn't play out in real life, it doesn't play out in the human body.\\\" Berry says randomized controlled trials have found that, when people consume more seed oils, they don't show signs of excess pro-inflammatory compounds in their tissues , and they don't have more markers of inflammation . There's also strong evidence that omega-6s help lower levels of bad cholesterol, which reduces the risk of heart disease, which is why the American Heart Association supports eating them as part of a healthy diet. One researcher who has spent decades studying fatty acids is Tom Brenna of the University of Texas at Austin. He is concerned that some people may be eating too many omega-6s in their diet from seed oils, because not everyone processes omega-6s in the same way. He says emerging research suggests some people may be more susceptible to inflammation from omega-6s. Most Americans eat about 10 times more omega-6 fats than omega-3 fats. And all the nutrition researchers we spoke with agree that for better health, it's a good idea to bring that intake into better balance, although the exact ratio has not been defined , according to the National Institutes of Health. Since most people get plenty of omega-6s in their diet, the general advice is to up your intake of omega-3s. Fatty fish like salmon, mackerel and sardines, and plants including walnuts, flaxseeds and chia seeds are all rich sources of omega-3s. And Brenna says you shouldn't stop eating omega-6s altogether. \\\"Some of the influencers are talking about getting rid of all the omega-6 in the diet,\\\" Brenna says. \\\"And that would be a terrible idea,\\\" he says. \\\"Some omega-6 is absolutely required. The question is how much?\\\" Brenna says he sticks mostly to olive oil \\u2014 which is a fruit oil \\u2014 though he notes that if everyone only used olive oil, \\\"there isn't enough olive oil in the world\\\" to meet demand. And he says it's expensive. Another option: use seed oils labeled as \\\"high oleic.\\\" These oils have lower levels of omega-6s and fatty acid profiles similar to olive oil. Nutrition scientist Caitlin Dow is not worried about seed oils. She has a bottle of canola oil in her pantry. On a recent afternoon, she was using it to stir-fry vegetables \\u2014 bell peppers, zucchini, carrots and broccoli. \\\"I don't want people afraid to use seed oils thinking that they're doing something bad for their health or their family's health,\\\" she says. \\\"They're not doing anything bad. It's a much healthier option than switching to lard or butter or coconut oil.\\\" One thing to keep in mind when using vegetable oils is that you should avoid repeatedly reheating the same oil at high temperatures, like you might do with a deep fryer \\u2014 which are common in restaurants and fast-food chains. Over time, that can lead to changes in the oil that can promote inflammation in the body. But the take-home message here, Decker says, is to eat less fried food. \\\"In general, fried foods don't really represent a healthy category that we should be eating on a regular basis.\\\" The main reason why our seed oil consumption has increased dramatically is because these oils are ubiquitous in ultra-processed foods, which now dominate the U.S. food supply. And one thing everyone seems to agree on is that Americans should eat fewer ultra-processed foods, which tend to be high in sugar, salt and unhealthy fats, as well as preservatives, artificial dyes and other additives. There is lots of evidence that shows eating too much ultra-processed food is linked to poor health outcomes. \\\"So many of the seed oil haters show these beautiful graphs showing how, as intakes of seed oils have increased over the years, so have rates of all of these awful chronic diseases \\u2013 cancer, cardiovascular disease, Type 2 diabetes, obesity,\\\" Berry says. \\\"But look what else has changed. Our food landscape is almost unrecognizable now compared to how it was 50 years ago.\\\" Berry and Gardner say you can't single out seed oils for this correlation when ultra-processed foods are often high in other ingredients known to drive poor health. \\\"Is it the junk food that's causing these health issues or is it the seed oils? And I have always thought it's the junk foods,\\\" Gardner says. Instead of focusing on which oils you eat, Gardner says focus on your overall diet. Gardner, Berry and Brenna all agree that means cutting back on ultra-processed foods and cooking at home more. And make sure to get plenty of fruits, vegetables, legumes, nuts and seeds and omega-3s from foods like fish. And if you use some seed oil to make a salad dressing that encourages you to eat more vegetables, Gardner says \\u2014 that's a win for health. NPR requested an interview with Secretary Kennedy for this story but did not hear back. Edited by Jane Greenhalgh\"\n        ],\n        \"semantic_type\": \"\",\n        \"description\": \"\"\n      }\n    }\n  ]\n}"
            }
          },
          "metadata": {},
          "execution_count": 24
        }
      ]
    },
    {
      "cell_type": "code",
      "source": [
        "from sklearn import preprocessing\n",
        "le = preprocessing.LabelEncoder()\n"
      ],
      "metadata": {
        "id": "jcB_ZvHna0Hz"
      },
      "execution_count": 25,
      "outputs": []
    },
    {
      "cell_type": "code",
      "source": [
        "le.fit(df['NewsType'].tolist())\n",
        "df['label']=le.transform(df['NewsType'].tolist())"
      ],
      "metadata": {
        "id": "-xpTFeata0KR"
      },
      "execution_count": 26,
      "outputs": []
    },
    {
      "cell_type": "code",
      "source": [
        "df.sample()"
      ],
      "metadata": {
        "colab": {
          "base_uri": "https://localhost:8080/",
          "height": 81
        },
        "id": "7RAbyhLrcAgX",
        "outputId": "54e3188f-16b5-496a-8ec4-21711a4eb0e2"
      },
      "execution_count": 27,
      "outputs": [
        {
          "output_type": "execute_result",
          "data": {
            "text/plain": [
              "    Unnamed: 0 NewsType                                               News  \\\n",
              "50           2   Health  Megan and Stephen Alger, photographed at home ...   \n",
              "\n",
              "                                         text_cleaned  label  \n",
              "50  Megan and Stephen Alger, photographed at home ...      2  "
            ],
            "text/html": [
              "\n",
              "  <div id=\"df-7dd18891-e0c9-475e-af5a-713585e10938\" class=\"colab-df-container\">\n",
              "    <div>\n",
              "<style scoped>\n",
              "    .dataframe tbody tr th:only-of-type {\n",
              "        vertical-align: middle;\n",
              "    }\n",
              "\n",
              "    .dataframe tbody tr th {\n",
              "        vertical-align: top;\n",
              "    }\n",
              "\n",
              "    .dataframe thead th {\n",
              "        text-align: right;\n",
              "    }\n",
              "</style>\n",
              "<table border=\"1\" class=\"dataframe\">\n",
              "  <thead>\n",
              "    <tr style=\"text-align: right;\">\n",
              "      <th></th>\n",
              "      <th>Unnamed: 0</th>\n",
              "      <th>NewsType</th>\n",
              "      <th>News</th>\n",
              "      <th>text_cleaned</th>\n",
              "      <th>label</th>\n",
              "    </tr>\n",
              "  </thead>\n",
              "  <tbody>\n",
              "    <tr>\n",
              "      <th>50</th>\n",
              "      <td>2</td>\n",
              "      <td>Health</td>\n",
              "      <td>Megan and Stephen Alger, photographed at home ...</td>\n",
              "      <td>Megan and Stephen Alger, photographed at home ...</td>\n",
              "      <td>2</td>\n",
              "    </tr>\n",
              "  </tbody>\n",
              "</table>\n",
              "</div>\n",
              "    <div class=\"colab-df-buttons\">\n",
              "\n",
              "  <div class=\"colab-df-container\">\n",
              "    <button class=\"colab-df-convert\" onclick=\"convertToInteractive('df-7dd18891-e0c9-475e-af5a-713585e10938')\"\n",
              "            title=\"Convert this dataframe to an interactive table.\"\n",
              "            style=\"display:none;\">\n",
              "\n",
              "  <svg xmlns=\"http://www.w3.org/2000/svg\" height=\"24px\" viewBox=\"0 -960 960 960\">\n",
              "    <path d=\"M120-120v-720h720v720H120Zm60-500h600v-160H180v160Zm220 220h160v-160H400v160Zm0 220h160v-160H400v160ZM180-400h160v-160H180v160Zm440 0h160v-160H620v160ZM180-180h160v-160H180v160Zm440 0h160v-160H620v160Z\"/>\n",
              "  </svg>\n",
              "    </button>\n",
              "\n",
              "  <style>\n",
              "    .colab-df-container {\n",
              "      display:flex;\n",
              "      gap: 12px;\n",
              "    }\n",
              "\n",
              "    .colab-df-convert {\n",
              "      background-color: #E8F0FE;\n",
              "      border: none;\n",
              "      border-radius: 50%;\n",
              "      cursor: pointer;\n",
              "      display: none;\n",
              "      fill: #1967D2;\n",
              "      height: 32px;\n",
              "      padding: 0 0 0 0;\n",
              "      width: 32px;\n",
              "    }\n",
              "\n",
              "    .colab-df-convert:hover {\n",
              "      background-color: #E2EBFA;\n",
              "      box-shadow: 0px 1px 2px rgba(60, 64, 67, 0.3), 0px 1px 3px 1px rgba(60, 64, 67, 0.15);\n",
              "      fill: #174EA6;\n",
              "    }\n",
              "\n",
              "    .colab-df-buttons div {\n",
              "      margin-bottom: 4px;\n",
              "    }\n",
              "\n",
              "    [theme=dark] .colab-df-convert {\n",
              "      background-color: #3B4455;\n",
              "      fill: #D2E3FC;\n",
              "    }\n",
              "\n",
              "    [theme=dark] .colab-df-convert:hover {\n",
              "      background-color: #434B5C;\n",
              "      box-shadow: 0px 1px 3px 1px rgba(0, 0, 0, 0.15);\n",
              "      filter: drop-shadow(0px 1px 2px rgba(0, 0, 0, 0.3));\n",
              "      fill: #FFFFFF;\n",
              "    }\n",
              "  </style>\n",
              "\n",
              "    <script>\n",
              "      const buttonEl =\n",
              "        document.querySelector('#df-7dd18891-e0c9-475e-af5a-713585e10938 button.colab-df-convert');\n",
              "      buttonEl.style.display =\n",
              "        google.colab.kernel.accessAllowed ? 'block' : 'none';\n",
              "\n",
              "      async function convertToInteractive(key) {\n",
              "        const element = document.querySelector('#df-7dd18891-e0c9-475e-af5a-713585e10938');\n",
              "        const dataTable =\n",
              "          await google.colab.kernel.invokeFunction('convertToInteractive',\n",
              "                                                    [key], {});\n",
              "        if (!dataTable) return;\n",
              "\n",
              "        const docLinkHtml = 'Like what you see? Visit the ' +\n",
              "          '<a target=\"_blank\" href=https://colab.research.google.com/notebooks/data_table.ipynb>data table notebook</a>'\n",
              "          + ' to learn more about interactive tables.';\n",
              "        element.innerHTML = '';\n",
              "        dataTable['output_type'] = 'display_data';\n",
              "        await google.colab.output.renderOutput(dataTable, element);\n",
              "        const docLink = document.createElement('div');\n",
              "        docLink.innerHTML = docLinkHtml;\n",
              "        element.appendChild(docLink);\n",
              "      }\n",
              "    </script>\n",
              "  </div>\n",
              "\n",
              "\n",
              "    </div>\n",
              "  </div>\n"
            ],
            "application/vnd.google.colaboratory.intrinsic+json": {
              "type": "dataframe",
              "summary": "{\n  \"name\": \"df\",\n  \"rows\": 1,\n  \"fields\": [\n    {\n      \"column\": \"Unnamed: 0\",\n      \"properties\": {\n        \"dtype\": \"number\",\n        \"std\": null,\n        \"min\": 2,\n        \"max\": 2,\n        \"num_unique_values\": 1,\n        \"samples\": [\n          2\n        ],\n        \"semantic_type\": \"\",\n        \"description\": \"\"\n      }\n    },\n    {\n      \"column\": \"NewsType\",\n      \"properties\": {\n        \"dtype\": \"string\",\n        \"num_unique_values\": 1,\n        \"samples\": [\n          \"Health\"\n        ],\n        \"semantic_type\": \"\",\n        \"description\": \"\"\n      }\n    },\n    {\n      \"column\": \"News\",\n      \"properties\": {\n        \"dtype\": \"string\",\n        \"num_unique_values\": 1,\n        \"samples\": [\n          \"Megan and Stephen Alger, photographed at home with their children in Augusta, Georgia. They have eight children and are expecting their ninth in December. Kendrick Brinson/for NPR hide caption With eight kids and another one on the way, Megan Alger can seem more like the CEO of a small company than a typical American mom. In their family's suburban home in Augusta, Ga., kids are taught to be self-sufficient from a young age . Megan regularly deputizes her older children to care for the younger ones. \\\"I just gave my 2-year-old to my 8-year-old and said, 'Go put him in his bed,'\\\" she says around nap time, laughing. \\\"We'll see if it works.\\\" The 8-year-old obediently carried his brother to his crib and shut the door. As Roman Catholics, Megan and her husband, Stephen Alger, believe strongly in the family unit. Megan doesn't engage in paid work in order to homeschool the younger kids and run the household. She has delivered most of her babies at home. That's the plan with this next one too. In many ways, they appear to be exactly the kind of people whom President Trump has in mind in his call for large families \\u2014 the movement known as pronatalism . The administration has floated ideas like baby bonuses , increased access to in vitro fertilization and tax breaks to encourage people to have more children. The Algers' younger children ready to play in a playroom at their home on June 28. Kendrick Brinson/for NPR hide caption At the same time, a growing number of Americans distrust medical institutions \\u2014 where most babies are born. And families like the Algers, as well as advocates for maternal health, say the federal government could do a lot more to support parents, starting with birth. \\\"\\u200aI feel that for a country that's taking on this almost pro-life stance and pro-baby, and you want to have the nuclear family, we're not really doing much to increase the safety of that,\\\" says Katie Chubb, a community organizer who has been trying for years to give families in Augusta more options when it comes to where they have their babies. \\\"We're not doing much for mothers and birth safety .\\\" The Algers say there was a time when they were willing to vaccinate their children. But they wanted to do it on a slower schedule, and the school that their son was attending wasn't cooperating. \\\"We were constantly in the office with school administration,\\\" says Stephen, \\\"because somebody else had found out that 'the Algers weren't vaccinated' and were throwing a fit.\\\" Feeling ostracized, they left \\u2014 and decided to forgo vaccines all together. Seated at the table, three of the Algers' older children, Tybalt, Aurora and Dimitry (right), play a game, while the eldest, Aiden, plays the piano in their home on June 28. Kendrick Brinson/for NPR hide caption Though only Megan voted for Trump in 2024 \\u2014 Stephen says he didn't like either candidate \\u2014 they both felt hopeful when Robert F. Kennedy Jr. was appointed secretary of health and human services. His skepticism about vaccines and America's food system, they say, has offered some cultural legitimacy to their point of view. \\\"\\u200aI'm not looked at as much like I'm crazy when I don't let the kids have red dye or high fructose corn syrup at the birthday party,\\\" says Megan. Their skepticism has also led them to a deep distrust of hospitals. And they are not alone. One study shows that trust in doctors and hospitals declined by 30 percentage points between 2020 and 2024. Megan, who grew up in a military family with five siblings, says she watched her own mother be mistreated at a hospital. Stephen points to Georgia's high rate of maternal mortality as another reason he doesn't trust the system. For every 100,000 live births, 33.9 resulted in death in that state, according to a 2018-2021 report from the Centers for Disease Control and Prevention. That's well above the national maternal mortality rate of 23.5 deaths per 100,000, according to the same report. The Algers' youngest child, Sven, cuddles his mother at their home on June 28. Kendrick Brinson/for NPR hide caption \\\"I'm a logical guy,\\\" says Stephen. \\\"If you're telling me that hospital intervention is the thing that's supposed to decrease the maternal mortality rate, why is the maternal mortality rate increasing as women adopt more common medical practices to having children?\\\" The Algers have had most of their babies at home with a midwife who is licensed in another state, but not in Georgia. That's the plan with this next one as well. \\\"Something tragic could happen,\\\" says Stephen. \\\"\\u200aI acknowledge this is a risk we are accepting in order to get the benefits from having the baby at home.\\\" Dimitry plays with his youngest brother, Sven, at their home. Kendrick Brinson/for NPR hide caption The Algers fear that in a hospital they would be pushed into interventions they don't want, in the interest of speeding up labor or making things more convenient for doctors. To be clear, data shows hospitals are safer than home birth \\u2014 even in states with high rates of maternal and infant mortality \\u2014 for both mothers and babies . The American College of Obstetricians and Gynecologists says the risk of a baby dying in a home birth is twice that of hospital birth . For years, advocates across the United States have been warning that the country is not doing enough to provide for America's moms and babies. They point to high rates of maternal and infant mortality despite high health care spending . In 2023, Sen. Tammy Baldwin of Wisconsin was one of several legislators to introduce the Perinatal Workforce Act . She and other Democratic lawmakers aimed to improve the perinatal health workforce with diverse kinds of credentialing for health care workers involved in births. Her state has one of the highest rates of infant mortality, especially for Black women . In addition, the Biden administration outlined an ambitious plan called the Maternal Health Blueprint in 2022. Its priorities included \\\"ensuring women's voices are heard in the healthcare system\\\" and \\\"expanding the perinatal workforce\\\" \\u2014 birth workers including doulas, midwives and specialized nurses. But advocates say that under the Trump administration, much of their advocacy for increased investment in maternal and child health outcomes is on hold. The Perinatal Workforce Act did not pass. It's not illegal to give birth at home in Georgia. But it's difficult. And advocates say it would be safer if there were more licensed midwives. Unlike some other states, Georgia does not license midwives who haven't first been trained as nurses. Those who have been trained and licensed, called certified nurse midwives, can be difficult to find and hire, especially in rural areas. Stephen Alger shows a photo to their youngest son, Sven, on the day he was born at their home. Kendrick Brinson/For NPR hide caption The American College of Obstetricians and Gynecologists (ACOG) offers a cautious endorsement of other kinds of training for midwives. ACOG acknowledges that there are not enough qualified people to deliver babies but says that bringing a life into the world is dangerous and requires standards and training. It's a problem that's getting worse as rural hospitals close . In Georgia, this legal landscape has given rise to a gray market for midwives. Adjgiwa is a midwife who has never received formal training. She asked to be identified only by her middle name, for fear of drawing the attention of local health authorities. Sitting in a rocking chair on her front porch in the Georgia heat one afternoon, she says she no longer knows how many babies she has delivered in her 45 years as a midwife. \\\"I stopped counting at 1,000,\\\" she says, chuckling. Adjgiwa does not take insurance or partner with hospitals. Her clients find her by word of mouth and pay her in cash. She says she'd prefer to be licensed or work in a birth center. That would allow her to communicate with doctors about patients when she has to transfer them into their care. Adjgiwa says when the COVID-19 pandemic hit, demand for her services increased. \\\"All of the midwives that I knew, if they already had a busy practice, it just got busier,\\\" she says. \\\"Women started losing their faith in the medical system,\\\" she says, \\\"when it comes to their own lives and the life inside of them.\\\" Women are going to keep having babies at home, Adjgiwa argues, so it would be better to give families more options that are safe and legal. The Algers' baby is due around Christmas. In the past, Stephen has delivered several of their babies himself when the midwife didn't get there in time.\"\n        ],\n        \"semantic_type\": \"\",\n        \"description\": \"\"\n      }\n    },\n    {\n      \"column\": \"text_cleaned\",\n      \"properties\": {\n        \"dtype\": \"string\",\n        \"num_unique_values\": 1,\n        \"samples\": [\n          \"Megan and Stephen Alger, photographed at home with their children in Augusta, Georgia. They have eight children and are expecting their ninth in December. Kendrick Brinson/for NPR hide caption With eight kids and another one on the way, Megan Alger can seem more like the CEO of a small company than a typical American mom. In their family's suburban home in Augusta, Ga., kids are taught to be self-sufficient from a young age . Megan regularly deputizes her older children to care for the younger ones. \\\"I just gave my 2-year-old to my 8-year-old and said, 'Go put him in his bed,'\\\" she says around nap time, laughing. \\\"We'll see if it works.\\\" The 8-year-old obediently carried his brother to his crib and shut the door. As Roman Catholics, Megan and her husband, Stephen Alger, believe strongly in the family unit. Megan doesn't engage in paid work in order to homeschool the younger kids and run the household. She has delivered most of her babies at home. That's the plan with this next one too. In many ways, they appear to be exactly the kind of people whom President Trump has in mind in his call for large families \\u2014 the movement known as pronatalism . The administration has floated ideas like baby bonuses , increased access to in vitro fertilization and tax breaks to encourage people to have more children. The Algers' younger children ready to play in a playroom at their home on June 28. Kendrick Brinson/for NPR hide caption At the same time, a growing number of Americans distrust medical institutions \\u2014 where most babies are born. And families like the Algers, as well as advocates for maternal health, say the federal government could do a lot more to support parents, starting with birth. \\\"\\u200aI feel that for a country that's taking on this almost pro-life stance and pro-baby, and you want to have the nuclear family, we're not really doing much to increase the safety of that,\\\" says Katie Chubb, a community organizer who has been trying for years to give families in Augusta more options when it comes to where they have their babies. \\\"We're not doing much for mothers and birth safety .\\\" The Algers say there was a time when they were willing to vaccinate their children. But they wanted to do it on a slower schedule, and the school that their son was attending wasn't cooperating. \\\"We were constantly in the office with school administration,\\\" says Stephen, \\\"because somebody else had found out that 'the Algers weren't vaccinated' and were throwing a fit.\\\" Feeling ostracized, they left \\u2014 and decided to forgo vaccines all together. Seated at the table, three of the Algers' older children, Tybalt, Aurora and Dimitry (right), play a game, while the eldest, Aiden, plays the piano in their home on June 28. Kendrick Brinson/for NPR hide caption Though only Megan voted for Trump in 2024 \\u2014 Stephen says he didn't like either candidate \\u2014 they both felt hopeful when Robert F. Kennedy Jr. was appointed secretary of health and human services. His skepticism about vaccines and America's food system, they say, has offered some cultural legitimacy to their point of view. \\\"\\u200aI'm not looked at as much like I'm crazy when I don't let the kids have red dye or high fructose corn syrup at the birthday party,\\\" says Megan. Their skepticism has also led them to a deep distrust of hospitals. And they are not alone. One study shows that trust in doctors and hospitals declined by 30 percentage points between 2020 and 2024. Megan, who grew up in a military family with five siblings, says she watched her own mother be mistreated at a hospital. Stephen points to Georgia's high rate of maternal mortality as another reason he doesn't trust the system. For every 100,000 live births, 33.9 resulted in death in that state, according to a 2018-2021 report from the Centers for Disease Control and Prevention. That's well above the national maternal mortality rate of 23.5 deaths per 100,000, according to the same report. The Algers' youngest child, Sven, cuddles his mother at their home on June 28. Kendrick Brinson/for NPR hide caption \\\"I'm a logical guy,\\\" says Stephen. \\\"If you're telling me that hospital intervention is the thing that's supposed to decrease the maternal mortality rate, why is the maternal mortality rate increasing as women adopt more common medical practices to having children?\\\" The Algers have had most of their babies at home with a midwife who is licensed in another state, but not in Georgia. That's the plan with this next one as well. \\\"Something tragic could happen,\\\" says Stephen. \\\"\\u200aI acknowledge this is a risk we are accepting in order to get the benefits from having the baby at home.\\\" Dimitry plays with his youngest brother, Sven, at their home. Kendrick Brinson/for NPR hide caption The Algers fear that in a hospital they would be pushed into interventions they don't want, in the interest of speeding up labor or making things more convenient for doctors. To be clear, data shows hospitals are safer than home birth \\u2014 even in states with high rates of maternal and infant mortality \\u2014 for both mothers and babies . The American College of Obstetricians and Gynecologists says the risk of a baby dying in a home birth is twice that of hospital birth . For years, advocates across the United States have been warning that the country is not doing enough to provide for America's moms and babies. They point to high rates of maternal and infant mortality despite high health care spending . In 2023, Sen. Tammy Baldwin of Wisconsin was one of several legislators to introduce the Perinatal Workforce Act . She and other Democratic lawmakers aimed to improve the perinatal health workforce with diverse kinds of credentialing for health care workers involved in births. Her state has one of the highest rates of infant mortality, especially for Black women . In addition, the Biden administration outlined an ambitious plan called the Maternal Health Blueprint in 2022. Its priorities included \\\"ensuring women's voices are heard in the healthcare system\\\" and \\\"expanding the perinatal workforce\\\" \\u2014 birth workers including doulas, midwives and specialized nurses. But advocates say that under the Trump administration, much of their advocacy for increased investment in maternal and child health outcomes is on hold. The Perinatal Workforce Act did not pass. It's not illegal to give birth at home in Georgia. But it's difficult. And advocates say it would be safer if there were more licensed midwives. Unlike some other states, Georgia does not license midwives who haven't first been trained as nurses. Those who have been trained and licensed, called certified nurse midwives, can be difficult to find and hire, especially in rural areas. Stephen Alger shows a photo to their youngest son, Sven, on the day he was born at their home. Kendrick Brinson/For NPR hide caption The American College of Obstetricians and Gynecologists (ACOG) offers a cautious endorsement of other kinds of training for midwives. ACOG acknowledges that there are not enough qualified people to deliver babies but says that bringing a life into the world is dangerous and requires standards and training. It's a problem that's getting worse as rural hospitals close . In Georgia, this legal landscape has given rise to a gray market for midwives. Adjgiwa is a midwife who has never received formal training. She asked to be identified only by her middle name, for fear of drawing the attention of local health authorities. Sitting in a rocking chair on her front porch in the Georgia heat one afternoon, she says she no longer knows how many babies she has delivered in her 45 years as a midwife. \\\"I stopped counting at 1,000,\\\" she says, chuckling. Adjgiwa does not take insurance or partner with hospitals. Her clients find her by word of mouth and pay her in cash. She says she'd prefer to be licensed or work in a birth center. That would allow her to communicate with doctors about patients when she has to transfer them into their care. Adjgiwa says when the COVID-19 pandemic hit, demand for her services increased. \\\"All of the midwives that I knew, if they already had a busy practice, it just got busier,\\\" she says. \\\"Women started losing their faith in the medical system,\\\" she says, \\\"when it comes to their own lives and the life inside of them.\\\" Women are going to keep having babies at home, Adjgiwa argues, so it would be better to give families more options that are safe and legal. The Algers' baby is due around Christmas. In the past, Stephen has delivered several of their babies himself when the midwife didn't get there in time.\"\n        ],\n        \"semantic_type\": \"\",\n        \"description\": \"\"\n      }\n    },\n    {\n      \"column\": \"label\",\n      \"properties\": {\n        \"dtype\": \"number\",\n        \"std\": null,\n        \"min\": 2,\n        \"max\": 2,\n        \"num_unique_values\": 1,\n        \"samples\": [\n          2\n        ],\n        \"semantic_type\": \"\",\n        \"description\": \"\"\n      }\n    }\n  ]\n}"
            }
          },
          "metadata": {},
          "execution_count": 27
        }
      ]
    },
    {
      "cell_type": "code",
      "source": [
        "from sklearn.model_selection import train_test_split\n",
        "train_df,test_df=train_test_split(df,test_size=0.2,random_state=42)"
      ],
      "metadata": {
        "id": "0Eawzikma0Ma"
      },
      "execution_count": 28,
      "outputs": []
    },
    {
      "cell_type": "code",
      "source": [
        "df_train=train_df[['text_cleaned','label']]\n",
        "df_test=test_df[['text_cleaned','label']]"
      ],
      "metadata": {
        "id": "1ItsENMJa0Oi"
      },
      "execution_count": 29,
      "outputs": []
    },
    {
      "cell_type": "markdown",
      "source": [
        "#### Convert To HuggingFACE Dataset"
      ],
      "metadata": {
        "id": "ctHd8FT3a0Qw"
      }
    },
    {
      "cell_type": "code",
      "source": [
        "!pip install datasets\n",
        "!pip install evaluate"
      ],
      "metadata": {
        "colab": {
          "base_uri": "https://localhost:8080/"
        },
        "id": "woCeGDs0a0Sq",
        "outputId": "a6aa8a3e-0837-4d17-883d-c7ccd109e362"
      },
      "execution_count": 30,
      "outputs": [
        {
          "output_type": "stream",
          "name": "stdout",
          "text": [
            "Requirement already satisfied: datasets in /usr/local/lib/python3.11/dist-packages (2.14.4)\n",
            "Requirement already satisfied: numpy>=1.17 in /usr/local/lib/python3.11/dist-packages (from datasets) (2.0.2)\n",
            "Requirement already satisfied: pyarrow>=8.0.0 in /usr/local/lib/python3.11/dist-packages (from datasets) (18.1.0)\n",
            "Requirement already satisfied: dill<0.3.8,>=0.3.0 in /usr/local/lib/python3.11/dist-packages (from datasets) (0.3.7)\n",
            "Requirement already satisfied: pandas in /usr/local/lib/python3.11/dist-packages (from datasets) (2.2.2)\n",
            "Requirement already satisfied: requests>=2.19.0 in /usr/local/lib/python3.11/dist-packages (from datasets) (2.32.3)\n",
            "Requirement already satisfied: tqdm>=4.62.1 in /usr/local/lib/python3.11/dist-packages (from datasets) (4.67.1)\n",
            "Requirement already satisfied: xxhash in /usr/local/lib/python3.11/dist-packages (from datasets) (3.5.0)\n",
            "Requirement already satisfied: multiprocess in /usr/local/lib/python3.11/dist-packages (from datasets) (0.70.15)\n",
            "Requirement already satisfied: fsspec>=2021.11.1 in /usr/local/lib/python3.11/dist-packages (from fsspec[http]>=2021.11.1->datasets) (2025.3.2)\n",
            "Requirement already satisfied: aiohttp in /usr/local/lib/python3.11/dist-packages (from datasets) (3.11.15)\n",
            "Requirement already satisfied: huggingface-hub<1.0.0,>=0.14.0 in /usr/local/lib/python3.11/dist-packages (from datasets) (0.33.2)\n",
            "Requirement already satisfied: packaging in /usr/local/lib/python3.11/dist-packages (from datasets) (24.2)\n",
            "Requirement already satisfied: pyyaml>=5.1 in /usr/local/lib/python3.11/dist-packages (from datasets) (6.0.2)\n",
            "Requirement already satisfied: aiohappyeyeballs>=2.3.0 in /usr/local/lib/python3.11/dist-packages (from aiohttp->datasets) (2.6.1)\n",
            "Requirement already satisfied: aiosignal>=1.1.2 in /usr/local/lib/python3.11/dist-packages (from aiohttp->datasets) (1.4.0)\n",
            "Requirement already satisfied: attrs>=17.3.0 in /usr/local/lib/python3.11/dist-packages (from aiohttp->datasets) (25.3.0)\n",
            "Requirement already satisfied: frozenlist>=1.1.1 in /usr/local/lib/python3.11/dist-packages (from aiohttp->datasets) (1.7.0)\n",
            "Requirement already satisfied: multidict<7.0,>=4.5 in /usr/local/lib/python3.11/dist-packages (from aiohttp->datasets) (6.6.3)\n",
            "Requirement already satisfied: propcache>=0.2.0 in /usr/local/lib/python3.11/dist-packages (from aiohttp->datasets) (0.3.2)\n",
            "Requirement already satisfied: yarl<2.0,>=1.17.0 in /usr/local/lib/python3.11/dist-packages (from aiohttp->datasets) (1.20.1)\n",
            "Requirement already satisfied: filelock in /usr/local/lib/python3.11/dist-packages (from huggingface-hub<1.0.0,>=0.14.0->datasets) (3.18.0)\n",
            "Requirement already satisfied: typing-extensions>=3.7.4.3 in /usr/local/lib/python3.11/dist-packages (from huggingface-hub<1.0.0,>=0.14.0->datasets) (4.14.1)\n",
            "Requirement already satisfied: hf-xet<2.0.0,>=1.1.2 in /usr/local/lib/python3.11/dist-packages (from huggingface-hub<1.0.0,>=0.14.0->datasets) (1.1.5)\n",
            "Requirement already satisfied: charset-normalizer<4,>=2 in /usr/local/lib/python3.11/dist-packages (from requests>=2.19.0->datasets) (3.4.2)\n",
            "Requirement already satisfied: idna<4,>=2.5 in /usr/local/lib/python3.11/dist-packages (from requests>=2.19.0->datasets) (3.10)\n",
            "Requirement already satisfied: urllib3<3,>=1.21.1 in /usr/local/lib/python3.11/dist-packages (from requests>=2.19.0->datasets) (2.4.0)\n",
            "Requirement already satisfied: certifi>=2017.4.17 in /usr/local/lib/python3.11/dist-packages (from requests>=2.19.0->datasets) (2025.7.9)\n",
            "Requirement already satisfied: python-dateutil>=2.8.2 in /usr/local/lib/python3.11/dist-packages (from pandas->datasets) (2.9.0.post0)\n",
            "Requirement already satisfied: pytz>=2020.1 in /usr/local/lib/python3.11/dist-packages (from pandas->datasets) (2025.2)\n",
            "Requirement already satisfied: tzdata>=2022.7 in /usr/local/lib/python3.11/dist-packages (from pandas->datasets) (2025.2)\n",
            "Requirement already satisfied: six>=1.5 in /usr/local/lib/python3.11/dist-packages (from python-dateutil>=2.8.2->pandas->datasets) (1.17.0)\n",
            "Collecting evaluate\n",
            "  Downloading evaluate-0.4.5-py3-none-any.whl.metadata (9.5 kB)\n",
            "Requirement already satisfied: datasets>=2.0.0 in /usr/local/lib/python3.11/dist-packages (from evaluate) (2.14.4)\n",
            "Requirement already satisfied: numpy>=1.17 in /usr/local/lib/python3.11/dist-packages (from evaluate) (2.0.2)\n",
            "Requirement already satisfied: dill in /usr/local/lib/python3.11/dist-packages (from evaluate) (0.3.7)\n",
            "Requirement already satisfied: pandas in /usr/local/lib/python3.11/dist-packages (from evaluate) (2.2.2)\n",
            "Requirement already satisfied: requests>=2.19.0 in /usr/local/lib/python3.11/dist-packages (from evaluate) (2.32.3)\n",
            "Requirement already satisfied: tqdm>=4.62.1 in /usr/local/lib/python3.11/dist-packages (from evaluate) (4.67.1)\n",
            "Requirement already satisfied: xxhash in /usr/local/lib/python3.11/dist-packages (from evaluate) (3.5.0)\n",
            "Requirement already satisfied: multiprocess in /usr/local/lib/python3.11/dist-packages (from evaluate) (0.70.15)\n",
            "Requirement already satisfied: fsspec>=2021.05.0 in /usr/local/lib/python3.11/dist-packages (from fsspec[http]>=2021.05.0->evaluate) (2025.3.2)\n",
            "Requirement already satisfied: huggingface-hub>=0.7.0 in /usr/local/lib/python3.11/dist-packages (from evaluate) (0.33.2)\n",
            "Requirement already satisfied: packaging in /usr/local/lib/python3.11/dist-packages (from evaluate) (24.2)\n",
            "Requirement already satisfied: pyarrow>=8.0.0 in /usr/local/lib/python3.11/dist-packages (from datasets>=2.0.0->evaluate) (18.1.0)\n",
            "Requirement already satisfied: aiohttp in /usr/local/lib/python3.11/dist-packages (from datasets>=2.0.0->evaluate) (3.11.15)\n",
            "Requirement already satisfied: pyyaml>=5.1 in /usr/local/lib/python3.11/dist-packages (from datasets>=2.0.0->evaluate) (6.0.2)\n",
            "Requirement already satisfied: filelock in /usr/local/lib/python3.11/dist-packages (from huggingface-hub>=0.7.0->evaluate) (3.18.0)\n",
            "Requirement already satisfied: typing-extensions>=3.7.4.3 in /usr/local/lib/python3.11/dist-packages (from huggingface-hub>=0.7.0->evaluate) (4.14.1)\n",
            "Requirement already satisfied: hf-xet<2.0.0,>=1.1.2 in /usr/local/lib/python3.11/dist-packages (from huggingface-hub>=0.7.0->evaluate) (1.1.5)\n",
            "Requirement already satisfied: charset-normalizer<4,>=2 in /usr/local/lib/python3.11/dist-packages (from requests>=2.19.0->evaluate) (3.4.2)\n",
            "Requirement already satisfied: idna<4,>=2.5 in /usr/local/lib/python3.11/dist-packages (from requests>=2.19.0->evaluate) (3.10)\n",
            "Requirement already satisfied: urllib3<3,>=1.21.1 in /usr/local/lib/python3.11/dist-packages (from requests>=2.19.0->evaluate) (2.4.0)\n",
            "Requirement already satisfied: certifi>=2017.4.17 in /usr/local/lib/python3.11/dist-packages (from requests>=2.19.0->evaluate) (2025.7.9)\n",
            "Requirement already satisfied: python-dateutil>=2.8.2 in /usr/local/lib/python3.11/dist-packages (from pandas->evaluate) (2.9.0.post0)\n",
            "Requirement already satisfied: pytz>=2020.1 in /usr/local/lib/python3.11/dist-packages (from pandas->evaluate) (2025.2)\n",
            "Requirement already satisfied: tzdata>=2022.7 in /usr/local/lib/python3.11/dist-packages (from pandas->evaluate) (2025.2)\n",
            "Requirement already satisfied: aiohappyeyeballs>=2.3.0 in /usr/local/lib/python3.11/dist-packages (from aiohttp->datasets>=2.0.0->evaluate) (2.6.1)\n",
            "Requirement already satisfied: aiosignal>=1.1.2 in /usr/local/lib/python3.11/dist-packages (from aiohttp->datasets>=2.0.0->evaluate) (1.4.0)\n",
            "Requirement already satisfied: attrs>=17.3.0 in /usr/local/lib/python3.11/dist-packages (from aiohttp->datasets>=2.0.0->evaluate) (25.3.0)\n",
            "Requirement already satisfied: frozenlist>=1.1.1 in /usr/local/lib/python3.11/dist-packages (from aiohttp->datasets>=2.0.0->evaluate) (1.7.0)\n",
            "Requirement already satisfied: multidict<7.0,>=4.5 in /usr/local/lib/python3.11/dist-packages (from aiohttp->datasets>=2.0.0->evaluate) (6.6.3)\n",
            "Requirement already satisfied: propcache>=0.2.0 in /usr/local/lib/python3.11/dist-packages (from aiohttp->datasets>=2.0.0->evaluate) (0.3.2)\n",
            "Requirement already satisfied: yarl<2.0,>=1.17.0 in /usr/local/lib/python3.11/dist-packages (from aiohttp->datasets>=2.0.0->evaluate) (1.20.1)\n",
            "Requirement already satisfied: six>=1.5 in /usr/local/lib/python3.11/dist-packages (from python-dateutil>=2.8.2->pandas->evaluate) (1.17.0)\n",
            "Downloading evaluate-0.4.5-py3-none-any.whl (84 kB)\n",
            "\u001b[2K   \u001b[90m━━━━━━━━━━━━━━━━━━━━━━━━━━━━━━━━━━━━━━━━\u001b[0m \u001b[32m84.1/84.1 kB\u001b[0m \u001b[31m3.2 MB/s\u001b[0m eta \u001b[36m0:00:00\u001b[0m\n",
            "\u001b[?25hInstalling collected packages: evaluate\n",
            "Successfully installed evaluate-0.4.5\n"
          ]
        }
      ]
    },
    {
      "cell_type": "code",
      "source": [
        "from datasets import Dataset\n",
        "dataset_train=Dataset.from_pandas(df_train)\n",
        "dataset_test=Dataset.from_pandas(df_test)"
      ],
      "metadata": {
        "id": "7iXFtSnHa0U8"
      },
      "execution_count": 31,
      "outputs": []
    },
    {
      "cell_type": "code",
      "source": [
        "from transformers import AutoTokenizer\n",
        "tokenizer=AutoTokenizer.from_pretrained(model_name)"
      ],
      "metadata": {
        "colab": {
          "base_uri": "https://localhost:8080/",
          "height": 237,
          "referenced_widgets": [
            "d7ac9fa675204290a498f09b7e1b6262",
            "d66ff6b675a6466f895e9b97140f1020",
            "f0405cd293d344eb9d81fd2c2506add8",
            "badcf65bc7c24193a8430acfe1d4606e",
            "496f6cb75a564907bb85d65c1af8fc00",
            "9341c696a0dd4bddbfd720e6c291267b",
            "1bec4b81246d4270bd125ee299a30b78",
            "40ef921cb6dc41cebfc701784d181c7c",
            "4f98dfd4474e47c0930a9b9ec4714273",
            "494a7556fd5344379337b2925888d3ca",
            "73817cea9cec4e5584b2955f9970c76f",
            "2b6eee7f602e4c7d9991c6d08f0af776",
            "5d470588abf8451b946d3d73763927c3",
            "b92844519929461dbf4748ca7d3bec35",
            "b07f744fa4cd4dbeb6cb75489c64aa95",
            "ef12899ae90f4149a17ad5289819c9f8",
            "6bacb9c74c364ce28f41e20ebdac0b16",
            "a9dc292561764a438570061390385480",
            "46ae5693ae8a455c9f0afe9e504434f7",
            "b4371e0d8f7045c49c7dd45d09751feb",
            "d0fa56d9ace44101842220dd5715abe9",
            "795c8ca82d3c435b8be260e0543ff230",
            "c18138cf0bc840ecbcf45ccd6da8a558",
            "93996c9559bb4183b1a8b04ddd8c0445",
            "5425180e2671404481ae9f42838af6aa",
            "ce3b82b96cf44a6bbc99ecb28d901cdd",
            "675b91b674b44a2b857b2ffe4b3509b3",
            "91f57ce7f57d476780de8f3ca5000ce8",
            "4d557c42de0b4405b6bcabd9d9b270eb",
            "f67a83aa52b04e1c8f5358638a14b4b9",
            "774e7e1356a04943a201621f0c335207",
            "9e6db2364f8c455b9dc9d13e2c6f0ef0",
            "0be52f9028414cf0a8486dd40ba9d1af"
          ]
        },
        "id": "7CNwk94ia0Ww",
        "outputId": "afb3083c-899f-4989-d83c-6768edbd90f2"
      },
      "execution_count": 32,
      "outputs": [
        {
          "output_type": "stream",
          "name": "stderr",
          "text": [
            "/usr/local/lib/python3.11/dist-packages/huggingface_hub/utils/_auth.py:94: UserWarning: \n",
            "The secret `HF_TOKEN` does not exist in your Colab secrets.\n",
            "To authenticate with the Hugging Face Hub, create a token in your settings tab (https://huggingface.co/settings/tokens), set it as secret in your Google Colab and restart your session.\n",
            "You will be able to reuse this secret in all of your notebooks.\n",
            "Please note that authentication is recommended but still optional to access public models or datasets.\n",
            "  warnings.warn(\n"
          ]
        },
        {
          "output_type": "display_data",
          "data": {
            "text/plain": [
              "tokenizer_config.json:   0%|          | 0.00/50.5k [00:00<?, ?B/s]"
            ],
            "application/vnd.jupyter.widget-view+json": {
              "version_major": 2,
              "version_minor": 0,
              "model_id": "d7ac9fa675204290a498f09b7e1b6262"
            }
          },
          "metadata": {}
        },
        {
          "output_type": "display_data",
          "data": {
            "text/plain": [
              "tokenizer.json:   0%|          | 0.00/9.09M [00:00<?, ?B/s]"
            ],
            "application/vnd.jupyter.widget-view+json": {
              "version_major": 2,
              "version_minor": 0,
              "model_id": "2b6eee7f602e4c7d9991c6d08f0af776"
            }
          },
          "metadata": {}
        },
        {
          "output_type": "display_data",
          "data": {
            "text/plain": [
              "special_tokens_map.json:   0%|          | 0.00/301 [00:00<?, ?B/s]"
            ],
            "application/vnd.jupyter.widget-view+json": {
              "version_major": 2,
              "version_minor": 0,
              "model_id": "c18138cf0bc840ecbcf45ccd6da8a558"
            }
          },
          "metadata": {}
        }
      ]
    },
    {
      "cell_type": "code",
      "source": [
        "tokenizer.pad_token = tokenizer.eos_token\n",
        "tokenizer.pad_token_id=tokenizer.eos_token_id\n",
        "tokenizer.save_pretrained(\"tokenizer\")"
      ],
      "metadata": {
        "colab": {
          "base_uri": "https://localhost:8080/"
        },
        "id": "EiITp9aNlaji",
        "outputId": "ba7b3d30-8d2a-497d-994b-7f703db44f76"
      },
      "execution_count": 33,
      "outputs": [
        {
          "output_type": "execute_result",
          "data": {
            "text/plain": [
              "('tokenizer/tokenizer_config.json',\n",
              " 'tokenizer/special_tokens_map.json',\n",
              " 'tokenizer/tokenizer.json')"
            ]
          },
          "metadata": {},
          "execution_count": 33
        }
      ]
    },
    {
      "cell_type": "code",
      "source": [
        "def preprocessing(examples):\n",
        "  return tokenizer(examples['text_cleaned'],truncation=True)\n",
        "\n",
        "tokenized_train=dataset_train.map(preprocessing,batched=True)\n",
        "tokenized_test=dataset_test.map(preprocessing,batched=True)"
      ],
      "metadata": {
        "colab": {
          "base_uri": "https://localhost:8080/",
          "height": 81,
          "referenced_widgets": [
            "c571e96d789a4496afa2c078ead9f92c",
            "1877d901632c47d19c78554e5cc9b030",
            "f7760f087fa54102b561286f23431c9f",
            "cef4c18e358442f6aa30c6525de3f96e",
            "372b8d74918a4936a15b197393f5cf58",
            "dbd45939a73f40b6ac7085144d5aceca",
            "dfc18e86a20b4ebb8b37453318d0fe2c",
            "602ce216d2c6470d82f12b53adcfb9c0",
            "4f13dc0053ff4cdd892a4b70b7c2bc8c",
            "713b77e6aa4d4b0abba4f8dc2970f51f",
            "b5495d99527f41bf9467e9258104eea0",
            "7ecbeaa325124b689d95b3206e417272",
            "4b6807f1947e46ad942b45c385f7ca1d",
            "423dbdc4ee444d0181d088c2ac2b99aa",
            "812aee9cc022466e9991321df7e5af88",
            "ac022ac909d74956b5f2aabf2129f7ec",
            "b99ab9507dbe45608c9c59eb2c43fa46",
            "80e911d3610a49c68281404af4d599ab",
            "88a94bc3415c4286bbd278b8034de18b",
            "6ac227202a874b578bb3b259c320b55c",
            "f14693cb9bfa44c2ba8a03720e09ff03",
            "7cd9e80035aa4d10a06fc6c7199d4335"
          ]
        },
        "id": "H_tJ4nzpa0Zu",
        "outputId": "0897bfe1-0ad2-455c-c27b-61c096066da8"
      },
      "execution_count": 34,
      "outputs": [
        {
          "output_type": "display_data",
          "data": {
            "text/plain": [
              "Map:   0%|          | 0/96 [00:00<?, ? examples/s]"
            ],
            "application/vnd.jupyter.widget-view+json": {
              "version_major": 2,
              "version_minor": 0,
              "model_id": "c571e96d789a4496afa2c078ead9f92c"
            }
          },
          "metadata": {}
        },
        {
          "output_type": "display_data",
          "data": {
            "text/plain": [
              "Map:   0%|          | 0/24 [00:00<?, ? examples/s]"
            ],
            "application/vnd.jupyter.widget-view+json": {
              "version_major": 2,
              "version_minor": 0,
              "model_id": "7ecbeaa325124b689d95b3206e417272"
            }
          },
          "metadata": {}
        }
      ]
    },
    {
      "cell_type": "code",
      "source": [
        "  #Intialize Model\n",
        "from transformers import AutoModelForSequenceClassification\n",
        "model=AutoModelForSequenceClassification.from_pretrained(model_name,num_labels=5)"
      ],
      "metadata": {
        "colab": {
          "base_uri": "https://localhost:8080/",
          "height": 116,
          "referenced_widgets": [
            "2cb25a4fb57e493e96a04c9a89285433",
            "e68664d7c0834c9297948c1afdfbe672",
            "20824fe0d1e44a3bb311d293b3a58805",
            "8b0cd687031c485495c5fdd00484cfc6",
            "bbc455ab2bde4b5993caa81ff4c22fb2",
            "d460b9cebce248f8a812dafff79d0120",
            "ede4ae9cd7c543f8856deb3568b75f81",
            "5427b78c0cd04a89a85a5505139851ee",
            "06b3a43803ea4b1986caa1e3f98ef425",
            "01e1202391cf4955b9565bf5696764e1",
            "94e1dc5926b34988a52034da624aec3e",
            "17dea03a0839482a925ccd25875f9043",
            "13437d524bb64ec5a96ce3aa189c8bf6",
            "0dd49013a13442b09acbaf38a7ef2859",
            "fb35e11084b448f5a9caa73f754a5667",
            "a5fb94c0a6884c418628c6c10c5d1d3e",
            "8a07cbea16c543f389488c35411bc819",
            "5c63b5c65f2941cdb468257d22dbc01e",
            "1554423dc59f47b1a386485acc045621",
            "ad72b2eaa64b4d5f9ba2160bc31fc34a",
            "96240faf72ff42019c5878b01ba25748",
            "682b443ed15c4ee4bb75b87c1b70c97b"
          ]
        },
        "id": "Sk68ZuGzmIYI",
        "outputId": "0b24454b-d003-4392-b766-49514c4d8fad"
      },
      "execution_count": 35,
      "outputs": [
        {
          "output_type": "display_data",
          "data": {
            "text/plain": [
              "config.json:   0%|          | 0.00/843 [00:00<?, ?B/s]"
            ],
            "application/vnd.jupyter.widget-view+json": {
              "version_major": 2,
              "version_minor": 0,
              "model_id": "2cb25a4fb57e493e96a04c9a89285433"
            }
          },
          "metadata": {}
        },
        {
          "output_type": "display_data",
          "data": {
            "text/plain": [
              "model.safetensors:   0%|          | 0.00/2.47G [00:00<?, ?B/s]"
            ],
            "application/vnd.jupyter.widget-view+json": {
              "version_major": 2,
              "version_minor": 0,
              "model_id": "17dea03a0839482a925ccd25875f9043"
            }
          },
          "metadata": {}
        },
        {
          "output_type": "stream",
          "name": "stderr",
          "text": [
            "Some weights of LlamaForSequenceClassification were not initialized from the model checkpoint at meta-llama/Llama-3.2-1B and are newly initialized: ['score.weight']\n",
            "You should probably TRAIN this model on a down-stream task to be able to use it for predictions and inference.\n"
          ]
        }
      ]
    },
    {
      "cell_type": "code",
      "source": [
        "model.config.pad_token_id=model.config.eos_token_id"
      ],
      "metadata": {
        "id": "WQMdw5CHtJq0"
      },
      "execution_count": 36,
      "outputs": []
    },
    {
      "cell_type": "code",
      "source": [
        "numberoflayers=0\n",
        "for param in model.base_model.parameters():\n",
        "  numberoflayers+=1\n",
        "print(numberoflayers)"
      ],
      "metadata": {
        "colab": {
          "base_uri": "https://localhost:8080/"
        },
        "id": "mpzcUoi-mIcV",
        "outputId": "d323e22d-b3b0-4176-9674-eb0446ef38d2"
      },
      "execution_count": 37,
      "outputs": [
        {
          "output_type": "stream",
          "name": "stdout",
          "text": [
            "146\n"
          ]
        }
      ]
    },
    {
      "cell_type": "code",
      "source": [
        "layersnumber=0\n",
        "for param in model.base_model.parameters():\n",
        "  if layersnumber>numberoflayers-25:\n",
        "    break\n",
        "  layersnumber+=1\n",
        "  param.requires_grad=False\n"
      ],
      "metadata": {
        "id": "KA6iehWMmIe1"
      },
      "execution_count": 38,
      "outputs": []
    },
    {
      "cell_type": "code",
      "source": [
        "#TrainModel\n",
        "from transformers import TrainingArguments,Trainer\n",
        "import evaluate\n",
        "import numpy as np\n",
        "from transformers import DataCollatorWithPadding\n",
        "data_collator=DataCollatorWithPadding(tokenizer=tokenizer)\n",
        "metric=evaluate.load(\"accuracy\")\n",
        "def compute_metrics(eval_pred):\n",
        "  logits,labels=eval_pred\n",
        "  predictions=np.argmax(logits,axis=-1)\n",
        "  return metric.compute(predictions=predictions,references=labels)"
      ],
      "metadata": {
        "colab": {
          "base_uri": "https://localhost:8080/",
          "height": 49,
          "referenced_widgets": [
            "74b7d12a29924eab8a9ba8f65370dc32",
            "3131cbaef7e04ffab872e48bd07a2720",
            "923382d678844afd9c504d1f5fbba460",
            "c4b11a957d9146a4b122613fb81fbdaf",
            "50e4ce20c1d5440ebc5a0aa409ee6c0f",
            "d02ec90ffa624a97bfa87202f45f8c3f",
            "fc5bb0fc4e154f138766dcee6c02cf21",
            "2355304d24de4478b7fbf9378d7b7d3f",
            "d6ce520e7fdd414ca5c8f1dcb3f37f29",
            "288e6257900d47628ea0925a3a27ece7",
            "62f7d9bf759b435e8848597471446e00"
          ]
        },
        "id": "wGW6D-awmIhR",
        "outputId": "0f66d223-b900-4e69-a3f6-7c50caac576b"
      },
      "execution_count": 39,
      "outputs": [
        {
          "output_type": "display_data",
          "data": {
            "text/plain": [
              "Downloading builder script: 0.00B [00:00, ?B/s]"
            ],
            "application/vnd.jupyter.widget-view+json": {
              "version_major": 2,
              "version_minor": 0,
              "model_id": "74b7d12a29924eab8a9ba8f65370dc32"
            }
          },
          "metadata": {}
        }
      ]
    },
    {
      "cell_type": "code",
      "source": [
        "tokenizer.pad_token = tokenizer.eos_token\n",
        "tokenizer.pad_token_id = tokenizer.eos_token_id\n",
        "model.config.pad_token_id = tokenizer.pad_token_id  # match model to tokenizer"
      ],
      "metadata": {
        "id": "FNfnJ2a4vKH4"
      },
      "execution_count": 40,
      "outputs": []
    },
    {
      "cell_type": "code",
      "source": [
        "print(\"Tokenizer pad_token:\", tokenizer.pad_token)\n",
        "print(\"Tokenizer pad_token_id:\", tokenizer.pad_token_id)\n",
        "print(\"Model config pad_token_id:\", model.config.pad_token_id)"
      ],
      "metadata": {
        "colab": {
          "base_uri": "https://localhost:8080/"
        },
        "id": "HMet_n05vCdK",
        "outputId": "6e3a6a31-a13d-4390-d6b1-806240c9f9a2"
      },
      "execution_count": 41,
      "outputs": [
        {
          "output_type": "stream",
          "name": "stdout",
          "text": [
            "Tokenizer pad_token: <|end_of_text|>\n",
            "Tokenizer pad_token_id: 128001\n",
            "Model config pad_token_id: 128001\n"
          ]
        }
      ]
    },
    {
      "cell_type": "code",
      "source": [
        "training_args=TrainingArguments(\n",
        "    output_dir=\"./results\",\n",
        "    learning_rate=2e-5,\n",
        "\n",
        "    per_device_train_batch_size=2,\n",
        "    per_device_eval_batch_size=2,\n",
        "    weight_decay=0.01,\n",
        "    fp16=True,\n",
        "    report_to=\"none\",\n",
        "\n",
        "      save_steps=2000\n",
        ")\n",
        "trainer=Trainer(\n",
        "    model=model,\n",
        "    args=training_args,\n",
        "    train_dataset=tokenized_train,\n",
        "    eval_dataset=tokenized_test,\n",
        "    tokenizer=tokenizer,\n",
        "    data_collator=data_collator,\n",
        "    compute_metrics=compute_metrics,\n",
        ")"
      ],
      "metadata": {
        "colab": {
          "base_uri": "https://localhost:8080/"
        },
        "id": "AjgfK1XPmIkV",
        "outputId": "56fe22de-c6b1-4bda-8cdc-a66ddefeb7c1"
      },
      "execution_count": 42,
      "outputs": [
        {
          "output_type": "stream",
          "name": "stderr",
          "text": [
            "/tmp/ipython-input-42-2540101056.py:13: FutureWarning: `tokenizer` is deprecated and will be removed in version 5.0.0 for `Trainer.__init__`. Use `processing_class` instead.\n",
            "  trainer=Trainer(\n"
          ]
        }
      ]
    },
    {
      "cell_type": "code",
      "source": [
        "trainer.train()"
      ],
      "metadata": {
        "colab": {
          "base_uri": "https://localhost:8080/",
          "height": 110
        },
        "id": "VkCmRpBNoIUc",
        "outputId": "33c65815-1307-4b96-d52e-53ffb40bbd29"
      },
      "execution_count": 43,
      "outputs": [
        {
          "output_type": "display_data",
          "data": {
            "text/plain": [
              "<IPython.core.display.HTML object>"
            ],
            "text/html": [
              "\n",
              "    <div>\n",
              "      \n",
              "      <progress value='144' max='144' style='width:300px; height:20px; vertical-align: middle;'></progress>\n",
              "      [144/144 06:16, Epoch 3/3]\n",
              "    </div>\n",
              "    <table border=\"1\" class=\"dataframe\">\n",
              "  <thead>\n",
              " <tr style=\"text-align: left;\">\n",
              "      <th>Step</th>\n",
              "      <th>Training Loss</th>\n",
              "    </tr>\n",
              "  </thead>\n",
              "  <tbody>\n",
              "  </tbody>\n",
              "</table><p>"
            ]
          },
          "metadata": {}
        },
        {
          "output_type": "execute_result",
          "data": {
            "text/plain": [
              "TrainOutput(global_step=144, training_loss=1.5761098861694336, metrics={'train_runtime': 379.7329, 'train_samples_per_second': 0.758, 'train_steps_per_second': 0.379, 'total_flos': 2686308579311616.0, 'train_loss': 1.5761098861694336, 'epoch': 3.0})"
            ]
          },
          "metadata": {},
          "execution_count": 43
        }
      ]
    },
    {
      "cell_type": "code",
      "source": [
        "from sklearn.metrics import classification_report\n",
        "preds = trainer.predict(tokenized_test)\n",
        "preds = np.argmax(preds.predictions, axis=-1)\n",
        "GT= df_test['label'].tolist()\n",
        "print(classification_report(GT, preds))"
      ],
      "metadata": {
        "colab": {
          "base_uri": "https://localhost:8080/",
          "height": 225
        },
        "id": "LeWJxY6WoJA3",
        "outputId": "2b136bb1-8598-4c2b-afcb-23de6f2acf26"
      },
      "execution_count": 44,
      "outputs": [
        {
          "output_type": "display_data",
          "data": {
            "text/plain": [
              "<IPython.core.display.HTML object>"
            ],
            "text/html": []
          },
          "metadata": {}
        },
        {
          "output_type": "stream",
          "name": "stdout",
          "text": [
            "              precision    recall  f1-score   support\n",
            "\n",
            "           0       0.67      0.50      0.57         4\n",
            "           1       0.00      0.00      0.00         3\n",
            "           2       0.30      0.60      0.40         5\n",
            "           3       0.40      0.40      0.40         5\n",
            "           4       0.50      0.14      0.22         7\n",
            "\n",
            "    accuracy                           0.33        24\n",
            "   macro avg       0.37      0.33      0.32        24\n",
            "weighted avg       0.40      0.33      0.33        24\n",
            "\n"
          ]
        }
      ]
    },
    {
      "cell_type": "code",
      "source": [
        "model.config.id2label= {i:label for i,label in enumerate(le.classes_)}\n",
        "model.config.idlabel2= {i:label for i,label in enumerate(le.classes_)}"
      ],
      "metadata": {
        "id": "26lwsSYQ0-Jf"
      },
      "execution_count": 45,
      "outputs": []
    },
    {
      "cell_type": "code",
      "source": [
        "trainer.save_model(\"./news_classifier_model\")\n",
        "tokenizer.save_pretrained(\"./news_classifer_model\")"
      ],
      "metadata": {
        "colab": {
          "base_uri": "https://localhost:8080/"
        },
        "id": "xAS47YKS1Yf-",
        "outputId": "9c19f09b-f043-4dc4-965d-9a041de0d262"
      },
      "execution_count": 46,
      "outputs": [
        {
          "output_type": "execute_result",
          "data": {
            "text/plain": [
              "('./news_classifer_model/tokenizer_config.json',\n",
              " './news_classifer_model/special_tokens_map.json',\n",
              " './news_classifer_model/tokenizer.json')"
            ]
          },
          "metadata": {},
          "execution_count": 46
        }
      ]
    },
    {
      "cell_type": "code",
      "source": [
        "from transformers import pipeline\n",
        "classifier=pipeline(\"text-classification\",model=\"./news_classifier_model\",tokenizer=\"./news_classifier_model\")\n",
        "clf = pipeline(\"text-classification\", model=model, tokenizer=tokenizer)"
      ],
      "metadata": {
        "colab": {
          "base_uri": "https://localhost:8080/"
        },
        "id": "50oaQ8aX14F4",
        "outputId": "eecbc184-68da-48fa-9acf-6ee4596e5b40"
      },
      "execution_count": 47,
      "outputs": [
        {
          "output_type": "stream",
          "name": "stderr",
          "text": [
            "Device set to use cuda:0\n",
            "Device set to use cuda:0\n"
          ]
        }
      ]
    },
    {
      "cell_type": "code",
      "source": [
        "text = \"\"\"\n",
        "ndependence Day is approaching!\n",
        "\n",
        "Imagine if, in a few days, someone has procured illegal fireworks from a couple of states over. Are you:\n",
        "\n",
        "first in line to light them\n",
        "content to watch while others set them off\n",
        "going to find a fire extinguisher — just in case — while loudly condemning the activity?\n",
        "Ken Carter, a psychologist at Oxford College of Emory University, says everyone has a different level of sensation-seeking. This episode, we get into the factors at play, like people's brain chemistry, when deciding whether or not to do an activity, like setting off fireworks.\n",
        "\n",
        "For low and average sensation-seekers, very thrilling activities like large, self-run fireworks displays can cause their bodies to produce a lot of cortisol, a stress hormone.\n",
        "\n",
        "On the other hand, high sensation-seekers, Carter says, \"don't tend to produce that much cortisol when they're in those highly chaotic experiences. So when they're seeing those fireworks, they actually produce higher amounts of another chemical called dopamine, which is a neurotransmitter or a chemical messenger that's involved in pleasure.\"\n",
        "\n",
        "Carter has developed a 40-point self-assessment survey for people to figure out how much of a sensation-seeker they are. The survey can be found in his book, Buzz!\n",
        "\"\"\""
      ],
      "metadata": {
        "id": "AbhCrRkm2SZ4"
      },
      "execution_count": 48,
      "outputs": []
    },
    {
      "cell_type": "code",
      "source": [
        "result = clf.predict(text)\n",
        "print(result)"
      ],
      "metadata": {
        "colab": {
          "base_uri": "https://localhost:8080/"
        },
        "id": "qMZG5h2h2qDJ",
        "outputId": "8f51248b-450e-445d-a11a-a953556b0403"
      },
      "execution_count": 49,
      "outputs": [
        {
          "output_type": "stream",
          "name": "stdout",
          "text": [
            "[{'label': np.str_('Health'), 'score': 0.9915760159492493}]\n"
          ]
        }
      ]
    },
    {
      "cell_type": "code",
      "source": [],
      "metadata": {
        "id": "zq5XyR-ZBIIe"
      },
      "execution_count": 49,
      "outputs": []
    }
  ]
}