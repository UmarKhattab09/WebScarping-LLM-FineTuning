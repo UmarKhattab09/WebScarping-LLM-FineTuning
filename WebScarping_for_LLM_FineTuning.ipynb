{
  "nbformat": 4,
  "nbformat_minor": 0,
  "metadata": {
    "colab": {
      "provenance": [],
      "authorship_tag": "ABX9TyPBT0EzN5KUI2r/hJzbJ/t2",
      "include_colab_link": true
    },
    "kernelspec": {
      "name": "python3",
      "display_name": "Python 3"
    },
    "language_info": {
      "name": "python"
    },
    "widgets": {
      "application/vnd.jupyter.widget-state+json": {
        "b70be32d4329487881f65bcbfa20f09c": {
          "model_module": "@jupyter-widgets/controls",
          "model_name": "HBoxModel",
          "model_module_version": "1.5.0",
          "state": {
            "_dom_classes": [],
            "_model_module": "@jupyter-widgets/controls",
            "_model_module_version": "1.5.0",
            "_model_name": "HBoxModel",
            "_view_count": null,
            "_view_module": "@jupyter-widgets/controls",
            "_view_module_version": "1.5.0",
            "_view_name": "HBoxView",
            "box_style": "",
            "children": [
              "IPY_MODEL_925339909a2e485197231521635eeb00",
              "IPY_MODEL_2fdad693d63c40179e348c885c850448",
              "IPY_MODEL_23e4ef8c360f40c5aad46cb0b84ee140"
            ],
            "layout": "IPY_MODEL_bdc8074926e846f585ea84ac4cdd1c98"
          }
        },
        "925339909a2e485197231521635eeb00": {
          "model_module": "@jupyter-widgets/controls",
          "model_name": "HTMLModel",
          "model_module_version": "1.5.0",
          "state": {
            "_dom_classes": [],
            "_model_module": "@jupyter-widgets/controls",
            "_model_module_version": "1.5.0",
            "_model_name": "HTMLModel",
            "_view_count": null,
            "_view_module": "@jupyter-widgets/controls",
            "_view_module_version": "1.5.0",
            "_view_name": "HTMLView",
            "description": "",
            "description_tooltip": null,
            "layout": "IPY_MODEL_8e8a2b5f5a7d41448d6da07c95e24d88",
            "placeholder": "​",
            "style": "IPY_MODEL_a863c5485ae14bb0a1abb83be2ffefe8",
            "value": "tokenizer_config.json: 100%"
          }
        },
        "2fdad693d63c40179e348c885c850448": {
          "model_module": "@jupyter-widgets/controls",
          "model_name": "FloatProgressModel",
          "model_module_version": "1.5.0",
          "state": {
            "_dom_classes": [],
            "_model_module": "@jupyter-widgets/controls",
            "_model_module_version": "1.5.0",
            "_model_name": "FloatProgressModel",
            "_view_count": null,
            "_view_module": "@jupyter-widgets/controls",
            "_view_module_version": "1.5.0",
            "_view_name": "ProgressView",
            "bar_style": "success",
            "description": "",
            "description_tooltip": null,
            "layout": "IPY_MODEL_324ffa9454064a038e36f8a7df09efcf",
            "max": 50500,
            "min": 0,
            "orientation": "horizontal",
            "style": "IPY_MODEL_4631319b385447efaa887e72a9129fe8",
            "value": 50500
          }
        },
        "23e4ef8c360f40c5aad46cb0b84ee140": {
          "model_module": "@jupyter-widgets/controls",
          "model_name": "HTMLModel",
          "model_module_version": "1.5.0",
          "state": {
            "_dom_classes": [],
            "_model_module": "@jupyter-widgets/controls",
            "_model_module_version": "1.5.0",
            "_model_name": "HTMLModel",
            "_view_count": null,
            "_view_module": "@jupyter-widgets/controls",
            "_view_module_version": "1.5.0",
            "_view_name": "HTMLView",
            "description": "",
            "description_tooltip": null,
            "layout": "IPY_MODEL_11f2a1b90fec43b683289cf928cfd80e",
            "placeholder": "​",
            "style": "IPY_MODEL_7748c14da9eb41a3acc9b106d136c719",
            "value": " 50.5k/50.5k [00:00&lt;00:00, 1.93MB/s]"
          }
        },
        "bdc8074926e846f585ea84ac4cdd1c98": {
          "model_module": "@jupyter-widgets/base",
          "model_name": "LayoutModel",
          "model_module_version": "1.2.0",
          "state": {
            "_model_module": "@jupyter-widgets/base",
            "_model_module_version": "1.2.0",
            "_model_name": "LayoutModel",
            "_view_count": null,
            "_view_module": "@jupyter-widgets/base",
            "_view_module_version": "1.2.0",
            "_view_name": "LayoutView",
            "align_content": null,
            "align_items": null,
            "align_self": null,
            "border": null,
            "bottom": null,
            "display": null,
            "flex": null,
            "flex_flow": null,
            "grid_area": null,
            "grid_auto_columns": null,
            "grid_auto_flow": null,
            "grid_auto_rows": null,
            "grid_column": null,
            "grid_gap": null,
            "grid_row": null,
            "grid_template_areas": null,
            "grid_template_columns": null,
            "grid_template_rows": null,
            "height": null,
            "justify_content": null,
            "justify_items": null,
            "left": null,
            "margin": null,
            "max_height": null,
            "max_width": null,
            "min_height": null,
            "min_width": null,
            "object_fit": null,
            "object_position": null,
            "order": null,
            "overflow": null,
            "overflow_x": null,
            "overflow_y": null,
            "padding": null,
            "right": null,
            "top": null,
            "visibility": null,
            "width": null
          }
        },
        "8e8a2b5f5a7d41448d6da07c95e24d88": {
          "model_module": "@jupyter-widgets/base",
          "model_name": "LayoutModel",
          "model_module_version": "1.2.0",
          "state": {
            "_model_module": "@jupyter-widgets/base",
            "_model_module_version": "1.2.0",
            "_model_name": "LayoutModel",
            "_view_count": null,
            "_view_module": "@jupyter-widgets/base",
            "_view_module_version": "1.2.0",
            "_view_name": "LayoutView",
            "align_content": null,
            "align_items": null,
            "align_self": null,
            "border": null,
            "bottom": null,
            "display": null,
            "flex": null,
            "flex_flow": null,
            "grid_area": null,
            "grid_auto_columns": null,
            "grid_auto_flow": null,
            "grid_auto_rows": null,
            "grid_column": null,
            "grid_gap": null,
            "grid_row": null,
            "grid_template_areas": null,
            "grid_template_columns": null,
            "grid_template_rows": null,
            "height": null,
            "justify_content": null,
            "justify_items": null,
            "left": null,
            "margin": null,
            "max_height": null,
            "max_width": null,
            "min_height": null,
            "min_width": null,
            "object_fit": null,
            "object_position": null,
            "order": null,
            "overflow": null,
            "overflow_x": null,
            "overflow_y": null,
            "padding": null,
            "right": null,
            "top": null,
            "visibility": null,
            "width": null
          }
        },
        "a863c5485ae14bb0a1abb83be2ffefe8": {
          "model_module": "@jupyter-widgets/controls",
          "model_name": "DescriptionStyleModel",
          "model_module_version": "1.5.0",
          "state": {
            "_model_module": "@jupyter-widgets/controls",
            "_model_module_version": "1.5.0",
            "_model_name": "DescriptionStyleModel",
            "_view_count": null,
            "_view_module": "@jupyter-widgets/base",
            "_view_module_version": "1.2.0",
            "_view_name": "StyleView",
            "description_width": ""
          }
        },
        "324ffa9454064a038e36f8a7df09efcf": {
          "model_module": "@jupyter-widgets/base",
          "model_name": "LayoutModel",
          "model_module_version": "1.2.0",
          "state": {
            "_model_module": "@jupyter-widgets/base",
            "_model_module_version": "1.2.0",
            "_model_name": "LayoutModel",
            "_view_count": null,
            "_view_module": "@jupyter-widgets/base",
            "_view_module_version": "1.2.0",
            "_view_name": "LayoutView",
            "align_content": null,
            "align_items": null,
            "align_self": null,
            "border": null,
            "bottom": null,
            "display": null,
            "flex": null,
            "flex_flow": null,
            "grid_area": null,
            "grid_auto_columns": null,
            "grid_auto_flow": null,
            "grid_auto_rows": null,
            "grid_column": null,
            "grid_gap": null,
            "grid_row": null,
            "grid_template_areas": null,
            "grid_template_columns": null,
            "grid_template_rows": null,
            "height": null,
            "justify_content": null,
            "justify_items": null,
            "left": null,
            "margin": null,
            "max_height": null,
            "max_width": null,
            "min_height": null,
            "min_width": null,
            "object_fit": null,
            "object_position": null,
            "order": null,
            "overflow": null,
            "overflow_x": null,
            "overflow_y": null,
            "padding": null,
            "right": null,
            "top": null,
            "visibility": null,
            "width": null
          }
        },
        "4631319b385447efaa887e72a9129fe8": {
          "model_module": "@jupyter-widgets/controls",
          "model_name": "ProgressStyleModel",
          "model_module_version": "1.5.0",
          "state": {
            "_model_module": "@jupyter-widgets/controls",
            "_model_module_version": "1.5.0",
            "_model_name": "ProgressStyleModel",
            "_view_count": null,
            "_view_module": "@jupyter-widgets/base",
            "_view_module_version": "1.2.0",
            "_view_name": "StyleView",
            "bar_color": null,
            "description_width": ""
          }
        },
        "11f2a1b90fec43b683289cf928cfd80e": {
          "model_module": "@jupyter-widgets/base",
          "model_name": "LayoutModel",
          "model_module_version": "1.2.0",
          "state": {
            "_model_module": "@jupyter-widgets/base",
            "_model_module_version": "1.2.0",
            "_model_name": "LayoutModel",
            "_view_count": null,
            "_view_module": "@jupyter-widgets/base",
            "_view_module_version": "1.2.0",
            "_view_name": "LayoutView",
            "align_content": null,
            "align_items": null,
            "align_self": null,
            "border": null,
            "bottom": null,
            "display": null,
            "flex": null,
            "flex_flow": null,
            "grid_area": null,
            "grid_auto_columns": null,
            "grid_auto_flow": null,
            "grid_auto_rows": null,
            "grid_column": null,
            "grid_gap": null,
            "grid_row": null,
            "grid_template_areas": null,
            "grid_template_columns": null,
            "grid_template_rows": null,
            "height": null,
            "justify_content": null,
            "justify_items": null,
            "left": null,
            "margin": null,
            "max_height": null,
            "max_width": null,
            "min_height": null,
            "min_width": null,
            "object_fit": null,
            "object_position": null,
            "order": null,
            "overflow": null,
            "overflow_x": null,
            "overflow_y": null,
            "padding": null,
            "right": null,
            "top": null,
            "visibility": null,
            "width": null
          }
        },
        "7748c14da9eb41a3acc9b106d136c719": {
          "model_module": "@jupyter-widgets/controls",
          "model_name": "DescriptionStyleModel",
          "model_module_version": "1.5.0",
          "state": {
            "_model_module": "@jupyter-widgets/controls",
            "_model_module_version": "1.5.0",
            "_model_name": "DescriptionStyleModel",
            "_view_count": null,
            "_view_module": "@jupyter-widgets/base",
            "_view_module_version": "1.2.0",
            "_view_name": "StyleView",
            "description_width": ""
          }
        },
        "bafda7bee7b74ce6a9b9c44057e896fe": {
          "model_module": "@jupyter-widgets/controls",
          "model_name": "HBoxModel",
          "model_module_version": "1.5.0",
          "state": {
            "_dom_classes": [],
            "_model_module": "@jupyter-widgets/controls",
            "_model_module_version": "1.5.0",
            "_model_name": "HBoxModel",
            "_view_count": null,
            "_view_module": "@jupyter-widgets/controls",
            "_view_module_version": "1.5.0",
            "_view_name": "HBoxView",
            "box_style": "",
            "children": [
              "IPY_MODEL_5355ece94474419cb7cafb760db8d453",
              "IPY_MODEL_c61f78c487284eaba1c0e7cf6ab10953",
              "IPY_MODEL_71d09cd7b1484f64a1f683ad8f0c697e"
            ],
            "layout": "IPY_MODEL_f384b3cedd644146aa007d0c162532c1"
          }
        },
        "5355ece94474419cb7cafb760db8d453": {
          "model_module": "@jupyter-widgets/controls",
          "model_name": "HTMLModel",
          "model_module_version": "1.5.0",
          "state": {
            "_dom_classes": [],
            "_model_module": "@jupyter-widgets/controls",
            "_model_module_version": "1.5.0",
            "_model_name": "HTMLModel",
            "_view_count": null,
            "_view_module": "@jupyter-widgets/controls",
            "_view_module_version": "1.5.0",
            "_view_name": "HTMLView",
            "description": "",
            "description_tooltip": null,
            "layout": "IPY_MODEL_0d45933cbde64107ab0aceed8cf66327",
            "placeholder": "​",
            "style": "IPY_MODEL_70b831217e1c40509896454e2779484d",
            "value": "tokenizer.json: 100%"
          }
        },
        "c61f78c487284eaba1c0e7cf6ab10953": {
          "model_module": "@jupyter-widgets/controls",
          "model_name": "FloatProgressModel",
          "model_module_version": "1.5.0",
          "state": {
            "_dom_classes": [],
            "_model_module": "@jupyter-widgets/controls",
            "_model_module_version": "1.5.0",
            "_model_name": "FloatProgressModel",
            "_view_count": null,
            "_view_module": "@jupyter-widgets/controls",
            "_view_module_version": "1.5.0",
            "_view_name": "ProgressView",
            "bar_style": "success",
            "description": "",
            "description_tooltip": null,
            "layout": "IPY_MODEL_15dd2ccf90484c7b8bad92cfdae40266",
            "max": 9085657,
            "min": 0,
            "orientation": "horizontal",
            "style": "IPY_MODEL_1f5d4473338746d899e787b7fa5e2ec8",
            "value": 9085657
          }
        },
        "71d09cd7b1484f64a1f683ad8f0c697e": {
          "model_module": "@jupyter-widgets/controls",
          "model_name": "HTMLModel",
          "model_module_version": "1.5.0",
          "state": {
            "_dom_classes": [],
            "_model_module": "@jupyter-widgets/controls",
            "_model_module_version": "1.5.0",
            "_model_name": "HTMLModel",
            "_view_count": null,
            "_view_module": "@jupyter-widgets/controls",
            "_view_module_version": "1.5.0",
            "_view_name": "HTMLView",
            "description": "",
            "description_tooltip": null,
            "layout": "IPY_MODEL_d5795de6bd1142239eb6b13320e3d631",
            "placeholder": "​",
            "style": "IPY_MODEL_cded886b0af54f9695e615708b876f6b",
            "value": " 9.09M/9.09M [00:00&lt;00:00, 30.2MB/s]"
          }
        },
        "f384b3cedd644146aa007d0c162532c1": {
          "model_module": "@jupyter-widgets/base",
          "model_name": "LayoutModel",
          "model_module_version": "1.2.0",
          "state": {
            "_model_module": "@jupyter-widgets/base",
            "_model_module_version": "1.2.0",
            "_model_name": "LayoutModel",
            "_view_count": null,
            "_view_module": "@jupyter-widgets/base",
            "_view_module_version": "1.2.0",
            "_view_name": "LayoutView",
            "align_content": null,
            "align_items": null,
            "align_self": null,
            "border": null,
            "bottom": null,
            "display": null,
            "flex": null,
            "flex_flow": null,
            "grid_area": null,
            "grid_auto_columns": null,
            "grid_auto_flow": null,
            "grid_auto_rows": null,
            "grid_column": null,
            "grid_gap": null,
            "grid_row": null,
            "grid_template_areas": null,
            "grid_template_columns": null,
            "grid_template_rows": null,
            "height": null,
            "justify_content": null,
            "justify_items": null,
            "left": null,
            "margin": null,
            "max_height": null,
            "max_width": null,
            "min_height": null,
            "min_width": null,
            "object_fit": null,
            "object_position": null,
            "order": null,
            "overflow": null,
            "overflow_x": null,
            "overflow_y": null,
            "padding": null,
            "right": null,
            "top": null,
            "visibility": null,
            "width": null
          }
        },
        "0d45933cbde64107ab0aceed8cf66327": {
          "model_module": "@jupyter-widgets/base",
          "model_name": "LayoutModel",
          "model_module_version": "1.2.0",
          "state": {
            "_model_module": "@jupyter-widgets/base",
            "_model_module_version": "1.2.0",
            "_model_name": "LayoutModel",
            "_view_count": null,
            "_view_module": "@jupyter-widgets/base",
            "_view_module_version": "1.2.0",
            "_view_name": "LayoutView",
            "align_content": null,
            "align_items": null,
            "align_self": null,
            "border": null,
            "bottom": null,
            "display": null,
            "flex": null,
            "flex_flow": null,
            "grid_area": null,
            "grid_auto_columns": null,
            "grid_auto_flow": null,
            "grid_auto_rows": null,
            "grid_column": null,
            "grid_gap": null,
            "grid_row": null,
            "grid_template_areas": null,
            "grid_template_columns": null,
            "grid_template_rows": null,
            "height": null,
            "justify_content": null,
            "justify_items": null,
            "left": null,
            "margin": null,
            "max_height": null,
            "max_width": null,
            "min_height": null,
            "min_width": null,
            "object_fit": null,
            "object_position": null,
            "order": null,
            "overflow": null,
            "overflow_x": null,
            "overflow_y": null,
            "padding": null,
            "right": null,
            "top": null,
            "visibility": null,
            "width": null
          }
        },
        "70b831217e1c40509896454e2779484d": {
          "model_module": "@jupyter-widgets/controls",
          "model_name": "DescriptionStyleModel",
          "model_module_version": "1.5.0",
          "state": {
            "_model_module": "@jupyter-widgets/controls",
            "_model_module_version": "1.5.0",
            "_model_name": "DescriptionStyleModel",
            "_view_count": null,
            "_view_module": "@jupyter-widgets/base",
            "_view_module_version": "1.2.0",
            "_view_name": "StyleView",
            "description_width": ""
          }
        },
        "15dd2ccf90484c7b8bad92cfdae40266": {
          "model_module": "@jupyter-widgets/base",
          "model_name": "LayoutModel",
          "model_module_version": "1.2.0",
          "state": {
            "_model_module": "@jupyter-widgets/base",
            "_model_module_version": "1.2.0",
            "_model_name": "LayoutModel",
            "_view_count": null,
            "_view_module": "@jupyter-widgets/base",
            "_view_module_version": "1.2.0",
            "_view_name": "LayoutView",
            "align_content": null,
            "align_items": null,
            "align_self": null,
            "border": null,
            "bottom": null,
            "display": null,
            "flex": null,
            "flex_flow": null,
            "grid_area": null,
            "grid_auto_columns": null,
            "grid_auto_flow": null,
            "grid_auto_rows": null,
            "grid_column": null,
            "grid_gap": null,
            "grid_row": null,
            "grid_template_areas": null,
            "grid_template_columns": null,
            "grid_template_rows": null,
            "height": null,
            "justify_content": null,
            "justify_items": null,
            "left": null,
            "margin": null,
            "max_height": null,
            "max_width": null,
            "min_height": null,
            "min_width": null,
            "object_fit": null,
            "object_position": null,
            "order": null,
            "overflow": null,
            "overflow_x": null,
            "overflow_y": null,
            "padding": null,
            "right": null,
            "top": null,
            "visibility": null,
            "width": null
          }
        },
        "1f5d4473338746d899e787b7fa5e2ec8": {
          "model_module": "@jupyter-widgets/controls",
          "model_name": "ProgressStyleModel",
          "model_module_version": "1.5.0",
          "state": {
            "_model_module": "@jupyter-widgets/controls",
            "_model_module_version": "1.5.0",
            "_model_name": "ProgressStyleModel",
            "_view_count": null,
            "_view_module": "@jupyter-widgets/base",
            "_view_module_version": "1.2.0",
            "_view_name": "StyleView",
            "bar_color": null,
            "description_width": ""
          }
        },
        "d5795de6bd1142239eb6b13320e3d631": {
          "model_module": "@jupyter-widgets/base",
          "model_name": "LayoutModel",
          "model_module_version": "1.2.0",
          "state": {
            "_model_module": "@jupyter-widgets/base",
            "_model_module_version": "1.2.0",
            "_model_name": "LayoutModel",
            "_view_count": null,
            "_view_module": "@jupyter-widgets/base",
            "_view_module_version": "1.2.0",
            "_view_name": "LayoutView",
            "align_content": null,
            "align_items": null,
            "align_self": null,
            "border": null,
            "bottom": null,
            "display": null,
            "flex": null,
            "flex_flow": null,
            "grid_area": null,
            "grid_auto_columns": null,
            "grid_auto_flow": null,
            "grid_auto_rows": null,
            "grid_column": null,
            "grid_gap": null,
            "grid_row": null,
            "grid_template_areas": null,
            "grid_template_columns": null,
            "grid_template_rows": null,
            "height": null,
            "justify_content": null,
            "justify_items": null,
            "left": null,
            "margin": null,
            "max_height": null,
            "max_width": null,
            "min_height": null,
            "min_width": null,
            "object_fit": null,
            "object_position": null,
            "order": null,
            "overflow": null,
            "overflow_x": null,
            "overflow_y": null,
            "padding": null,
            "right": null,
            "top": null,
            "visibility": null,
            "width": null
          }
        },
        "cded886b0af54f9695e615708b876f6b": {
          "model_module": "@jupyter-widgets/controls",
          "model_name": "DescriptionStyleModel",
          "model_module_version": "1.5.0",
          "state": {
            "_model_module": "@jupyter-widgets/controls",
            "_model_module_version": "1.5.0",
            "_model_name": "DescriptionStyleModel",
            "_view_count": null,
            "_view_module": "@jupyter-widgets/base",
            "_view_module_version": "1.2.0",
            "_view_name": "StyleView",
            "description_width": ""
          }
        },
        "9a79fddb19804e23a3b7544ed462e16d": {
          "model_module": "@jupyter-widgets/controls",
          "model_name": "HBoxModel",
          "model_module_version": "1.5.0",
          "state": {
            "_dom_classes": [],
            "_model_module": "@jupyter-widgets/controls",
            "_model_module_version": "1.5.0",
            "_model_name": "HBoxModel",
            "_view_count": null,
            "_view_module": "@jupyter-widgets/controls",
            "_view_module_version": "1.5.0",
            "_view_name": "HBoxView",
            "box_style": "",
            "children": [
              "IPY_MODEL_1f580887d40d43259a96cbfac03c5424",
              "IPY_MODEL_9b20be50ea8e484db885a7fa32137196",
              "IPY_MODEL_f0c02d74e3d14f94af29ef7b4afb5746"
            ],
            "layout": "IPY_MODEL_4a90a4ac1e1b4d2fbb980b73f6ae802f"
          }
        },
        "1f580887d40d43259a96cbfac03c5424": {
          "model_module": "@jupyter-widgets/controls",
          "model_name": "HTMLModel",
          "model_module_version": "1.5.0",
          "state": {
            "_dom_classes": [],
            "_model_module": "@jupyter-widgets/controls",
            "_model_module_version": "1.5.0",
            "_model_name": "HTMLModel",
            "_view_count": null,
            "_view_module": "@jupyter-widgets/controls",
            "_view_module_version": "1.5.0",
            "_view_name": "HTMLView",
            "description": "",
            "description_tooltip": null,
            "layout": "IPY_MODEL_7e4b5794ade341ba837d7d66b272e119",
            "placeholder": "​",
            "style": "IPY_MODEL_60fa5a53c54b4b1bbd17582a515e507f",
            "value": "special_tokens_map.json: 100%"
          }
        },
        "9b20be50ea8e484db885a7fa32137196": {
          "model_module": "@jupyter-widgets/controls",
          "model_name": "FloatProgressModel",
          "model_module_version": "1.5.0",
          "state": {
            "_dom_classes": [],
            "_model_module": "@jupyter-widgets/controls",
            "_model_module_version": "1.5.0",
            "_model_name": "FloatProgressModel",
            "_view_count": null,
            "_view_module": "@jupyter-widgets/controls",
            "_view_module_version": "1.5.0",
            "_view_name": "ProgressView",
            "bar_style": "success",
            "description": "",
            "description_tooltip": null,
            "layout": "IPY_MODEL_d8c7c811dbeb4f038b652a077eef00e5",
            "max": 301,
            "min": 0,
            "orientation": "horizontal",
            "style": "IPY_MODEL_f2c5cdce1806465fbfcd301da630e590",
            "value": 301
          }
        },
        "f0c02d74e3d14f94af29ef7b4afb5746": {
          "model_module": "@jupyter-widgets/controls",
          "model_name": "HTMLModel",
          "model_module_version": "1.5.0",
          "state": {
            "_dom_classes": [],
            "_model_module": "@jupyter-widgets/controls",
            "_model_module_version": "1.5.0",
            "_model_name": "HTMLModel",
            "_view_count": null,
            "_view_module": "@jupyter-widgets/controls",
            "_view_module_version": "1.5.0",
            "_view_name": "HTMLView",
            "description": "",
            "description_tooltip": null,
            "layout": "IPY_MODEL_4f299f16f24d44d49fd97131a89c5a75",
            "placeholder": "​",
            "style": "IPY_MODEL_e8d481852f984e9f816b35ac7b469365",
            "value": " 301/301 [00:00&lt;00:00, 13.7kB/s]"
          }
        },
        "4a90a4ac1e1b4d2fbb980b73f6ae802f": {
          "model_module": "@jupyter-widgets/base",
          "model_name": "LayoutModel",
          "model_module_version": "1.2.0",
          "state": {
            "_model_module": "@jupyter-widgets/base",
            "_model_module_version": "1.2.0",
            "_model_name": "LayoutModel",
            "_view_count": null,
            "_view_module": "@jupyter-widgets/base",
            "_view_module_version": "1.2.0",
            "_view_name": "LayoutView",
            "align_content": null,
            "align_items": null,
            "align_self": null,
            "border": null,
            "bottom": null,
            "display": null,
            "flex": null,
            "flex_flow": null,
            "grid_area": null,
            "grid_auto_columns": null,
            "grid_auto_flow": null,
            "grid_auto_rows": null,
            "grid_column": null,
            "grid_gap": null,
            "grid_row": null,
            "grid_template_areas": null,
            "grid_template_columns": null,
            "grid_template_rows": null,
            "height": null,
            "justify_content": null,
            "justify_items": null,
            "left": null,
            "margin": null,
            "max_height": null,
            "max_width": null,
            "min_height": null,
            "min_width": null,
            "object_fit": null,
            "object_position": null,
            "order": null,
            "overflow": null,
            "overflow_x": null,
            "overflow_y": null,
            "padding": null,
            "right": null,
            "top": null,
            "visibility": null,
            "width": null
          }
        },
        "7e4b5794ade341ba837d7d66b272e119": {
          "model_module": "@jupyter-widgets/base",
          "model_name": "LayoutModel",
          "model_module_version": "1.2.0",
          "state": {
            "_model_module": "@jupyter-widgets/base",
            "_model_module_version": "1.2.0",
            "_model_name": "LayoutModel",
            "_view_count": null,
            "_view_module": "@jupyter-widgets/base",
            "_view_module_version": "1.2.0",
            "_view_name": "LayoutView",
            "align_content": null,
            "align_items": null,
            "align_self": null,
            "border": null,
            "bottom": null,
            "display": null,
            "flex": null,
            "flex_flow": null,
            "grid_area": null,
            "grid_auto_columns": null,
            "grid_auto_flow": null,
            "grid_auto_rows": null,
            "grid_column": null,
            "grid_gap": null,
            "grid_row": null,
            "grid_template_areas": null,
            "grid_template_columns": null,
            "grid_template_rows": null,
            "height": null,
            "justify_content": null,
            "justify_items": null,
            "left": null,
            "margin": null,
            "max_height": null,
            "max_width": null,
            "min_height": null,
            "min_width": null,
            "object_fit": null,
            "object_position": null,
            "order": null,
            "overflow": null,
            "overflow_x": null,
            "overflow_y": null,
            "padding": null,
            "right": null,
            "top": null,
            "visibility": null,
            "width": null
          }
        },
        "60fa5a53c54b4b1bbd17582a515e507f": {
          "model_module": "@jupyter-widgets/controls",
          "model_name": "DescriptionStyleModel",
          "model_module_version": "1.5.0",
          "state": {
            "_model_module": "@jupyter-widgets/controls",
            "_model_module_version": "1.5.0",
            "_model_name": "DescriptionStyleModel",
            "_view_count": null,
            "_view_module": "@jupyter-widgets/base",
            "_view_module_version": "1.2.0",
            "_view_name": "StyleView",
            "description_width": ""
          }
        },
        "d8c7c811dbeb4f038b652a077eef00e5": {
          "model_module": "@jupyter-widgets/base",
          "model_name": "LayoutModel",
          "model_module_version": "1.2.0",
          "state": {
            "_model_module": "@jupyter-widgets/base",
            "_model_module_version": "1.2.0",
            "_model_name": "LayoutModel",
            "_view_count": null,
            "_view_module": "@jupyter-widgets/base",
            "_view_module_version": "1.2.0",
            "_view_name": "LayoutView",
            "align_content": null,
            "align_items": null,
            "align_self": null,
            "border": null,
            "bottom": null,
            "display": null,
            "flex": null,
            "flex_flow": null,
            "grid_area": null,
            "grid_auto_columns": null,
            "grid_auto_flow": null,
            "grid_auto_rows": null,
            "grid_column": null,
            "grid_gap": null,
            "grid_row": null,
            "grid_template_areas": null,
            "grid_template_columns": null,
            "grid_template_rows": null,
            "height": null,
            "justify_content": null,
            "justify_items": null,
            "left": null,
            "margin": null,
            "max_height": null,
            "max_width": null,
            "min_height": null,
            "min_width": null,
            "object_fit": null,
            "object_position": null,
            "order": null,
            "overflow": null,
            "overflow_x": null,
            "overflow_y": null,
            "padding": null,
            "right": null,
            "top": null,
            "visibility": null,
            "width": null
          }
        },
        "f2c5cdce1806465fbfcd301da630e590": {
          "model_module": "@jupyter-widgets/controls",
          "model_name": "ProgressStyleModel",
          "model_module_version": "1.5.0",
          "state": {
            "_model_module": "@jupyter-widgets/controls",
            "_model_module_version": "1.5.0",
            "_model_name": "ProgressStyleModel",
            "_view_count": null,
            "_view_module": "@jupyter-widgets/base",
            "_view_module_version": "1.2.0",
            "_view_name": "StyleView",
            "bar_color": null,
            "description_width": ""
          }
        },
        "4f299f16f24d44d49fd97131a89c5a75": {
          "model_module": "@jupyter-widgets/base",
          "model_name": "LayoutModel",
          "model_module_version": "1.2.0",
          "state": {
            "_model_module": "@jupyter-widgets/base",
            "_model_module_version": "1.2.0",
            "_model_name": "LayoutModel",
            "_view_count": null,
            "_view_module": "@jupyter-widgets/base",
            "_view_module_version": "1.2.0",
            "_view_name": "LayoutView",
            "align_content": null,
            "align_items": null,
            "align_self": null,
            "border": null,
            "bottom": null,
            "display": null,
            "flex": null,
            "flex_flow": null,
            "grid_area": null,
            "grid_auto_columns": null,
            "grid_auto_flow": null,
            "grid_auto_rows": null,
            "grid_column": null,
            "grid_gap": null,
            "grid_row": null,
            "grid_template_areas": null,
            "grid_template_columns": null,
            "grid_template_rows": null,
            "height": null,
            "justify_content": null,
            "justify_items": null,
            "left": null,
            "margin": null,
            "max_height": null,
            "max_width": null,
            "min_height": null,
            "min_width": null,
            "object_fit": null,
            "object_position": null,
            "order": null,
            "overflow": null,
            "overflow_x": null,
            "overflow_y": null,
            "padding": null,
            "right": null,
            "top": null,
            "visibility": null,
            "width": null
          }
        },
        "e8d481852f984e9f816b35ac7b469365": {
          "model_module": "@jupyter-widgets/controls",
          "model_name": "DescriptionStyleModel",
          "model_module_version": "1.5.0",
          "state": {
            "_model_module": "@jupyter-widgets/controls",
            "_model_module_version": "1.5.0",
            "_model_name": "DescriptionStyleModel",
            "_view_count": null,
            "_view_module": "@jupyter-widgets/base",
            "_view_module_version": "1.2.0",
            "_view_name": "StyleView",
            "description_width": ""
          }
        },
        "417be7c090ff400f992829e4fd23d517": {
          "model_module": "@jupyter-widgets/controls",
          "model_name": "HBoxModel",
          "model_module_version": "1.5.0",
          "state": {
            "_dom_classes": [],
            "_model_module": "@jupyter-widgets/controls",
            "_model_module_version": "1.5.0",
            "_model_name": "HBoxModel",
            "_view_count": null,
            "_view_module": "@jupyter-widgets/controls",
            "_view_module_version": "1.5.0",
            "_view_name": "HBoxView",
            "box_style": "",
            "children": [
              "IPY_MODEL_bfcae41797c7420aa44f9c082c516bc2",
              "IPY_MODEL_9d8bd5d14bf14ad2af49d142f1e8df40",
              "IPY_MODEL_732ff823533143c385b92dd6c5fec7eb"
            ],
            "layout": "IPY_MODEL_0f1abfe1763e48a4a76a686d974edede"
          }
        },
        "bfcae41797c7420aa44f9c082c516bc2": {
          "model_module": "@jupyter-widgets/controls",
          "model_name": "HTMLModel",
          "model_module_version": "1.5.0",
          "state": {
            "_dom_classes": [],
            "_model_module": "@jupyter-widgets/controls",
            "_model_module_version": "1.5.0",
            "_model_name": "HTMLModel",
            "_view_count": null,
            "_view_module": "@jupyter-widgets/controls",
            "_view_module_version": "1.5.0",
            "_view_name": "HTMLView",
            "description": "",
            "description_tooltip": null,
            "layout": "IPY_MODEL_f4c48a7a8784459c910d2fffa13e4971",
            "placeholder": "​",
            "style": "IPY_MODEL_e704dfd66b6847ba91e508ff6059ed8a",
            "value": "Map: 100%"
          }
        },
        "9d8bd5d14bf14ad2af49d142f1e8df40": {
          "model_module": "@jupyter-widgets/controls",
          "model_name": "FloatProgressModel",
          "model_module_version": "1.5.0",
          "state": {
            "_dom_classes": [],
            "_model_module": "@jupyter-widgets/controls",
            "_model_module_version": "1.5.0",
            "_model_name": "FloatProgressModel",
            "_view_count": null,
            "_view_module": "@jupyter-widgets/controls",
            "_view_module_version": "1.5.0",
            "_view_name": "ProgressView",
            "bar_style": "success",
            "description": "",
            "description_tooltip": null,
            "layout": "IPY_MODEL_26dd35a45a8d468a8d5811f5e1b938bc",
            "max": 96,
            "min": 0,
            "orientation": "horizontal",
            "style": "IPY_MODEL_9c8f6fbbd32f4e21a010e7150154e555",
            "value": 96
          }
        },
        "732ff823533143c385b92dd6c5fec7eb": {
          "model_module": "@jupyter-widgets/controls",
          "model_name": "HTMLModel",
          "model_module_version": "1.5.0",
          "state": {
            "_dom_classes": [],
            "_model_module": "@jupyter-widgets/controls",
            "_model_module_version": "1.5.0",
            "_model_name": "HTMLModel",
            "_view_count": null,
            "_view_module": "@jupyter-widgets/controls",
            "_view_module_version": "1.5.0",
            "_view_name": "HTMLView",
            "description": "",
            "description_tooltip": null,
            "layout": "IPY_MODEL_a4f826771b4347889622b8a20422fd71",
            "placeholder": "​",
            "style": "IPY_MODEL_249b70ca879443ca94be7543b826ae1e",
            "value": " 96/96 [00:00&lt;00:00, 140.10 examples/s]"
          }
        },
        "0f1abfe1763e48a4a76a686d974edede": {
          "model_module": "@jupyter-widgets/base",
          "model_name": "LayoutModel",
          "model_module_version": "1.2.0",
          "state": {
            "_model_module": "@jupyter-widgets/base",
            "_model_module_version": "1.2.0",
            "_model_name": "LayoutModel",
            "_view_count": null,
            "_view_module": "@jupyter-widgets/base",
            "_view_module_version": "1.2.0",
            "_view_name": "LayoutView",
            "align_content": null,
            "align_items": null,
            "align_self": null,
            "border": null,
            "bottom": null,
            "display": null,
            "flex": null,
            "flex_flow": null,
            "grid_area": null,
            "grid_auto_columns": null,
            "grid_auto_flow": null,
            "grid_auto_rows": null,
            "grid_column": null,
            "grid_gap": null,
            "grid_row": null,
            "grid_template_areas": null,
            "grid_template_columns": null,
            "grid_template_rows": null,
            "height": null,
            "justify_content": null,
            "justify_items": null,
            "left": null,
            "margin": null,
            "max_height": null,
            "max_width": null,
            "min_height": null,
            "min_width": null,
            "object_fit": null,
            "object_position": null,
            "order": null,
            "overflow": null,
            "overflow_x": null,
            "overflow_y": null,
            "padding": null,
            "right": null,
            "top": null,
            "visibility": null,
            "width": null
          }
        },
        "f4c48a7a8784459c910d2fffa13e4971": {
          "model_module": "@jupyter-widgets/base",
          "model_name": "LayoutModel",
          "model_module_version": "1.2.0",
          "state": {
            "_model_module": "@jupyter-widgets/base",
            "_model_module_version": "1.2.0",
            "_model_name": "LayoutModel",
            "_view_count": null,
            "_view_module": "@jupyter-widgets/base",
            "_view_module_version": "1.2.0",
            "_view_name": "LayoutView",
            "align_content": null,
            "align_items": null,
            "align_self": null,
            "border": null,
            "bottom": null,
            "display": null,
            "flex": null,
            "flex_flow": null,
            "grid_area": null,
            "grid_auto_columns": null,
            "grid_auto_flow": null,
            "grid_auto_rows": null,
            "grid_column": null,
            "grid_gap": null,
            "grid_row": null,
            "grid_template_areas": null,
            "grid_template_columns": null,
            "grid_template_rows": null,
            "height": null,
            "justify_content": null,
            "justify_items": null,
            "left": null,
            "margin": null,
            "max_height": null,
            "max_width": null,
            "min_height": null,
            "min_width": null,
            "object_fit": null,
            "object_position": null,
            "order": null,
            "overflow": null,
            "overflow_x": null,
            "overflow_y": null,
            "padding": null,
            "right": null,
            "top": null,
            "visibility": null,
            "width": null
          }
        },
        "e704dfd66b6847ba91e508ff6059ed8a": {
          "model_module": "@jupyter-widgets/controls",
          "model_name": "DescriptionStyleModel",
          "model_module_version": "1.5.0",
          "state": {
            "_model_module": "@jupyter-widgets/controls",
            "_model_module_version": "1.5.0",
            "_model_name": "DescriptionStyleModel",
            "_view_count": null,
            "_view_module": "@jupyter-widgets/base",
            "_view_module_version": "1.2.0",
            "_view_name": "StyleView",
            "description_width": ""
          }
        },
        "26dd35a45a8d468a8d5811f5e1b938bc": {
          "model_module": "@jupyter-widgets/base",
          "model_name": "LayoutModel",
          "model_module_version": "1.2.0",
          "state": {
            "_model_module": "@jupyter-widgets/base",
            "_model_module_version": "1.2.0",
            "_model_name": "LayoutModel",
            "_view_count": null,
            "_view_module": "@jupyter-widgets/base",
            "_view_module_version": "1.2.0",
            "_view_name": "LayoutView",
            "align_content": null,
            "align_items": null,
            "align_self": null,
            "border": null,
            "bottom": null,
            "display": null,
            "flex": null,
            "flex_flow": null,
            "grid_area": null,
            "grid_auto_columns": null,
            "grid_auto_flow": null,
            "grid_auto_rows": null,
            "grid_column": null,
            "grid_gap": null,
            "grid_row": null,
            "grid_template_areas": null,
            "grid_template_columns": null,
            "grid_template_rows": null,
            "height": null,
            "justify_content": null,
            "justify_items": null,
            "left": null,
            "margin": null,
            "max_height": null,
            "max_width": null,
            "min_height": null,
            "min_width": null,
            "object_fit": null,
            "object_position": null,
            "order": null,
            "overflow": null,
            "overflow_x": null,
            "overflow_y": null,
            "padding": null,
            "right": null,
            "top": null,
            "visibility": null,
            "width": null
          }
        },
        "9c8f6fbbd32f4e21a010e7150154e555": {
          "model_module": "@jupyter-widgets/controls",
          "model_name": "ProgressStyleModel",
          "model_module_version": "1.5.0",
          "state": {
            "_model_module": "@jupyter-widgets/controls",
            "_model_module_version": "1.5.0",
            "_model_name": "ProgressStyleModel",
            "_view_count": null,
            "_view_module": "@jupyter-widgets/base",
            "_view_module_version": "1.2.0",
            "_view_name": "StyleView",
            "bar_color": null,
            "description_width": ""
          }
        },
        "a4f826771b4347889622b8a20422fd71": {
          "model_module": "@jupyter-widgets/base",
          "model_name": "LayoutModel",
          "model_module_version": "1.2.0",
          "state": {
            "_model_module": "@jupyter-widgets/base",
            "_model_module_version": "1.2.0",
            "_model_name": "LayoutModel",
            "_view_count": null,
            "_view_module": "@jupyter-widgets/base",
            "_view_module_version": "1.2.0",
            "_view_name": "LayoutView",
            "align_content": null,
            "align_items": null,
            "align_self": null,
            "border": null,
            "bottom": null,
            "display": null,
            "flex": null,
            "flex_flow": null,
            "grid_area": null,
            "grid_auto_columns": null,
            "grid_auto_flow": null,
            "grid_auto_rows": null,
            "grid_column": null,
            "grid_gap": null,
            "grid_row": null,
            "grid_template_areas": null,
            "grid_template_columns": null,
            "grid_template_rows": null,
            "height": null,
            "justify_content": null,
            "justify_items": null,
            "left": null,
            "margin": null,
            "max_height": null,
            "max_width": null,
            "min_height": null,
            "min_width": null,
            "object_fit": null,
            "object_position": null,
            "order": null,
            "overflow": null,
            "overflow_x": null,
            "overflow_y": null,
            "padding": null,
            "right": null,
            "top": null,
            "visibility": null,
            "width": null
          }
        },
        "249b70ca879443ca94be7543b826ae1e": {
          "model_module": "@jupyter-widgets/controls",
          "model_name": "DescriptionStyleModel",
          "model_module_version": "1.5.0",
          "state": {
            "_model_module": "@jupyter-widgets/controls",
            "_model_module_version": "1.5.0",
            "_model_name": "DescriptionStyleModel",
            "_view_count": null,
            "_view_module": "@jupyter-widgets/base",
            "_view_module_version": "1.2.0",
            "_view_name": "StyleView",
            "description_width": ""
          }
        },
        "02d13e72f8b040fe98e1c8cfde25225a": {
          "model_module": "@jupyter-widgets/controls",
          "model_name": "HBoxModel",
          "model_module_version": "1.5.0",
          "state": {
            "_dom_classes": [],
            "_model_module": "@jupyter-widgets/controls",
            "_model_module_version": "1.5.0",
            "_model_name": "HBoxModel",
            "_view_count": null,
            "_view_module": "@jupyter-widgets/controls",
            "_view_module_version": "1.5.0",
            "_view_name": "HBoxView",
            "box_style": "",
            "children": [
              "IPY_MODEL_69f2ab27c0dc463598ef458c63cb536a",
              "IPY_MODEL_0de8e3af94e147fc874a9160a6ba80a1",
              "IPY_MODEL_cc72b050a8d04c698f7fdef8f3121caa"
            ],
            "layout": "IPY_MODEL_f4dc9ee750a442489bb93be86d2194b0"
          }
        },
        "69f2ab27c0dc463598ef458c63cb536a": {
          "model_module": "@jupyter-widgets/controls",
          "model_name": "HTMLModel",
          "model_module_version": "1.5.0",
          "state": {
            "_dom_classes": [],
            "_model_module": "@jupyter-widgets/controls",
            "_model_module_version": "1.5.0",
            "_model_name": "HTMLModel",
            "_view_count": null,
            "_view_module": "@jupyter-widgets/controls",
            "_view_module_version": "1.5.0",
            "_view_name": "HTMLView",
            "description": "",
            "description_tooltip": null,
            "layout": "IPY_MODEL_c3a12a0c77c949a8a3592352f80eecf7",
            "placeholder": "​",
            "style": "IPY_MODEL_77b136821b854cc4a887a19a7e1f0294",
            "value": "Map: 100%"
          }
        },
        "0de8e3af94e147fc874a9160a6ba80a1": {
          "model_module": "@jupyter-widgets/controls",
          "model_name": "FloatProgressModel",
          "model_module_version": "1.5.0",
          "state": {
            "_dom_classes": [],
            "_model_module": "@jupyter-widgets/controls",
            "_model_module_version": "1.5.0",
            "_model_name": "FloatProgressModel",
            "_view_count": null,
            "_view_module": "@jupyter-widgets/controls",
            "_view_module_version": "1.5.0",
            "_view_name": "ProgressView",
            "bar_style": "success",
            "description": "",
            "description_tooltip": null,
            "layout": "IPY_MODEL_957119c99f1b405899e37a8cdd766e96",
            "max": 24,
            "min": 0,
            "orientation": "horizontal",
            "style": "IPY_MODEL_61591c89dc7346e3b24e0db9ccb423e0",
            "value": 24
          }
        },
        "cc72b050a8d04c698f7fdef8f3121caa": {
          "model_module": "@jupyter-widgets/controls",
          "model_name": "HTMLModel",
          "model_module_version": "1.5.0",
          "state": {
            "_dom_classes": [],
            "_model_module": "@jupyter-widgets/controls",
            "_model_module_version": "1.5.0",
            "_model_name": "HTMLModel",
            "_view_count": null,
            "_view_module": "@jupyter-widgets/controls",
            "_view_module_version": "1.5.0",
            "_view_name": "HTMLView",
            "description": "",
            "description_tooltip": null,
            "layout": "IPY_MODEL_0d9678f9484d454b9400dd3972366f17",
            "placeholder": "​",
            "style": "IPY_MODEL_81116e9126c34eaeaf7592bedde43161",
            "value": " 24/24 [00:00&lt;00:00, 121.71 examples/s]"
          }
        },
        "f4dc9ee750a442489bb93be86d2194b0": {
          "model_module": "@jupyter-widgets/base",
          "model_name": "LayoutModel",
          "model_module_version": "1.2.0",
          "state": {
            "_model_module": "@jupyter-widgets/base",
            "_model_module_version": "1.2.0",
            "_model_name": "LayoutModel",
            "_view_count": null,
            "_view_module": "@jupyter-widgets/base",
            "_view_module_version": "1.2.0",
            "_view_name": "LayoutView",
            "align_content": null,
            "align_items": null,
            "align_self": null,
            "border": null,
            "bottom": null,
            "display": null,
            "flex": null,
            "flex_flow": null,
            "grid_area": null,
            "grid_auto_columns": null,
            "grid_auto_flow": null,
            "grid_auto_rows": null,
            "grid_column": null,
            "grid_gap": null,
            "grid_row": null,
            "grid_template_areas": null,
            "grid_template_columns": null,
            "grid_template_rows": null,
            "height": null,
            "justify_content": null,
            "justify_items": null,
            "left": null,
            "margin": null,
            "max_height": null,
            "max_width": null,
            "min_height": null,
            "min_width": null,
            "object_fit": null,
            "object_position": null,
            "order": null,
            "overflow": null,
            "overflow_x": null,
            "overflow_y": null,
            "padding": null,
            "right": null,
            "top": null,
            "visibility": null,
            "width": null
          }
        },
        "c3a12a0c77c949a8a3592352f80eecf7": {
          "model_module": "@jupyter-widgets/base",
          "model_name": "LayoutModel",
          "model_module_version": "1.2.0",
          "state": {
            "_model_module": "@jupyter-widgets/base",
            "_model_module_version": "1.2.0",
            "_model_name": "LayoutModel",
            "_view_count": null,
            "_view_module": "@jupyter-widgets/base",
            "_view_module_version": "1.2.0",
            "_view_name": "LayoutView",
            "align_content": null,
            "align_items": null,
            "align_self": null,
            "border": null,
            "bottom": null,
            "display": null,
            "flex": null,
            "flex_flow": null,
            "grid_area": null,
            "grid_auto_columns": null,
            "grid_auto_flow": null,
            "grid_auto_rows": null,
            "grid_column": null,
            "grid_gap": null,
            "grid_row": null,
            "grid_template_areas": null,
            "grid_template_columns": null,
            "grid_template_rows": null,
            "height": null,
            "justify_content": null,
            "justify_items": null,
            "left": null,
            "margin": null,
            "max_height": null,
            "max_width": null,
            "min_height": null,
            "min_width": null,
            "object_fit": null,
            "object_position": null,
            "order": null,
            "overflow": null,
            "overflow_x": null,
            "overflow_y": null,
            "padding": null,
            "right": null,
            "top": null,
            "visibility": null,
            "width": null
          }
        },
        "77b136821b854cc4a887a19a7e1f0294": {
          "model_module": "@jupyter-widgets/controls",
          "model_name": "DescriptionStyleModel",
          "model_module_version": "1.5.0",
          "state": {
            "_model_module": "@jupyter-widgets/controls",
            "_model_module_version": "1.5.0",
            "_model_name": "DescriptionStyleModel",
            "_view_count": null,
            "_view_module": "@jupyter-widgets/base",
            "_view_module_version": "1.2.0",
            "_view_name": "StyleView",
            "description_width": ""
          }
        },
        "957119c99f1b405899e37a8cdd766e96": {
          "model_module": "@jupyter-widgets/base",
          "model_name": "LayoutModel",
          "model_module_version": "1.2.0",
          "state": {
            "_model_module": "@jupyter-widgets/base",
            "_model_module_version": "1.2.0",
            "_model_name": "LayoutModel",
            "_view_count": null,
            "_view_module": "@jupyter-widgets/base",
            "_view_module_version": "1.2.0",
            "_view_name": "LayoutView",
            "align_content": null,
            "align_items": null,
            "align_self": null,
            "border": null,
            "bottom": null,
            "display": null,
            "flex": null,
            "flex_flow": null,
            "grid_area": null,
            "grid_auto_columns": null,
            "grid_auto_flow": null,
            "grid_auto_rows": null,
            "grid_column": null,
            "grid_gap": null,
            "grid_row": null,
            "grid_template_areas": null,
            "grid_template_columns": null,
            "grid_template_rows": null,
            "height": null,
            "justify_content": null,
            "justify_items": null,
            "left": null,
            "margin": null,
            "max_height": null,
            "max_width": null,
            "min_height": null,
            "min_width": null,
            "object_fit": null,
            "object_position": null,
            "order": null,
            "overflow": null,
            "overflow_x": null,
            "overflow_y": null,
            "padding": null,
            "right": null,
            "top": null,
            "visibility": null,
            "width": null
          }
        },
        "61591c89dc7346e3b24e0db9ccb423e0": {
          "model_module": "@jupyter-widgets/controls",
          "model_name": "ProgressStyleModel",
          "model_module_version": "1.5.0",
          "state": {
            "_model_module": "@jupyter-widgets/controls",
            "_model_module_version": "1.5.0",
            "_model_name": "ProgressStyleModel",
            "_view_count": null,
            "_view_module": "@jupyter-widgets/base",
            "_view_module_version": "1.2.0",
            "_view_name": "StyleView",
            "bar_color": null,
            "description_width": ""
          }
        },
        "0d9678f9484d454b9400dd3972366f17": {
          "model_module": "@jupyter-widgets/base",
          "model_name": "LayoutModel",
          "model_module_version": "1.2.0",
          "state": {
            "_model_module": "@jupyter-widgets/base",
            "_model_module_version": "1.2.0",
            "_model_name": "LayoutModel",
            "_view_count": null,
            "_view_module": "@jupyter-widgets/base",
            "_view_module_version": "1.2.0",
            "_view_name": "LayoutView",
            "align_content": null,
            "align_items": null,
            "align_self": null,
            "border": null,
            "bottom": null,
            "display": null,
            "flex": null,
            "flex_flow": null,
            "grid_area": null,
            "grid_auto_columns": null,
            "grid_auto_flow": null,
            "grid_auto_rows": null,
            "grid_column": null,
            "grid_gap": null,
            "grid_row": null,
            "grid_template_areas": null,
            "grid_template_columns": null,
            "grid_template_rows": null,
            "height": null,
            "justify_content": null,
            "justify_items": null,
            "left": null,
            "margin": null,
            "max_height": null,
            "max_width": null,
            "min_height": null,
            "min_width": null,
            "object_fit": null,
            "object_position": null,
            "order": null,
            "overflow": null,
            "overflow_x": null,
            "overflow_y": null,
            "padding": null,
            "right": null,
            "top": null,
            "visibility": null,
            "width": null
          }
        },
        "81116e9126c34eaeaf7592bedde43161": {
          "model_module": "@jupyter-widgets/controls",
          "model_name": "DescriptionStyleModel",
          "model_module_version": "1.5.0",
          "state": {
            "_model_module": "@jupyter-widgets/controls",
            "_model_module_version": "1.5.0",
            "_model_name": "DescriptionStyleModel",
            "_view_count": null,
            "_view_module": "@jupyter-widgets/base",
            "_view_module_version": "1.2.0",
            "_view_name": "StyleView",
            "description_width": ""
          }
        },
        "2570824e5b634b98bf9bf1e6eeaa10c3": {
          "model_module": "@jupyter-widgets/controls",
          "model_name": "HBoxModel",
          "model_module_version": "1.5.0",
          "state": {
            "_dom_classes": [],
            "_model_module": "@jupyter-widgets/controls",
            "_model_module_version": "1.5.0",
            "_model_name": "HBoxModel",
            "_view_count": null,
            "_view_module": "@jupyter-widgets/controls",
            "_view_module_version": "1.5.0",
            "_view_name": "HBoxView",
            "box_style": "",
            "children": [
              "IPY_MODEL_a8daeedac557472dbcbb2cd8ad62e705",
              "IPY_MODEL_a26c4a37a55f428cb9285cbed7c8f749",
              "IPY_MODEL_f167f2972ead41319468966cb12273f9"
            ],
            "layout": "IPY_MODEL_6528e72225014f8ab7a67d5ae3844755"
          }
        },
        "a8daeedac557472dbcbb2cd8ad62e705": {
          "model_module": "@jupyter-widgets/controls",
          "model_name": "HTMLModel",
          "model_module_version": "1.5.0",
          "state": {
            "_dom_classes": [],
            "_model_module": "@jupyter-widgets/controls",
            "_model_module_version": "1.5.0",
            "_model_name": "HTMLModel",
            "_view_count": null,
            "_view_module": "@jupyter-widgets/controls",
            "_view_module_version": "1.5.0",
            "_view_name": "HTMLView",
            "description": "",
            "description_tooltip": null,
            "layout": "IPY_MODEL_d0c37853ef3d46919d7583e8966a2e5b",
            "placeholder": "​",
            "style": "IPY_MODEL_caae438e86c44bd29f9ec8c85dd3afda",
            "value": "config.json: 100%"
          }
        },
        "a26c4a37a55f428cb9285cbed7c8f749": {
          "model_module": "@jupyter-widgets/controls",
          "model_name": "FloatProgressModel",
          "model_module_version": "1.5.0",
          "state": {
            "_dom_classes": [],
            "_model_module": "@jupyter-widgets/controls",
            "_model_module_version": "1.5.0",
            "_model_name": "FloatProgressModel",
            "_view_count": null,
            "_view_module": "@jupyter-widgets/controls",
            "_view_module_version": "1.5.0",
            "_view_name": "ProgressView",
            "bar_style": "success",
            "description": "",
            "description_tooltip": null,
            "layout": "IPY_MODEL_2aea99c67ba74748a2dd2444690d157e",
            "max": 843,
            "min": 0,
            "orientation": "horizontal",
            "style": "IPY_MODEL_2dac7b7b78854b44a73de1b540a9ea4c",
            "value": 843
          }
        },
        "f167f2972ead41319468966cb12273f9": {
          "model_module": "@jupyter-widgets/controls",
          "model_name": "HTMLModel",
          "model_module_version": "1.5.0",
          "state": {
            "_dom_classes": [],
            "_model_module": "@jupyter-widgets/controls",
            "_model_module_version": "1.5.0",
            "_model_name": "HTMLModel",
            "_view_count": null,
            "_view_module": "@jupyter-widgets/controls",
            "_view_module_version": "1.5.0",
            "_view_name": "HTMLView",
            "description": "",
            "description_tooltip": null,
            "layout": "IPY_MODEL_e21e583147854c6e89e1847f40c0f509",
            "placeholder": "​",
            "style": "IPY_MODEL_4e3901cee83242028551d879d8e96d3f",
            "value": " 843/843 [00:00&lt;00:00, 37.0kB/s]"
          }
        },
        "6528e72225014f8ab7a67d5ae3844755": {
          "model_module": "@jupyter-widgets/base",
          "model_name": "LayoutModel",
          "model_module_version": "1.2.0",
          "state": {
            "_model_module": "@jupyter-widgets/base",
            "_model_module_version": "1.2.0",
            "_model_name": "LayoutModel",
            "_view_count": null,
            "_view_module": "@jupyter-widgets/base",
            "_view_module_version": "1.2.0",
            "_view_name": "LayoutView",
            "align_content": null,
            "align_items": null,
            "align_self": null,
            "border": null,
            "bottom": null,
            "display": null,
            "flex": null,
            "flex_flow": null,
            "grid_area": null,
            "grid_auto_columns": null,
            "grid_auto_flow": null,
            "grid_auto_rows": null,
            "grid_column": null,
            "grid_gap": null,
            "grid_row": null,
            "grid_template_areas": null,
            "grid_template_columns": null,
            "grid_template_rows": null,
            "height": null,
            "justify_content": null,
            "justify_items": null,
            "left": null,
            "margin": null,
            "max_height": null,
            "max_width": null,
            "min_height": null,
            "min_width": null,
            "object_fit": null,
            "object_position": null,
            "order": null,
            "overflow": null,
            "overflow_x": null,
            "overflow_y": null,
            "padding": null,
            "right": null,
            "top": null,
            "visibility": null,
            "width": null
          }
        },
        "d0c37853ef3d46919d7583e8966a2e5b": {
          "model_module": "@jupyter-widgets/base",
          "model_name": "LayoutModel",
          "model_module_version": "1.2.0",
          "state": {
            "_model_module": "@jupyter-widgets/base",
            "_model_module_version": "1.2.0",
            "_model_name": "LayoutModel",
            "_view_count": null,
            "_view_module": "@jupyter-widgets/base",
            "_view_module_version": "1.2.0",
            "_view_name": "LayoutView",
            "align_content": null,
            "align_items": null,
            "align_self": null,
            "border": null,
            "bottom": null,
            "display": null,
            "flex": null,
            "flex_flow": null,
            "grid_area": null,
            "grid_auto_columns": null,
            "grid_auto_flow": null,
            "grid_auto_rows": null,
            "grid_column": null,
            "grid_gap": null,
            "grid_row": null,
            "grid_template_areas": null,
            "grid_template_columns": null,
            "grid_template_rows": null,
            "height": null,
            "justify_content": null,
            "justify_items": null,
            "left": null,
            "margin": null,
            "max_height": null,
            "max_width": null,
            "min_height": null,
            "min_width": null,
            "object_fit": null,
            "object_position": null,
            "order": null,
            "overflow": null,
            "overflow_x": null,
            "overflow_y": null,
            "padding": null,
            "right": null,
            "top": null,
            "visibility": null,
            "width": null
          }
        },
        "caae438e86c44bd29f9ec8c85dd3afda": {
          "model_module": "@jupyter-widgets/controls",
          "model_name": "DescriptionStyleModel",
          "model_module_version": "1.5.0",
          "state": {
            "_model_module": "@jupyter-widgets/controls",
            "_model_module_version": "1.5.0",
            "_model_name": "DescriptionStyleModel",
            "_view_count": null,
            "_view_module": "@jupyter-widgets/base",
            "_view_module_version": "1.2.0",
            "_view_name": "StyleView",
            "description_width": ""
          }
        },
        "2aea99c67ba74748a2dd2444690d157e": {
          "model_module": "@jupyter-widgets/base",
          "model_name": "LayoutModel",
          "model_module_version": "1.2.0",
          "state": {
            "_model_module": "@jupyter-widgets/base",
            "_model_module_version": "1.2.0",
            "_model_name": "LayoutModel",
            "_view_count": null,
            "_view_module": "@jupyter-widgets/base",
            "_view_module_version": "1.2.0",
            "_view_name": "LayoutView",
            "align_content": null,
            "align_items": null,
            "align_self": null,
            "border": null,
            "bottom": null,
            "display": null,
            "flex": null,
            "flex_flow": null,
            "grid_area": null,
            "grid_auto_columns": null,
            "grid_auto_flow": null,
            "grid_auto_rows": null,
            "grid_column": null,
            "grid_gap": null,
            "grid_row": null,
            "grid_template_areas": null,
            "grid_template_columns": null,
            "grid_template_rows": null,
            "height": null,
            "justify_content": null,
            "justify_items": null,
            "left": null,
            "margin": null,
            "max_height": null,
            "max_width": null,
            "min_height": null,
            "min_width": null,
            "object_fit": null,
            "object_position": null,
            "order": null,
            "overflow": null,
            "overflow_x": null,
            "overflow_y": null,
            "padding": null,
            "right": null,
            "top": null,
            "visibility": null,
            "width": null
          }
        },
        "2dac7b7b78854b44a73de1b540a9ea4c": {
          "model_module": "@jupyter-widgets/controls",
          "model_name": "ProgressStyleModel",
          "model_module_version": "1.5.0",
          "state": {
            "_model_module": "@jupyter-widgets/controls",
            "_model_module_version": "1.5.0",
            "_model_name": "ProgressStyleModel",
            "_view_count": null,
            "_view_module": "@jupyter-widgets/base",
            "_view_module_version": "1.2.0",
            "_view_name": "StyleView",
            "bar_color": null,
            "description_width": ""
          }
        },
        "e21e583147854c6e89e1847f40c0f509": {
          "model_module": "@jupyter-widgets/base",
          "model_name": "LayoutModel",
          "model_module_version": "1.2.0",
          "state": {
            "_model_module": "@jupyter-widgets/base",
            "_model_module_version": "1.2.0",
            "_model_name": "LayoutModel",
            "_view_count": null,
            "_view_module": "@jupyter-widgets/base",
            "_view_module_version": "1.2.0",
            "_view_name": "LayoutView",
            "align_content": null,
            "align_items": null,
            "align_self": null,
            "border": null,
            "bottom": null,
            "display": null,
            "flex": null,
            "flex_flow": null,
            "grid_area": null,
            "grid_auto_columns": null,
            "grid_auto_flow": null,
            "grid_auto_rows": null,
            "grid_column": null,
            "grid_gap": null,
            "grid_row": null,
            "grid_template_areas": null,
            "grid_template_columns": null,
            "grid_template_rows": null,
            "height": null,
            "justify_content": null,
            "justify_items": null,
            "left": null,
            "margin": null,
            "max_height": null,
            "max_width": null,
            "min_height": null,
            "min_width": null,
            "object_fit": null,
            "object_position": null,
            "order": null,
            "overflow": null,
            "overflow_x": null,
            "overflow_y": null,
            "padding": null,
            "right": null,
            "top": null,
            "visibility": null,
            "width": null
          }
        },
        "4e3901cee83242028551d879d8e96d3f": {
          "model_module": "@jupyter-widgets/controls",
          "model_name": "DescriptionStyleModel",
          "model_module_version": "1.5.0",
          "state": {
            "_model_module": "@jupyter-widgets/controls",
            "_model_module_version": "1.5.0",
            "_model_name": "DescriptionStyleModel",
            "_view_count": null,
            "_view_module": "@jupyter-widgets/base",
            "_view_module_version": "1.2.0",
            "_view_name": "StyleView",
            "description_width": ""
          }
        },
        "8df6447a1bd64d59acacc11647cb8cf3": {
          "model_module": "@jupyter-widgets/controls",
          "model_name": "HBoxModel",
          "model_module_version": "1.5.0",
          "state": {
            "_dom_classes": [],
            "_model_module": "@jupyter-widgets/controls",
            "_model_module_version": "1.5.0",
            "_model_name": "HBoxModel",
            "_view_count": null,
            "_view_module": "@jupyter-widgets/controls",
            "_view_module_version": "1.5.0",
            "_view_name": "HBoxView",
            "box_style": "",
            "children": [
              "IPY_MODEL_1e2ab2d8abc049dfaf1e83ca65eddd8f",
              "IPY_MODEL_296fe005060e4ef48e9565a8ee97f336",
              "IPY_MODEL_ad605a73f67d4284abfae88755812179"
            ],
            "layout": "IPY_MODEL_fcf1bc46b68c49dcb336e118c76b617a"
          }
        },
        "1e2ab2d8abc049dfaf1e83ca65eddd8f": {
          "model_module": "@jupyter-widgets/controls",
          "model_name": "HTMLModel",
          "model_module_version": "1.5.0",
          "state": {
            "_dom_classes": [],
            "_model_module": "@jupyter-widgets/controls",
            "_model_module_version": "1.5.0",
            "_model_name": "HTMLModel",
            "_view_count": null,
            "_view_module": "@jupyter-widgets/controls",
            "_view_module_version": "1.5.0",
            "_view_name": "HTMLView",
            "description": "",
            "description_tooltip": null,
            "layout": "IPY_MODEL_701997aca1bf447dbfc88a0a518f3a25",
            "placeholder": "​",
            "style": "IPY_MODEL_600e3e39449b42f6aaac4701f5b79cb6",
            "value": "model.safetensors: 100%"
          }
        },
        "296fe005060e4ef48e9565a8ee97f336": {
          "model_module": "@jupyter-widgets/controls",
          "model_name": "FloatProgressModel",
          "model_module_version": "1.5.0",
          "state": {
            "_dom_classes": [],
            "_model_module": "@jupyter-widgets/controls",
            "_model_module_version": "1.5.0",
            "_model_name": "FloatProgressModel",
            "_view_count": null,
            "_view_module": "@jupyter-widgets/controls",
            "_view_module_version": "1.5.0",
            "_view_name": "ProgressView",
            "bar_style": "success",
            "description": "",
            "description_tooltip": null,
            "layout": "IPY_MODEL_1c1c5778dbdf4a84bdff5c470c07ddcc",
            "max": 2471645608,
            "min": 0,
            "orientation": "horizontal",
            "style": "IPY_MODEL_02263738ccad4d70b956f0d9868e6ba2",
            "value": 2471645608
          }
        },
        "ad605a73f67d4284abfae88755812179": {
          "model_module": "@jupyter-widgets/controls",
          "model_name": "HTMLModel",
          "model_module_version": "1.5.0",
          "state": {
            "_dom_classes": [],
            "_model_module": "@jupyter-widgets/controls",
            "_model_module_version": "1.5.0",
            "_model_name": "HTMLModel",
            "_view_count": null,
            "_view_module": "@jupyter-widgets/controls",
            "_view_module_version": "1.5.0",
            "_view_name": "HTMLView",
            "description": "",
            "description_tooltip": null,
            "layout": "IPY_MODEL_bb3f5c64292c4a8a95927436a57077fc",
            "placeholder": "​",
            "style": "IPY_MODEL_12a4772019124112a013ae2b05872845",
            "value": " 2.47G/2.47G [01:03&lt;00:00, 125MB/s]"
          }
        },
        "fcf1bc46b68c49dcb336e118c76b617a": {
          "model_module": "@jupyter-widgets/base",
          "model_name": "LayoutModel",
          "model_module_version": "1.2.0",
          "state": {
            "_model_module": "@jupyter-widgets/base",
            "_model_module_version": "1.2.0",
            "_model_name": "LayoutModel",
            "_view_count": null,
            "_view_module": "@jupyter-widgets/base",
            "_view_module_version": "1.2.0",
            "_view_name": "LayoutView",
            "align_content": null,
            "align_items": null,
            "align_self": null,
            "border": null,
            "bottom": null,
            "display": null,
            "flex": null,
            "flex_flow": null,
            "grid_area": null,
            "grid_auto_columns": null,
            "grid_auto_flow": null,
            "grid_auto_rows": null,
            "grid_column": null,
            "grid_gap": null,
            "grid_row": null,
            "grid_template_areas": null,
            "grid_template_columns": null,
            "grid_template_rows": null,
            "height": null,
            "justify_content": null,
            "justify_items": null,
            "left": null,
            "margin": null,
            "max_height": null,
            "max_width": null,
            "min_height": null,
            "min_width": null,
            "object_fit": null,
            "object_position": null,
            "order": null,
            "overflow": null,
            "overflow_x": null,
            "overflow_y": null,
            "padding": null,
            "right": null,
            "top": null,
            "visibility": null,
            "width": null
          }
        },
        "701997aca1bf447dbfc88a0a518f3a25": {
          "model_module": "@jupyter-widgets/base",
          "model_name": "LayoutModel",
          "model_module_version": "1.2.0",
          "state": {
            "_model_module": "@jupyter-widgets/base",
            "_model_module_version": "1.2.0",
            "_model_name": "LayoutModel",
            "_view_count": null,
            "_view_module": "@jupyter-widgets/base",
            "_view_module_version": "1.2.0",
            "_view_name": "LayoutView",
            "align_content": null,
            "align_items": null,
            "align_self": null,
            "border": null,
            "bottom": null,
            "display": null,
            "flex": null,
            "flex_flow": null,
            "grid_area": null,
            "grid_auto_columns": null,
            "grid_auto_flow": null,
            "grid_auto_rows": null,
            "grid_column": null,
            "grid_gap": null,
            "grid_row": null,
            "grid_template_areas": null,
            "grid_template_columns": null,
            "grid_template_rows": null,
            "height": null,
            "justify_content": null,
            "justify_items": null,
            "left": null,
            "margin": null,
            "max_height": null,
            "max_width": null,
            "min_height": null,
            "min_width": null,
            "object_fit": null,
            "object_position": null,
            "order": null,
            "overflow": null,
            "overflow_x": null,
            "overflow_y": null,
            "padding": null,
            "right": null,
            "top": null,
            "visibility": null,
            "width": null
          }
        },
        "600e3e39449b42f6aaac4701f5b79cb6": {
          "model_module": "@jupyter-widgets/controls",
          "model_name": "DescriptionStyleModel",
          "model_module_version": "1.5.0",
          "state": {
            "_model_module": "@jupyter-widgets/controls",
            "_model_module_version": "1.5.0",
            "_model_name": "DescriptionStyleModel",
            "_view_count": null,
            "_view_module": "@jupyter-widgets/base",
            "_view_module_version": "1.2.0",
            "_view_name": "StyleView",
            "description_width": ""
          }
        },
        "1c1c5778dbdf4a84bdff5c470c07ddcc": {
          "model_module": "@jupyter-widgets/base",
          "model_name": "LayoutModel",
          "model_module_version": "1.2.0",
          "state": {
            "_model_module": "@jupyter-widgets/base",
            "_model_module_version": "1.2.0",
            "_model_name": "LayoutModel",
            "_view_count": null,
            "_view_module": "@jupyter-widgets/base",
            "_view_module_version": "1.2.0",
            "_view_name": "LayoutView",
            "align_content": null,
            "align_items": null,
            "align_self": null,
            "border": null,
            "bottom": null,
            "display": null,
            "flex": null,
            "flex_flow": null,
            "grid_area": null,
            "grid_auto_columns": null,
            "grid_auto_flow": null,
            "grid_auto_rows": null,
            "grid_column": null,
            "grid_gap": null,
            "grid_row": null,
            "grid_template_areas": null,
            "grid_template_columns": null,
            "grid_template_rows": null,
            "height": null,
            "justify_content": null,
            "justify_items": null,
            "left": null,
            "margin": null,
            "max_height": null,
            "max_width": null,
            "min_height": null,
            "min_width": null,
            "object_fit": null,
            "object_position": null,
            "order": null,
            "overflow": null,
            "overflow_x": null,
            "overflow_y": null,
            "padding": null,
            "right": null,
            "top": null,
            "visibility": null,
            "width": null
          }
        },
        "02263738ccad4d70b956f0d9868e6ba2": {
          "model_module": "@jupyter-widgets/controls",
          "model_name": "ProgressStyleModel",
          "model_module_version": "1.5.0",
          "state": {
            "_model_module": "@jupyter-widgets/controls",
            "_model_module_version": "1.5.0",
            "_model_name": "ProgressStyleModel",
            "_view_count": null,
            "_view_module": "@jupyter-widgets/base",
            "_view_module_version": "1.2.0",
            "_view_name": "StyleView",
            "bar_color": null,
            "description_width": ""
          }
        },
        "bb3f5c64292c4a8a95927436a57077fc": {
          "model_module": "@jupyter-widgets/base",
          "model_name": "LayoutModel",
          "model_module_version": "1.2.0",
          "state": {
            "_model_module": "@jupyter-widgets/base",
            "_model_module_version": "1.2.0",
            "_model_name": "LayoutModel",
            "_view_count": null,
            "_view_module": "@jupyter-widgets/base",
            "_view_module_version": "1.2.0",
            "_view_name": "LayoutView",
            "align_content": null,
            "align_items": null,
            "align_self": null,
            "border": null,
            "bottom": null,
            "display": null,
            "flex": null,
            "flex_flow": null,
            "grid_area": null,
            "grid_auto_columns": null,
            "grid_auto_flow": null,
            "grid_auto_rows": null,
            "grid_column": null,
            "grid_gap": null,
            "grid_row": null,
            "grid_template_areas": null,
            "grid_template_columns": null,
            "grid_template_rows": null,
            "height": null,
            "justify_content": null,
            "justify_items": null,
            "left": null,
            "margin": null,
            "max_height": null,
            "max_width": null,
            "min_height": null,
            "min_width": null,
            "object_fit": null,
            "object_position": null,
            "order": null,
            "overflow": null,
            "overflow_x": null,
            "overflow_y": null,
            "padding": null,
            "right": null,
            "top": null,
            "visibility": null,
            "width": null
          }
        },
        "12a4772019124112a013ae2b05872845": {
          "model_module": "@jupyter-widgets/controls",
          "model_name": "DescriptionStyleModel",
          "model_module_version": "1.5.0",
          "state": {
            "_model_module": "@jupyter-widgets/controls",
            "_model_module_version": "1.5.0",
            "_model_name": "DescriptionStyleModel",
            "_view_count": null,
            "_view_module": "@jupyter-widgets/base",
            "_view_module_version": "1.2.0",
            "_view_name": "StyleView",
            "description_width": ""
          }
        },
        "316ea4bbff1241c196977fa0d359ae37": {
          "model_module": "@jupyter-widgets/controls",
          "model_name": "HBoxModel",
          "model_module_version": "1.5.0",
          "state": {
            "_dom_classes": [],
            "_model_module": "@jupyter-widgets/controls",
            "_model_module_version": "1.5.0",
            "_model_name": "HBoxModel",
            "_view_count": null,
            "_view_module": "@jupyter-widgets/controls",
            "_view_module_version": "1.5.0",
            "_view_name": "HBoxView",
            "box_style": "",
            "children": [
              "IPY_MODEL_c435daf9789847d1a1e1aab4e3d9afe1",
              "IPY_MODEL_2d24f2c87050441dbe3702c3914d5d90",
              "IPY_MODEL_3cfc7f6e6f8e41a183424d68c5d6cb00"
            ],
            "layout": "IPY_MODEL_efb76b42910c4b49ad8677bd175058a8"
          }
        },
        "c435daf9789847d1a1e1aab4e3d9afe1": {
          "model_module": "@jupyter-widgets/controls",
          "model_name": "HTMLModel",
          "model_module_version": "1.5.0",
          "state": {
            "_dom_classes": [],
            "_model_module": "@jupyter-widgets/controls",
            "_model_module_version": "1.5.0",
            "_model_name": "HTMLModel",
            "_view_count": null,
            "_view_module": "@jupyter-widgets/controls",
            "_view_module_version": "1.5.0",
            "_view_name": "HTMLView",
            "description": "",
            "description_tooltip": null,
            "layout": "IPY_MODEL_2efd7ab1906b4d6a8f0a0d6d9d9f1149",
            "placeholder": "​",
            "style": "IPY_MODEL_a7f5ad60670d42b98e7f469e7c1c4442",
            "value": "Downloading builder script: "
          }
        },
        "2d24f2c87050441dbe3702c3914d5d90": {
          "model_module": "@jupyter-widgets/controls",
          "model_name": "FloatProgressModel",
          "model_module_version": "1.5.0",
          "state": {
            "_dom_classes": [],
            "_model_module": "@jupyter-widgets/controls",
            "_model_module_version": "1.5.0",
            "_model_name": "FloatProgressModel",
            "_view_count": null,
            "_view_module": "@jupyter-widgets/controls",
            "_view_module_version": "1.5.0",
            "_view_name": "ProgressView",
            "bar_style": "success",
            "description": "",
            "description_tooltip": null,
            "layout": "IPY_MODEL_d99c9200672c416ca0bae6e9b64e53aa",
            "max": 1,
            "min": 0,
            "orientation": "horizontal",
            "style": "IPY_MODEL_ce934091f99b4a5494da30541124c488",
            "value": 1
          }
        },
        "3cfc7f6e6f8e41a183424d68c5d6cb00": {
          "model_module": "@jupyter-widgets/controls",
          "model_name": "HTMLModel",
          "model_module_version": "1.5.0",
          "state": {
            "_dom_classes": [],
            "_model_module": "@jupyter-widgets/controls",
            "_model_module_version": "1.5.0",
            "_model_name": "HTMLModel",
            "_view_count": null,
            "_view_module": "@jupyter-widgets/controls",
            "_view_module_version": "1.5.0",
            "_view_name": "HTMLView",
            "description": "",
            "description_tooltip": null,
            "layout": "IPY_MODEL_17d73991451840889ad2c217d8860b1a",
            "placeholder": "​",
            "style": "IPY_MODEL_9eee41460680495ea7cd097228b12bf7",
            "value": " 4.20k/? [00:00&lt;00:00, 255kB/s]"
          }
        },
        "efb76b42910c4b49ad8677bd175058a8": {
          "model_module": "@jupyter-widgets/base",
          "model_name": "LayoutModel",
          "model_module_version": "1.2.0",
          "state": {
            "_model_module": "@jupyter-widgets/base",
            "_model_module_version": "1.2.0",
            "_model_name": "LayoutModel",
            "_view_count": null,
            "_view_module": "@jupyter-widgets/base",
            "_view_module_version": "1.2.0",
            "_view_name": "LayoutView",
            "align_content": null,
            "align_items": null,
            "align_self": null,
            "border": null,
            "bottom": null,
            "display": null,
            "flex": null,
            "flex_flow": null,
            "grid_area": null,
            "grid_auto_columns": null,
            "grid_auto_flow": null,
            "grid_auto_rows": null,
            "grid_column": null,
            "grid_gap": null,
            "grid_row": null,
            "grid_template_areas": null,
            "grid_template_columns": null,
            "grid_template_rows": null,
            "height": null,
            "justify_content": null,
            "justify_items": null,
            "left": null,
            "margin": null,
            "max_height": null,
            "max_width": null,
            "min_height": null,
            "min_width": null,
            "object_fit": null,
            "object_position": null,
            "order": null,
            "overflow": null,
            "overflow_x": null,
            "overflow_y": null,
            "padding": null,
            "right": null,
            "top": null,
            "visibility": null,
            "width": null
          }
        },
        "2efd7ab1906b4d6a8f0a0d6d9d9f1149": {
          "model_module": "@jupyter-widgets/base",
          "model_name": "LayoutModel",
          "model_module_version": "1.2.0",
          "state": {
            "_model_module": "@jupyter-widgets/base",
            "_model_module_version": "1.2.0",
            "_model_name": "LayoutModel",
            "_view_count": null,
            "_view_module": "@jupyter-widgets/base",
            "_view_module_version": "1.2.0",
            "_view_name": "LayoutView",
            "align_content": null,
            "align_items": null,
            "align_self": null,
            "border": null,
            "bottom": null,
            "display": null,
            "flex": null,
            "flex_flow": null,
            "grid_area": null,
            "grid_auto_columns": null,
            "grid_auto_flow": null,
            "grid_auto_rows": null,
            "grid_column": null,
            "grid_gap": null,
            "grid_row": null,
            "grid_template_areas": null,
            "grid_template_columns": null,
            "grid_template_rows": null,
            "height": null,
            "justify_content": null,
            "justify_items": null,
            "left": null,
            "margin": null,
            "max_height": null,
            "max_width": null,
            "min_height": null,
            "min_width": null,
            "object_fit": null,
            "object_position": null,
            "order": null,
            "overflow": null,
            "overflow_x": null,
            "overflow_y": null,
            "padding": null,
            "right": null,
            "top": null,
            "visibility": null,
            "width": null
          }
        },
        "a7f5ad60670d42b98e7f469e7c1c4442": {
          "model_module": "@jupyter-widgets/controls",
          "model_name": "DescriptionStyleModel",
          "model_module_version": "1.5.0",
          "state": {
            "_model_module": "@jupyter-widgets/controls",
            "_model_module_version": "1.5.0",
            "_model_name": "DescriptionStyleModel",
            "_view_count": null,
            "_view_module": "@jupyter-widgets/base",
            "_view_module_version": "1.2.0",
            "_view_name": "StyleView",
            "description_width": ""
          }
        },
        "d99c9200672c416ca0bae6e9b64e53aa": {
          "model_module": "@jupyter-widgets/base",
          "model_name": "LayoutModel",
          "model_module_version": "1.2.0",
          "state": {
            "_model_module": "@jupyter-widgets/base",
            "_model_module_version": "1.2.0",
            "_model_name": "LayoutModel",
            "_view_count": null,
            "_view_module": "@jupyter-widgets/base",
            "_view_module_version": "1.2.0",
            "_view_name": "LayoutView",
            "align_content": null,
            "align_items": null,
            "align_self": null,
            "border": null,
            "bottom": null,
            "display": null,
            "flex": null,
            "flex_flow": null,
            "grid_area": null,
            "grid_auto_columns": null,
            "grid_auto_flow": null,
            "grid_auto_rows": null,
            "grid_column": null,
            "grid_gap": null,
            "grid_row": null,
            "grid_template_areas": null,
            "grid_template_columns": null,
            "grid_template_rows": null,
            "height": null,
            "justify_content": null,
            "justify_items": null,
            "left": null,
            "margin": null,
            "max_height": null,
            "max_width": null,
            "min_height": null,
            "min_width": null,
            "object_fit": null,
            "object_position": null,
            "order": null,
            "overflow": null,
            "overflow_x": null,
            "overflow_y": null,
            "padding": null,
            "right": null,
            "top": null,
            "visibility": null,
            "width": "20px"
          }
        },
        "ce934091f99b4a5494da30541124c488": {
          "model_module": "@jupyter-widgets/controls",
          "model_name": "ProgressStyleModel",
          "model_module_version": "1.5.0",
          "state": {
            "_model_module": "@jupyter-widgets/controls",
            "_model_module_version": "1.5.0",
            "_model_name": "ProgressStyleModel",
            "_view_count": null,
            "_view_module": "@jupyter-widgets/base",
            "_view_module_version": "1.2.0",
            "_view_name": "StyleView",
            "bar_color": null,
            "description_width": ""
          }
        },
        "17d73991451840889ad2c217d8860b1a": {
          "model_module": "@jupyter-widgets/base",
          "model_name": "LayoutModel",
          "model_module_version": "1.2.0",
          "state": {
            "_model_module": "@jupyter-widgets/base",
            "_model_module_version": "1.2.0",
            "_model_name": "LayoutModel",
            "_view_count": null,
            "_view_module": "@jupyter-widgets/base",
            "_view_module_version": "1.2.0",
            "_view_name": "LayoutView",
            "align_content": null,
            "align_items": null,
            "align_self": null,
            "border": null,
            "bottom": null,
            "display": null,
            "flex": null,
            "flex_flow": null,
            "grid_area": null,
            "grid_auto_columns": null,
            "grid_auto_flow": null,
            "grid_auto_rows": null,
            "grid_column": null,
            "grid_gap": null,
            "grid_row": null,
            "grid_template_areas": null,
            "grid_template_columns": null,
            "grid_template_rows": null,
            "height": null,
            "justify_content": null,
            "justify_items": null,
            "left": null,
            "margin": null,
            "max_height": null,
            "max_width": null,
            "min_height": null,
            "min_width": null,
            "object_fit": null,
            "object_position": null,
            "order": null,
            "overflow": null,
            "overflow_x": null,
            "overflow_y": null,
            "padding": null,
            "right": null,
            "top": null,
            "visibility": null,
            "width": null
          }
        },
        "9eee41460680495ea7cd097228b12bf7": {
          "model_module": "@jupyter-widgets/controls",
          "model_name": "DescriptionStyleModel",
          "model_module_version": "1.5.0",
          "state": {
            "_model_module": "@jupyter-widgets/controls",
            "_model_module_version": "1.5.0",
            "_model_name": "DescriptionStyleModel",
            "_view_count": null,
            "_view_module": "@jupyter-widgets/base",
            "_view_module_version": "1.2.0",
            "_view_name": "StyleView",
            "description_width": ""
          }
        }
      }
    }
  },
  "cells": [
    {
      "cell_type": "markdown",
      "metadata": {
        "id": "view-in-github",
        "colab_type": "text"
      },
      "source": [
        "<a href=\"https://colab.research.google.com/github/UmarKhattab09/WebScarping-LLM-FineTuning/blob/main/WebScarping_for_LLM_FineTuning.ipynb\" target=\"_parent\"><img src=\"https://colab.research.google.com/assets/colab-badge.svg\" alt=\"Open In Colab\"/></a>"
      ]
    },
    {
      "cell_type": "code",
      "execution_count": null,
      "metadata": {
        "id": "kaWo4KhardmO"
      },
      "outputs": [],
      "source": [
        "from bs4 import BeautifulSoup\n",
        "import requests\n",
        "import json"
      ]
    },
    {
      "cell_type": "code",
      "source": [
        "urldict = {\n",
        "    'politics':f\"https://www.npr.org/get/1014/render/partial/next?start={1}&count={24}\",\n",
        "    'science' : f\"https://www.npr.org/get/1007/render/partial/next?start={1}&count={24}\",\n",
        "    'health'  : f\"https://www.npr.org/get/1128/render/partial/next?start={1}&count={24}\",\n",
        "    'business': f\"https://www.npr.org/get/1006/render/partial/next?start={1}&count={24}\",\n",
        "    'climate' : f\"https://www.npr.org/get/1167/render/partial/next?start={1}&count={24}\" #\n",
        "}"
      ],
      "metadata": {
        "id": "hSWIna1Y2gv1"
      },
      "execution_count": null,
      "outputs": []
    },
    {
      "cell_type": "code",
      "source": [
        "def url_extractor(url):\n",
        "  response=requests.get(url)\n",
        "  status = response.status_code\n",
        "  #print(f\"Status:{status}\")\n",
        "  html_content= response.text\n",
        "  soup = BeautifulSoup(html_content,'html.parser')\n",
        "  return soup\n",
        "\n",
        "politics= url_extractor(urldict['politics'])\n",
        "science= url_extractor(urldict['science'])\n",
        "health= url_extractor(urldict['health'])\n",
        "business= url_extractor(urldict['business'])\n",
        "climate= url_extractor(urldict['climate'])\n"
      ],
      "metadata": {
        "id": "WaVsqW5J3DGJ"
      },
      "execution_count": null,
      "outputs": []
    },
    {
      "cell_type": "code",
      "source": [
        "def extractinglinks(url):\n",
        "  data=[]\n",
        "  for article in url.find_all('article'):\n",
        "    anchortag=article.find('a')\n",
        "    try:\n",
        "      articlelink=anchortag['href']\n",
        "      if articlelink.startswith(\"https://www.npr.org\"):\n",
        "        data.append(articlelink)\n",
        "    except:\n",
        "      f\"no href\"\n",
        "  return data\n",
        "politicslinks=extractinglinks(politics)\n",
        "sciencelinks=extractinglinks(science)\n",
        "healthlinks=extractinglinks(health)\n",
        "businesslinks=extractinglinks(business)\n",
        "climatelinks=extractinglinks(climate)\n",
        "\n",
        "politicslinks[23]\n",
        "\n",
        "# data=[]\n",
        "# for article in politics.find_all('article'):\n",
        "#   anchortag=article.find('a')\n",
        "#   try:\n",
        "#     articlelink=anchortag['href']\n",
        "#     if articlelink.startswith(\"https://www.npr.org\"):\n",
        "#       data.append(articlelink)\n",
        "#   except:\n",
        "#     f\"no href\"\n",
        "# print(\"___________________________\")\n",
        "\n",
        "\n",
        "#   articleur=anchortag['href']\n",
        "#   #print(articleur)\n",
        "#   if articleur.startswith('https://www.npr.org'):\n"
      ],
      "metadata": {
        "colab": {
          "base_uri": "https://localhost:8080/",
          "height": 36
        },
        "id": "2LW6r24jYYjC",
        "outputId": "dc3f2ef3-3eda-4eaa-c4ec-17fbaad16301"
      },
      "execution_count": null,
      "outputs": [
        {
          "output_type": "execute_result",
          "data": {
            "text/plain": [
              "'https://www.npr.org/2025/07/09/nx-s1-5462609/grok-elon-musk-antisemitic-racist-content'"
            ],
            "application/vnd.google.colaboratory.intrinsic+json": {
              "type": "string"
            }
          },
          "metadata": {},
          "execution_count": 8
        }
      ]
    },
    {
      "cell_type": "code",
      "source": [
        "# data=[]\n",
        "# for article in climate.find_all('article'):\n",
        "#   anchortag=article.find('a')\n",
        "#   try:\n",
        "#     articlelink=anchortag['href']\n",
        "#     if articlelink.startswith(\"https://www.npr.org\"):\n",
        "#       data.append(articlelink)\n",
        "#   except:\n",
        "#     f\"no href\"\n",
        "# print(\"___________________________\")\n",
        "\n",
        "\n",
        "# #   articleur=anchortag['href']\n",
        "# #   #print(articleur)\n",
        "# #   if articleur.startswith('https://www.npr.org'):\n",
        "# #     data.append(articleur)\n",
        "# print(data)\n",
        "# print(len(data))"
      ],
      "metadata": {
        "id": "mYZrsZX9VsOy"
      },
      "execution_count": null,
      "outputs": []
    },
    {
      "cell_type": "code",
      "source": [
        "def storyextractor(links):\n",
        "  separator=' '\n",
        "  data =[]\n",
        "  for i in range(len(links)):\n",
        "    article = url_extractor(links[i])\n",
        "    storydiv=article.find(\"div\",id=\"storytext\")\n",
        "    try:\n",
        "      text=storydiv.find_all('p')\n",
        "    except:\n",
        "      f\"no p\"\n",
        "    for i in range(len(text)):\n",
        "      try:\n",
        "        temp= text[i].get_text(separator= ' ', strip = True)\n",
        "      except:\n",
        "        f\"no temp\"\n",
        "      text[i] = temp\n",
        "    finaltxt= separator.join(text)\n",
        "    data.append(finaltxt)\n",
        "  return data\n",
        "\n",
        "\n",
        "politicsnews = storyextractor(politicslinks)\n",
        "sciencenews = storyextractor(sciencelinks)\n",
        "healthnews = storyextractor(healthlinks)\n",
        "businessnews = storyextractor(businesslinks)\n",
        "climatenews = storyextractor(climatelinks)\n",
        "\n"
      ],
      "metadata": {
        "id": "odP9GC4TnMMt"
      },
      "execution_count": null,
      "outputs": []
    },
    {
      "cell_type": "code",
      "source": [
        "import pandas as pd\n",
        "def createDataFrame(Name:str,data:list):\n",
        "  df = pd.DataFrame({\n",
        "      \"NewsType\": [Name] * len(data),\n",
        "      \"News\": data\n",
        "  })\n",
        "  print(f\"The size of News for {Name} is {len(data)}\")\n",
        "  return df\n",
        "politicsdf = createDataFrame(\"Politics\",politicsnews)\n",
        "sciencedf = createDataFrame(\"Science\",sciencenews)\n",
        "healthdf = createDataFrame(\"Health\",healthnews)\n",
        "businessdf = createDataFrame(\"Business\",businessnews)\n",
        "climatedf = createDataFrame(\"Climate\",climatenews)\n"
      ],
      "metadata": {
        "colab": {
          "base_uri": "https://localhost:8080/"
        },
        "id": "JIQ_0fGQqvoD",
        "outputId": "029f945e-73c4-433e-e442-ce00facb4eba"
      },
      "execution_count": null,
      "outputs": [
        {
          "output_type": "stream",
          "name": "stdout",
          "text": [
            "The size of News for Politics is 24\n",
            "The size of News for Science is 24\n",
            "The size of News for Health is 24\n",
            "The size of News for Business is 24\n",
            "The size of News for Climate is 24\n"
          ]
        }
      ]
    },
    {
      "cell_type": "code",
      "source": [
        "combined_df_rows = pd.concat([politicsdf, sciencedf,healthdf,businessdf,climatedf])\n",
        "combined_df_rows.to_csv(\"Dataset.csv\")"
      ],
      "metadata": {
        "id": "clRKvXyXwknn"
      },
      "execution_count": null,
      "outputs": []
    },
    {
      "cell_type": "code",
      "source": [],
      "metadata": {
        "id": "H78Fh025qvqX"
      },
      "execution_count": null,
      "outputs": []
    },
    {
      "cell_type": "markdown",
      "source": [
        "#### Fine Tuning LLM\n",
        "1. Define Parameter\n",
        "2. Clean Dataset\n",
        "3. Wrangling Dataset\n",
        "\n",
        ">> Label Encoder\n",
        "\n",
        ">> TrainTestSplit\n",
        "\n",
        ">> Convert into Hugging Face\n",
        "\n",
        ">> Tokenizer\n",
        "\n",
        "4. Initalize Model\n",
        "5. Train Model\n"
      ],
      "metadata": {
        "id": "WkXA3fHaP4Si"
      }
    },
    {
      "cell_type": "code",
      "source": [
        "import pandas as pd\n",
        "import huggingface_hub\n",
        "API_KEY=hf_token\n",
        "model_name=\"meta-llama/Llama-3.2-1B\"\n"
      ],
      "metadata": {
        "id": "YwBZ-Zb_P0GA"
      },
      "execution_count": null,
      "outputs": []
    },
    {
      "cell_type": "code",
      "source": [
        "text_column_name='article'\n",
        "df = pd.read_csv(\"Dataset.csv\")"
      ],
      "metadata": {
        "id": "HMZANT0cqvvQ"
      },
      "execution_count": null,
      "outputs": []
    },
    {
      "cell_type": "code",
      "source": [
        "df['NewsType'].nunique()"
      ],
      "metadata": {
        "colab": {
          "base_uri": "https://localhost:8080/"
        },
        "id": "vCjtxeetqvxz",
        "outputId": "4c01e77d-7bd9-4fe1-8949-91b65ec1405a"
      },
      "execution_count": null,
      "outputs": [
        {
          "output_type": "execute_result",
          "data": {
            "text/plain": [
              "5"
            ]
          },
          "metadata": {},
          "execution_count": 16
        }
      ]
    },
    {
      "cell_type": "code",
      "source": [
        "huggingface_hub.login(API_KEY)"
      ],
      "metadata": {
        "id": "CrRyWlOlqv0F"
      },
      "execution_count": null,
      "outputs": []
    },
    {
      "cell_type": "code",
      "source": [
        "import re\n",
        "class Cleaner():\n",
        "  def __init__(self):\n",
        "    pass\n",
        "\n",
        "  def remove_hml_tags(self,text):\n",
        "    clean_text=BeautifulSoup(text,'lxml').text\n",
        "    return clean_text\n",
        "\n",
        "  def remove_double_spaces(self,text):\n",
        "    clean_text=re.sub(' +',' ',text)\n",
        "    return clean_text\n",
        "  def clean(self,text):\n",
        "    clean_text=self.remove_hml_tags(text)\n",
        "    clean_text=self.remove_double_spaces(clean_text)\n",
        "    return clean_text\n",
        "\n"
      ],
      "metadata": {
        "id": "XpHCC0dVqv2Q"
      },
      "execution_count": null,
      "outputs": []
    },
    {
      "cell_type": "code",
      "source": [
        "from bs4 import BeautifulSoup\n",
        "import re\n",
        "cleaner=Cleaner()\n",
        "df['text_cleaned']=df['News'].apply(cleaner.clean)"
      ],
      "metadata": {
        "id": "wH5GGzzhqv4l"
      },
      "execution_count": null,
      "outputs": []
    },
    {
      "cell_type": "code",
      "source": [
        "df.head()"
      ],
      "metadata": {
        "colab": {
          "base_uri": "https://localhost:8080/",
          "height": 206
        },
        "id": "ta8DxTiEqv7v",
        "outputId": "792dd4eb-a14c-4f1c-8e6c-49fc65e0ed85"
      },
      "execution_count": null,
      "outputs": [
        {
          "output_type": "execute_result",
          "data": {
            "text/plain": [
              "   Unnamed: 0  NewsType                                               News  \\\n",
              "0           0  Politics  President Trump in profile at  MetLife Stadium...   \n",
              "1           1  Politics  Sen. Thom Tillis, R-N.C., speaks to a reporter...   \n",
              "2           2  Politics  A sign shows the location of an immigration co...   \n",
              "3           3  Politics  At the start of the year, there were about 700...   \n",
              "4           4  Politics  A teacher gives a tour of Nora Sterry Elementa...   \n",
              "\n",
              "                                        text_cleaned  \n",
              "0  President Trump in profile at MetLife Stadium ...  \n",
              "1  Sen. Thom Tillis, R-N.C., speaks to a reporter...  \n",
              "2  A sign shows the location of an immigration co...  \n",
              "3  At the start of the year, there were about 700...  \n",
              "4  A teacher gives a tour of Nora Sterry Elementa...  "
            ],
            "text/html": [
              "\n",
              "  <div id=\"df-59c64783-48c4-4d9c-818c-f4c92772614f\" class=\"colab-df-container\">\n",
              "    <div>\n",
              "<style scoped>\n",
              "    .dataframe tbody tr th:only-of-type {\n",
              "        vertical-align: middle;\n",
              "    }\n",
              "\n",
              "    .dataframe tbody tr th {\n",
              "        vertical-align: top;\n",
              "    }\n",
              "\n",
              "    .dataframe thead th {\n",
              "        text-align: right;\n",
              "    }\n",
              "</style>\n",
              "<table border=\"1\" class=\"dataframe\">\n",
              "  <thead>\n",
              "    <tr style=\"text-align: right;\">\n",
              "      <th></th>\n",
              "      <th>Unnamed: 0</th>\n",
              "      <th>NewsType</th>\n",
              "      <th>News</th>\n",
              "      <th>text_cleaned</th>\n",
              "    </tr>\n",
              "  </thead>\n",
              "  <tbody>\n",
              "    <tr>\n",
              "      <th>0</th>\n",
              "      <td>0</td>\n",
              "      <td>Politics</td>\n",
              "      <td>President Trump in profile at  MetLife Stadium...</td>\n",
              "      <td>President Trump in profile at MetLife Stadium ...</td>\n",
              "    </tr>\n",
              "    <tr>\n",
              "      <th>1</th>\n",
              "      <td>1</td>\n",
              "      <td>Politics</td>\n",
              "      <td>Sen. Thom Tillis, R-N.C., speaks to a reporter...</td>\n",
              "      <td>Sen. Thom Tillis, R-N.C., speaks to a reporter...</td>\n",
              "    </tr>\n",
              "    <tr>\n",
              "      <th>2</th>\n",
              "      <td>2</td>\n",
              "      <td>Politics</td>\n",
              "      <td>A sign shows the location of an immigration co...</td>\n",
              "      <td>A sign shows the location of an immigration co...</td>\n",
              "    </tr>\n",
              "    <tr>\n",
              "      <th>3</th>\n",
              "      <td>3</td>\n",
              "      <td>Politics</td>\n",
              "      <td>At the start of the year, there were about 700...</td>\n",
              "      <td>At the start of the year, there were about 700...</td>\n",
              "    </tr>\n",
              "    <tr>\n",
              "      <th>4</th>\n",
              "      <td>4</td>\n",
              "      <td>Politics</td>\n",
              "      <td>A teacher gives a tour of Nora Sterry Elementa...</td>\n",
              "      <td>A teacher gives a tour of Nora Sterry Elementa...</td>\n",
              "    </tr>\n",
              "  </tbody>\n",
              "</table>\n",
              "</div>\n",
              "    <div class=\"colab-df-buttons\">\n",
              "\n",
              "  <div class=\"colab-df-container\">\n",
              "    <button class=\"colab-df-convert\" onclick=\"convertToInteractive('df-59c64783-48c4-4d9c-818c-f4c92772614f')\"\n",
              "            title=\"Convert this dataframe to an interactive table.\"\n",
              "            style=\"display:none;\">\n",
              "\n",
              "  <svg xmlns=\"http://www.w3.org/2000/svg\" height=\"24px\" viewBox=\"0 -960 960 960\">\n",
              "    <path d=\"M120-120v-720h720v720H120Zm60-500h600v-160H180v160Zm220 220h160v-160H400v160Zm0 220h160v-160H400v160ZM180-400h160v-160H180v160Zm440 0h160v-160H620v160ZM180-180h160v-160H180v160Zm440 0h160v-160H620v160Z\"/>\n",
              "  </svg>\n",
              "    </button>\n",
              "\n",
              "  <style>\n",
              "    .colab-df-container {\n",
              "      display:flex;\n",
              "      gap: 12px;\n",
              "    }\n",
              "\n",
              "    .colab-df-convert {\n",
              "      background-color: #E8F0FE;\n",
              "      border: none;\n",
              "      border-radius: 50%;\n",
              "      cursor: pointer;\n",
              "      display: none;\n",
              "      fill: #1967D2;\n",
              "      height: 32px;\n",
              "      padding: 0 0 0 0;\n",
              "      width: 32px;\n",
              "    }\n",
              "\n",
              "    .colab-df-convert:hover {\n",
              "      background-color: #E2EBFA;\n",
              "      box-shadow: 0px 1px 2px rgba(60, 64, 67, 0.3), 0px 1px 3px 1px rgba(60, 64, 67, 0.15);\n",
              "      fill: #174EA6;\n",
              "    }\n",
              "\n",
              "    .colab-df-buttons div {\n",
              "      margin-bottom: 4px;\n",
              "    }\n",
              "\n",
              "    [theme=dark] .colab-df-convert {\n",
              "      background-color: #3B4455;\n",
              "      fill: #D2E3FC;\n",
              "    }\n",
              "\n",
              "    [theme=dark] .colab-df-convert:hover {\n",
              "      background-color: #434B5C;\n",
              "      box-shadow: 0px 1px 3px 1px rgba(0, 0, 0, 0.15);\n",
              "      filter: drop-shadow(0px 1px 2px rgba(0, 0, 0, 0.3));\n",
              "      fill: #FFFFFF;\n",
              "    }\n",
              "  </style>\n",
              "\n",
              "    <script>\n",
              "      const buttonEl =\n",
              "        document.querySelector('#df-59c64783-48c4-4d9c-818c-f4c92772614f button.colab-df-convert');\n",
              "      buttonEl.style.display =\n",
              "        google.colab.kernel.accessAllowed ? 'block' : 'none';\n",
              "\n",
              "      async function convertToInteractive(key) {\n",
              "        const element = document.querySelector('#df-59c64783-48c4-4d9c-818c-f4c92772614f');\n",
              "        const dataTable =\n",
              "          await google.colab.kernel.invokeFunction('convertToInteractive',\n",
              "                                                    [key], {});\n",
              "        if (!dataTable) return;\n",
              "\n",
              "        const docLinkHtml = 'Like what you see? Visit the ' +\n",
              "          '<a target=\"_blank\" href=https://colab.research.google.com/notebooks/data_table.ipynb>data table notebook</a>'\n",
              "          + ' to learn more about interactive tables.';\n",
              "        element.innerHTML = '';\n",
              "        dataTable['output_type'] = 'display_data';\n",
              "        await google.colab.output.renderOutput(dataTable, element);\n",
              "        const docLink = document.createElement('div');\n",
              "        docLink.innerHTML = docLinkHtml;\n",
              "        element.appendChild(docLink);\n",
              "      }\n",
              "    </script>\n",
              "  </div>\n",
              "\n",
              "\n",
              "    <div id=\"df-50363053-5d2c-430b-803c-c2e225a6ce98\">\n",
              "      <button class=\"colab-df-quickchart\" onclick=\"quickchart('df-50363053-5d2c-430b-803c-c2e225a6ce98')\"\n",
              "                title=\"Suggest charts\"\n",
              "                style=\"display:none;\">\n",
              "\n",
              "<svg xmlns=\"http://www.w3.org/2000/svg\" height=\"24px\"viewBox=\"0 0 24 24\"\n",
              "     width=\"24px\">\n",
              "    <g>\n",
              "        <path d=\"M19 3H5c-1.1 0-2 .9-2 2v14c0 1.1.9 2 2 2h14c1.1 0 2-.9 2-2V5c0-1.1-.9-2-2-2zM9 17H7v-7h2v7zm4 0h-2V7h2v10zm4 0h-2v-4h2v4z\"/>\n",
              "    </g>\n",
              "</svg>\n",
              "      </button>\n",
              "\n",
              "<style>\n",
              "  .colab-df-quickchart {\n",
              "      --bg-color: #E8F0FE;\n",
              "      --fill-color: #1967D2;\n",
              "      --hover-bg-color: #E2EBFA;\n",
              "      --hover-fill-color: #174EA6;\n",
              "      --disabled-fill-color: #AAA;\n",
              "      --disabled-bg-color: #DDD;\n",
              "  }\n",
              "\n",
              "  [theme=dark] .colab-df-quickchart {\n",
              "      --bg-color: #3B4455;\n",
              "      --fill-color: #D2E3FC;\n",
              "      --hover-bg-color: #434B5C;\n",
              "      --hover-fill-color: #FFFFFF;\n",
              "      --disabled-bg-color: #3B4455;\n",
              "      --disabled-fill-color: #666;\n",
              "  }\n",
              "\n",
              "  .colab-df-quickchart {\n",
              "    background-color: var(--bg-color);\n",
              "    border: none;\n",
              "    border-radius: 50%;\n",
              "    cursor: pointer;\n",
              "    display: none;\n",
              "    fill: var(--fill-color);\n",
              "    height: 32px;\n",
              "    padding: 0;\n",
              "    width: 32px;\n",
              "  }\n",
              "\n",
              "  .colab-df-quickchart:hover {\n",
              "    background-color: var(--hover-bg-color);\n",
              "    box-shadow: 0 1px 2px rgba(60, 64, 67, 0.3), 0 1px 3px 1px rgba(60, 64, 67, 0.15);\n",
              "    fill: var(--button-hover-fill-color);\n",
              "  }\n",
              "\n",
              "  .colab-df-quickchart-complete:disabled,\n",
              "  .colab-df-quickchart-complete:disabled:hover {\n",
              "    background-color: var(--disabled-bg-color);\n",
              "    fill: var(--disabled-fill-color);\n",
              "    box-shadow: none;\n",
              "  }\n",
              "\n",
              "  .colab-df-spinner {\n",
              "    border: 2px solid var(--fill-color);\n",
              "    border-color: transparent;\n",
              "    border-bottom-color: var(--fill-color);\n",
              "    animation:\n",
              "      spin 1s steps(1) infinite;\n",
              "  }\n",
              "\n",
              "  @keyframes spin {\n",
              "    0% {\n",
              "      border-color: transparent;\n",
              "      border-bottom-color: var(--fill-color);\n",
              "      border-left-color: var(--fill-color);\n",
              "    }\n",
              "    20% {\n",
              "      border-color: transparent;\n",
              "      border-left-color: var(--fill-color);\n",
              "      border-top-color: var(--fill-color);\n",
              "    }\n",
              "    30% {\n",
              "      border-color: transparent;\n",
              "      border-left-color: var(--fill-color);\n",
              "      border-top-color: var(--fill-color);\n",
              "      border-right-color: var(--fill-color);\n",
              "    }\n",
              "    40% {\n",
              "      border-color: transparent;\n",
              "      border-right-color: var(--fill-color);\n",
              "      border-top-color: var(--fill-color);\n",
              "    }\n",
              "    60% {\n",
              "      border-color: transparent;\n",
              "      border-right-color: var(--fill-color);\n",
              "    }\n",
              "    80% {\n",
              "      border-color: transparent;\n",
              "      border-right-color: var(--fill-color);\n",
              "      border-bottom-color: var(--fill-color);\n",
              "    }\n",
              "    90% {\n",
              "      border-color: transparent;\n",
              "      border-bottom-color: var(--fill-color);\n",
              "    }\n",
              "  }\n",
              "</style>\n",
              "\n",
              "      <script>\n",
              "        async function quickchart(key) {\n",
              "          const quickchartButtonEl =\n",
              "            document.querySelector('#' + key + ' button');\n",
              "          quickchartButtonEl.disabled = true;  // To prevent multiple clicks.\n",
              "          quickchartButtonEl.classList.add('colab-df-spinner');\n",
              "          try {\n",
              "            const charts = await google.colab.kernel.invokeFunction(\n",
              "                'suggestCharts', [key], {});\n",
              "          } catch (error) {\n",
              "            console.error('Error during call to suggestCharts:', error);\n",
              "          }\n",
              "          quickchartButtonEl.classList.remove('colab-df-spinner');\n",
              "          quickchartButtonEl.classList.add('colab-df-quickchart-complete');\n",
              "        }\n",
              "        (() => {\n",
              "          let quickchartButtonEl =\n",
              "            document.querySelector('#df-50363053-5d2c-430b-803c-c2e225a6ce98 button');\n",
              "          quickchartButtonEl.style.display =\n",
              "            google.colab.kernel.accessAllowed ? 'block' : 'none';\n",
              "        })();\n",
              "      </script>\n",
              "    </div>\n",
              "\n",
              "    </div>\n",
              "  </div>\n"
            ],
            "application/vnd.google.colaboratory.intrinsic+json": {
              "type": "dataframe",
              "variable_name": "df",
              "summary": "{\n  \"name\": \"df\",\n  \"rows\": 120,\n  \"fields\": [\n    {\n      \"column\": \"Unnamed: 0\",\n      \"properties\": {\n        \"dtype\": \"number\",\n        \"std\": 6,\n        \"min\": 0,\n        \"max\": 23,\n        \"num_unique_values\": 24,\n        \"samples\": [\n          8,\n          16,\n          0\n        ],\n        \"semantic_type\": \"\",\n        \"description\": \"\"\n      }\n    },\n    {\n      \"column\": \"NewsType\",\n      \"properties\": {\n        \"dtype\": \"category\",\n        \"num_unique_values\": 5,\n        \"samples\": [\n          \"Science\",\n          \"Climate\",\n          \"Health\"\n        ],\n        \"semantic_type\": \"\",\n        \"description\": \"\"\n      }\n    },\n    {\n      \"column\": \"News\",\n      \"properties\": {\n        \"dtype\": \"string\",\n        \"num_unique_values\": 104,\n        \"samples\": [\n          \"Baby pygmy hippo Moo Deng eats fruit presented for her first birthday celebration at the Khao Kheow Open Zoo in Chonburi province, Thailand, Thursday. Sakchai Lalit/AP hide caption CHONBURI, Thailand \\u2014 Thousands of excited fans flocked to a Thai zoo on Thursday to celebrate the first birthday of Moo Deng, the adorable baby pygmy hippo that has become a social media sensation. The Khao Kheow Open Zoo was overrun with Moo Deng fans on the first of four days of activities marking the hippo's birthday. Children under 12 years old can enter the zoo, about a two hour drive from the capital Bangkok, for free throughout the extravaganza. Many of Moo Deng's fans flew miles to see her. Among them was Molly Swindall, who traveled from New York for the celebrations. She was seen handing a tray of food to a zoo keeper for Moo Deng's breakfast, which the baby hippo and her mother Jona quickly devoured. \\\"I just loved her so much and decided, you know what, I have three or four days off of work,\\\" said Swindall, \\\"I can make it work to fly to Thailand. I will only be there for about 30 hours, but that's enough to go see Moo Deng. And that's exactly what I did.\\\" By Thursday afternoon, the number of visitors reached 12,000, zoo director Narongwit Chodchoy said. Despite the noise of visitors calling out for her attention, Moo Deng appeared peaceful as she took a dip in a pond in her enclosure. Moo Deng eats fruit presented for her first birthday celebration at the Khao Kheow Open Zoo in Chonburi province, Thailand, on Thursday. Sakchai Lalit/AP hide caption Fans photographed the baby hippo with their cameras or cell phones and sang \\\"Happy birthday\\\" as her birthday cake, made of a variety of fruits and vegetables, was placed near the pond. \\\"Moo Deng is my happy pill, and she's my energy pill, my curing pill. She's my vitamin!\\\" said Thea Chavez, who flew in from Houston, Texas. Another fan, Jennifer Tang from Malaysia, leaned over the enclosure to take pictures. \\\"She makes me happy. Whenever I'm stressed at work I pull up photos of Moo Deng,\\\" Tang said. \\\"So my whole office knows that I'm here .... They let me take a week off.\\\" Moo Deng (right) with mother Jona eats fruit presented for her first birthday celebration at the Khao Kheow Open Zoo in Chonburi province, Thailand on Thursday. Sakchai Lalit/AP hide caption The zoo held online auctions to celebrate Moo Deng's birthday, with photos, footprints and a food container on offer to raise funds for all the animals under their care. They also held an auction for the honor of sponsoring her birthday cake, which went for 100,000 baht ($3,065.) Moo Deng soared to stardom shortly after she was born, largely thanks to her keeper Atthapon Nundee who shared adorable pictures and videos of the baby hippo on social media. Atthapon keeps Moo Deng's fans updated on fun hippo moments \\u2014 how she squirms as he tries to wash her, bites him as he tries to play, or calmly closes her eyes as he rubs her belly. The name Moo Deng, which literally means \\\"bouncy pork\\\" in Thai, was chosen by fans via a poll on social media. It matches the names of her other siblings: Moo Toon (stewed pork) and Moo Waan (sweet pork). There is also another hippo at the zoo named Kha Moo (stewed pork leg). The zoo \\u2014 which sits on 800 hectares (almost 2,000 acres) of land and is home to more than 2,000 animals \\u2014 saw spikes of visitors since shortly after Moo Deng was born. But Narongwit said the number of visitors has somewhat dropped since the height of Moo Deng's fame. He said the zoo has had about 2,000 visitors during a weekday and around 5,000 during weekends over the past few months \\u2014 about half the numbers it saw at its peak. \\\"Moo Deng is a representative of all wild animals, and she helps everyone understand the roles of zoos,\\\" Narongwit told The Associated Press. \\\"She speaks for all nearly extinct animals, and turns people's attention to their conservation.\\\" The zoo also runs breeder programs for many endangered species, including the pygmy hippopotamus. The species is native to West Africa, where it is threatened by poaching and loss of habitat. There are only 2,000 to 3,000 left in the wild.\",\n          \"West Virginia Gov. Patrick Morrisey is among 19 Republican governors of states that stand to lose federal Medicaid funds if Congress passes the tax bill with proposed cuts to the program. Andrew Harnik/Getty Images hide caption The last time a Republican-controlled Congress and President Donald Trump moved to slash Medicaid spending, in 2017, a key political force stood in their way: GOP governors. Now, as Congress steamrolls toward passing historic Medicaid cuts of about $1 trillion over 10 years through Trump's tax and spending legislation, red state governors are saying little publicly about what it does to health care \\u2014 even as they face reductions that will punch multibillion-dollar holes in their states' budgets . Medicaid, a program jointly run by states and the federal government, covers more than 70 million low-income or disabled people, including nearly half of the nation's children. Republicans say the $900 billion-a-year program was allowed to grow too large under Democrats Barack Obama and Joe Biden by adding nondisabled adults they say don't deserve government assistance , and they have long sought to scale it back. Some of the biggest health cuts in the legislation Trump calls the \\\"One Big Beautiful Bill\\\" are achieved through new policies that would reduce enrollment by imposing more paperwork demands on enrollees, including a requirement that many prove they're working. Those policies would affect only states that expanded Medicaid to more low-income people under the Affordable Care Act. Nineteen of those states are led by Republican governors . Their silence on the bill's health measures is giving political cover to GOP lawmakers from their states as they seek to cut Medicaid coverage for millions of people who gained it within the last decade. KFF Health News contacted all 19 governors for comment on the legislation's Medicaid cuts. Only six responded. Most said they backed imposing a work requirement on adult Medicaid enrollees. \\\"Implementing work requirements for able-bodied adults is a good and necessary reform so that Medicaid is being used for temporary assistance and not a permanent entitlement,\\\" said Drew Galang, a spokesperson for Gov. Patrick Morrisey of West Virginia. \\\"Governor Rhoden supports workforce participation as a requirement of Medicaid expansion eligibility,\\\" said Josie Harms, a spokesperson for South Dakota Gov. Larry Rhoden, adding that congressional lawmakers have the governor's support: \\\"South Dakota has an excellent federal delegation, and Governor Rhoden trusts them to fight for South Dakota's priorities while delivering on President Trump's promises.\\\" In a sign of how the political winds have changed, none of the governors said anything about the legislation's crackdown on another significant cut, to provider taxes \\u2014 a tool that nearly all of their states use to help pay their share of Medicaid and gain additional funds from the federal government. That change is expected to cost states billions. In contrast to the radio silence from GOP governors, Democratic governors have campaigned against the megabill for weeks. Pennsylvania Gov. Josh Shapiro posted on the social media platform X that Trump and congressional Republicans were misleading Americans by saying they were cutting only waste, fraud, and abuse in Medicaid. \\\"They're rushing to kick hundreds of thousands of Pennsylvanians off their healthcare \\u2014 and lying about it,\\\" he posted. \\\"The damage this will do here in Pennsylvania and across America is staggering and will be felt for years to come.\\\" In New York, Gov. Kathy Hochul on July 1 charged that Trump's legislation would devastate hospitals and could lead to more than 34,000 job cuts in her state. \\\"The collective impact of the GOP reconciliation bill in Washington, D.C., could force hospitals to curtail critically needed services such as maternity care and psychiatric treatment, not to mention to downsize operations, and even close entirely,\\\" she said in a statement . In 2017, the chorus was bipartisan, as Republican governors in Ohio , Nevada , and Massachusetts spoke out against cutting Medicaid. Trump's bill to repeal much of the Affordable Care Act and roll back its Medicaid expansion narrowly failed in the Senate. \\\"It's been surprising that red-state governors, particularly those in Medicaid expansion states, haven't spoken out against Medicaid cuts,\\\" said Larry Levitt, executive vice president for health policy at KFF, a health information nonprofit that includes KFF Health News. \\\"Republican governors were a potent political force in the failed 2017 effort to repeal and replace the ACA, including Medicaid expansion.\\\" What's changed since 2017, policy experts say, is that there are fewer moderate Republican governors, and GOP state executives who advocated for Medicaid expansion over a decade ago are no longer in office. Additionally, seven of the then-red states that expanded Medicaid did so via ballot initiative , mostly over opposition from their governors. In fact, the Medicaid work requirement is backed by many Republican governors, even if it means less federal Medicaid money and leads to fewer people covered. Several states, including Arkansas and Ohio, have already passed state laws to implement a requirement that adults enrolled under the ACA's Medicaid expansion work, volunteer, go to school, or participate in job training. Most states have yet to bring work requirement programs to fruition because they are waiting for federal government approval. Charles \\\"Chip\\\" Kahn, president of the Federation of American Hospitals, a trade group of investor-owned hospitals, said that while fewer governors have engaged publicly in trying to block Medicaid cuts under the bill, federal lawmakers are hearing from legislators in their states. A political dilemma for Republican governors is that, unlike in 2017, the bill before Congress is not legislation aimed expressly at repealing Obamacare. Its scope is broader than health care, and would extend many of Trump's tax cuts, and direct billions in new spending toward border security, immigration enforcement, and the military, while also cutting health care spending. \\\"It's like playing multidimensional chess rather than focusing on one issue,\\\" Kahn said. Larry Jacobs , director of the Center for the Study of Politics and Governance at the University of Minnesota, said some Republican governors may have expressed concerns privately to their states' GOP senators but are not speaking out publicly for fear of drawing Trump's wrath. \\\"Why are they being cagey? Trump and not wanting to be 'Liz Cheney'd,'\\\" Jacobs said, referring to the Republican former Wyoming lawmaker whom Trump helped oust after she served as vice chair of an inquiry into his attempts to overturn the results of the 2020 election. The political peril Republican lawmakers face in publicly challenging Trump remains explicit. On June 29, Sen. Thom Tillis (R-N.C.) announced he would not run for reelection after he voiced concerns about the bill and the president threatened to back a primary challenger. Tillis was one of three GOP senators to vote against it on July 1, though it still narrowly passed. In addition to the work requirement, the biggest Medicaid cuts in the bill stem from its restrictions on provider taxes \\u2014 levies that states impose on hospitals, nursing homes, and other health care institutions to help increase their federal reimbursement. Much of the additional money is then returned to the health care providers in the form of higher payments for their Medicaid patients. The practice, which has been adopted in every state but Alaska, has been criticized by some Beltway Republicans as \\\" money laundering \\\" \\u2014 even though the taxes are approved by state lawmakers and the federal Centers for Medicare & Medicaid Services and have been allowed under federal law for decades. The Senate bill would limit the money states could raise \\u2014 a move that would mean billions in funding cuts to states and their hospitals. The states with Republican governors that expanded Medicaid are Alaska, Arkansas, Idaho, Indiana, Iowa, Louisiana, Missouri, Montana, Nebraska, New Hampshire, Nevada, North Dakota, Ohio, Oklahoma, South Dakota, Vermont, Virginia, West Virginia, and Utah. One of the governors who expressed concerns about repealing the Obamacare Medicaid expansion in 2017 was Jim Justice of West Virginia, a Democrat at the time. In a June 2017 letter to West Virginia Sen. Shelley Moore Capito, a Republican, Justice wrote: \\\"Since so many of our people count on Medicaid, any cut to Medicaid would destroy families in West Virginia.\\\" He added that \\\"the consequences would be beyond catastrophic.\\\" On July 1, Justice \\u2014 elected to the Senate as a Republican last year \\u2014 voted for Trump's megabill, including its Medicaid cuts. \\\"The Senator believes this bill strikes a good balance between protecting the most vulnerable and those who rely on the program while rooting out waste, fraud, and abuse to ensure the program is run efficiently for those deserving,\\\" William O'Grady, a Justice spokesperson, said in an email Wednesday. KFF Health News correspondent Arielle Zionts contributed to this report. KFF Health News is a national newsroom that produces in-depth journalism about health issues and is one of the core operating programs at KFF .\",\n          \"Is Medicaid healthcare or welfare? Chip Somodevilla/Getty Images hide caption Is Medicaid healthcare or welfare? Republicans have passed President Trump's One Big, Beautiful bill, but is it built on bad faith stereotypes? The legislation guts funding for Medicaid, and for a long time Republicans have been attacking the program as sort of welfare for moochers. How true is that? Brittany is joined by Joan Alker , Executive Director and Co-Founder of the Georgetown Center for Children and Families, and Jamila Michener , professor and author of Fragmented Democracy: Medicaid, Federalism and Unequal Politics to understand how stereotypes about who deserves health insurance affect us all. This episode was produced by Corey Antonio. It was edited by Neena Pathak. Our Supervising Producer is Barton Girdwood. Our Executive Producer is Veralyn Williams. Our VP of Programming is Yolanda Sangweni.\"\n        ],\n        \"semantic_type\": \"\",\n        \"description\": \"\"\n      }\n    },\n    {\n      \"column\": \"text_cleaned\",\n      \"properties\": {\n        \"dtype\": \"string\",\n        \"num_unique_values\": 104,\n        \"samples\": [\n          \"Baby pygmy hippo Moo Deng eats fruit presented for her first birthday celebration at the Khao Kheow Open Zoo in Chonburi province, Thailand, Thursday. Sakchai Lalit/AP hide caption CHONBURI, Thailand \\u2014 Thousands of excited fans flocked to a Thai zoo on Thursday to celebrate the first birthday of Moo Deng, the adorable baby pygmy hippo that has become a social media sensation. The Khao Kheow Open Zoo was overrun with Moo Deng fans on the first of four days of activities marking the hippo's birthday. Children under 12 years old can enter the zoo, about a two hour drive from the capital Bangkok, for free throughout the extravaganza. Many of Moo Deng's fans flew miles to see her. Among them was Molly Swindall, who traveled from New York for the celebrations. She was seen handing a tray of food to a zoo keeper for Moo Deng's breakfast, which the baby hippo and her mother Jona quickly devoured. \\\"I just loved her so much and decided, you know what, I have three or four days off of work,\\\" said Swindall, \\\"I can make it work to fly to Thailand. I will only be there for about 30 hours, but that's enough to go see Moo Deng. And that's exactly what I did.\\\" By Thursday afternoon, the number of visitors reached 12,000, zoo director Narongwit Chodchoy said. Despite the noise of visitors calling out for her attention, Moo Deng appeared peaceful as she took a dip in a pond in her enclosure. Moo Deng eats fruit presented for her first birthday celebration at the Khao Kheow Open Zoo in Chonburi province, Thailand, on Thursday. Sakchai Lalit/AP hide caption Fans photographed the baby hippo with their cameras or cell phones and sang \\\"Happy birthday\\\" as her birthday cake, made of a variety of fruits and vegetables, was placed near the pond. \\\"Moo Deng is my happy pill, and she's my energy pill, my curing pill. She's my vitamin!\\\" said Thea Chavez, who flew in from Houston, Texas. Another fan, Jennifer Tang from Malaysia, leaned over the enclosure to take pictures. \\\"She makes me happy. Whenever I'm stressed at work I pull up photos of Moo Deng,\\\" Tang said. \\\"So my whole office knows that I'm here .... They let me take a week off.\\\" Moo Deng (right) with mother Jona eats fruit presented for her first birthday celebration at the Khao Kheow Open Zoo in Chonburi province, Thailand on Thursday. Sakchai Lalit/AP hide caption The zoo held online auctions to celebrate Moo Deng's birthday, with photos, footprints and a food container on offer to raise funds for all the animals under their care. They also held an auction for the honor of sponsoring her birthday cake, which went for 100,000 baht ($3,065.) Moo Deng soared to stardom shortly after she was born, largely thanks to her keeper Atthapon Nundee who shared adorable pictures and videos of the baby hippo on social media. Atthapon keeps Moo Deng's fans updated on fun hippo moments \\u2014 how she squirms as he tries to wash her, bites him as he tries to play, or calmly closes her eyes as he rubs her belly. The name Moo Deng, which literally means \\\"bouncy pork\\\" in Thai, was chosen by fans via a poll on social media. It matches the names of her other siblings: Moo Toon (stewed pork) and Moo Waan (sweet pork). There is also another hippo at the zoo named Kha Moo (stewed pork leg). The zoo \\u2014 which sits on 800 hectares (almost 2,000 acres) of land and is home to more than 2,000 animals \\u2014 saw spikes of visitors since shortly after Moo Deng was born. But Narongwit said the number of visitors has somewhat dropped since the height of Moo Deng's fame. He said the zoo has had about 2,000 visitors during a weekday and around 5,000 during weekends over the past few months \\u2014 about half the numbers it saw at its peak. \\\"Moo Deng is a representative of all wild animals, and she helps everyone understand the roles of zoos,\\\" Narongwit told The Associated Press. \\\"She speaks for all nearly extinct animals, and turns people's attention to their conservation.\\\" The zoo also runs breeder programs for many endangered species, including the pygmy hippopotamus. The species is native to West Africa, where it is threatened by poaching and loss of habitat. There are only 2,000 to 3,000 left in the wild.\",\n          \"West Virginia Gov. Patrick Morrisey is among 19 Republican governors of states that stand to lose federal Medicaid funds if Congress passes the tax bill with proposed cuts to the program. Andrew Harnik/Getty Images hide caption The last time a Republican-controlled Congress and President Donald Trump moved to slash Medicaid spending, in 2017, a key political force stood in their way: GOP governors. Now, as Congress steamrolls toward passing historic Medicaid cuts of about $1 trillion over 10 years through Trump's tax and spending legislation, red state governors are saying little publicly about what it does to health care \\u2014 even as they face reductions that will punch multibillion-dollar holes in their states' budgets . Medicaid, a program jointly run by states and the federal government, covers more than 70 million low-income or disabled people, including nearly half of the nation's children. Republicans say the $900 billion-a-year program was allowed to grow too large under Democrats Barack Obama and Joe Biden by adding nondisabled adults they say don't deserve government assistance , and they have long sought to scale it back. Some of the biggest health cuts in the legislation Trump calls the \\\"One Big Beautiful Bill\\\" are achieved through new policies that would reduce enrollment by imposing more paperwork demands on enrollees, including a requirement that many prove they're working. Those policies would affect only states that expanded Medicaid to more low-income people under the Affordable Care Act. Nineteen of those states are led by Republican governors . Their silence on the bill's health measures is giving political cover to GOP lawmakers from their states as they seek to cut Medicaid coverage for millions of people who gained it within the last decade. KFF Health News contacted all 19 governors for comment on the legislation's Medicaid cuts. Only six responded. Most said they backed imposing a work requirement on adult Medicaid enrollees. \\\"Implementing work requirements for able-bodied adults is a good and necessary reform so that Medicaid is being used for temporary assistance and not a permanent entitlement,\\\" said Drew Galang, a spokesperson for Gov. Patrick Morrisey of West Virginia. \\\"Governor Rhoden supports workforce participation as a requirement of Medicaid expansion eligibility,\\\" said Josie Harms, a spokesperson for South Dakota Gov. Larry Rhoden, adding that congressional lawmakers have the governor's support: \\\"South Dakota has an excellent federal delegation, and Governor Rhoden trusts them to fight for South Dakota's priorities while delivering on President Trump's promises.\\\" In a sign of how the political winds have changed, none of the governors said anything about the legislation's crackdown on another significant cut, to provider taxes \\u2014 a tool that nearly all of their states use to help pay their share of Medicaid and gain additional funds from the federal government. That change is expected to cost states billions. In contrast to the radio silence from GOP governors, Democratic governors have campaigned against the megabill for weeks. Pennsylvania Gov. Josh Shapiro posted on the social media platform X that Trump and congressional Republicans were misleading Americans by saying they were cutting only waste, fraud, and abuse in Medicaid. \\\"They're rushing to kick hundreds of thousands of Pennsylvanians off their healthcare \\u2014 and lying about it,\\\" he posted. \\\"The damage this will do here in Pennsylvania and across America is staggering and will be felt for years to come.\\\" In New York, Gov. Kathy Hochul on July 1 charged that Trump's legislation would devastate hospitals and could lead to more than 34,000 job cuts in her state. \\\"The collective impact of the GOP reconciliation bill in Washington, D.C., could force hospitals to curtail critically needed services such as maternity care and psychiatric treatment, not to mention to downsize operations, and even close entirely,\\\" she said in a statement . In 2017, the chorus was bipartisan, as Republican governors in Ohio , Nevada , and Massachusetts spoke out against cutting Medicaid. Trump's bill to repeal much of the Affordable Care Act and roll back its Medicaid expansion narrowly failed in the Senate. \\\"It's been surprising that red-state governors, particularly those in Medicaid expansion states, haven't spoken out against Medicaid cuts,\\\" said Larry Levitt, executive vice president for health policy at KFF, a health information nonprofit that includes KFF Health News. \\\"Republican governors were a potent political force in the failed 2017 effort to repeal and replace the ACA, including Medicaid expansion.\\\" What's changed since 2017, policy experts say, is that there are fewer moderate Republican governors, and GOP state executives who advocated for Medicaid expansion over a decade ago are no longer in office. Additionally, seven of the then-red states that expanded Medicaid did so via ballot initiative , mostly over opposition from their governors. In fact, the Medicaid work requirement is backed by many Republican governors, even if it means less federal Medicaid money and leads to fewer people covered. Several states, including Arkansas and Ohio, have already passed state laws to implement a requirement that adults enrolled under the ACA's Medicaid expansion work, volunteer, go to school, or participate in job training. Most states have yet to bring work requirement programs to fruition because they are waiting for federal government approval. Charles \\\"Chip\\\" Kahn, president of the Federation of American Hospitals, a trade group of investor-owned hospitals, said that while fewer governors have engaged publicly in trying to block Medicaid cuts under the bill, federal lawmakers are hearing from legislators in their states. A political dilemma for Republican governors is that, unlike in 2017, the bill before Congress is not legislation aimed expressly at repealing Obamacare. Its scope is broader than health care, and would extend many of Trump's tax cuts, and direct billions in new spending toward border security, immigration enforcement, and the military, while also cutting health care spending. \\\"It's like playing multidimensional chess rather than focusing on one issue,\\\" Kahn said. Larry Jacobs , director of the Center for the Study of Politics and Governance at the University of Minnesota, said some Republican governors may have expressed concerns privately to their states' GOP senators but are not speaking out publicly for fear of drawing Trump's wrath. \\\"Why are they being cagey? Trump and not wanting to be 'Liz Cheney'd,'\\\" Jacobs said, referring to the Republican former Wyoming lawmaker whom Trump helped oust after she served as vice chair of an inquiry into his attempts to overturn the results of the 2020 election. The political peril Republican lawmakers face in publicly challenging Trump remains explicit. On June 29, Sen. Thom Tillis (R-N.C.) announced he would not run for reelection after he voiced concerns about the bill and the president threatened to back a primary challenger. Tillis was one of three GOP senators to vote against it on July 1, though it still narrowly passed. In addition to the work requirement, the biggest Medicaid cuts in the bill stem from its restrictions on provider taxes \\u2014 levies that states impose on hospitals, nursing homes, and other health care institutions to help increase their federal reimbursement. Much of the additional money is then returned to the health care providers in the form of higher payments for their Medicaid patients. The practice, which has been adopted in every state but Alaska, has been criticized by some Beltway Republicans as \\\" money laundering \\\" \\u2014 even though the taxes are approved by state lawmakers and the federal Centers for Medicare & Medicaid Services and have been allowed under federal law for decades. The Senate bill would limit the money states could raise \\u2014 a move that would mean billions in funding cuts to states and their hospitals. The states with Republican governors that expanded Medicaid are Alaska, Arkansas, Idaho, Indiana, Iowa, Louisiana, Missouri, Montana, Nebraska, New Hampshire, Nevada, North Dakota, Ohio, Oklahoma, South Dakota, Vermont, Virginia, West Virginia, and Utah. One of the governors who expressed concerns about repealing the Obamacare Medicaid expansion in 2017 was Jim Justice of West Virginia, a Democrat at the time. In a June 2017 letter to West Virginia Sen. Shelley Moore Capito, a Republican, Justice wrote: \\\"Since so many of our people count on Medicaid, any cut to Medicaid would destroy families in West Virginia.\\\" He added that \\\"the consequences would be beyond catastrophic.\\\" On July 1, Justice \\u2014 elected to the Senate as a Republican last year \\u2014 voted for Trump's megabill, including its Medicaid cuts. \\\"The Senator believes this bill strikes a good balance between protecting the most vulnerable and those who rely on the program while rooting out waste, fraud, and abuse to ensure the program is run efficiently for those deserving,\\\" William O'Grady, a Justice spokesperson, said in an email Wednesday. KFF Health News correspondent Arielle Zionts contributed to this report. KFF Health News is a national newsroom that produces in-depth journalism about health issues and is one of the core operating programs at KFF .\",\n          \"Is Medicaid healthcare or welfare? Chip Somodevilla/Getty Images hide caption Is Medicaid healthcare or welfare? Republicans have passed President Trump's One Big, Beautiful bill, but is it built on bad faith stereotypes? The legislation guts funding for Medicaid, and for a long time Republicans have been attacking the program as sort of welfare for moochers. How true is that? Brittany is joined by Joan Alker , Executive Director and Co-Founder of the Georgetown Center for Children and Families, and Jamila Michener , professor and author of Fragmented Democracy: Medicaid, Federalism and Unequal Politics to understand how stereotypes about who deserves health insurance affect us all. This episode was produced by Corey Antonio. It was edited by Neena Pathak. Our Supervising Producer is Barton Girdwood. Our Executive Producer is Veralyn Williams. Our VP of Programming is Yolanda Sangweni.\"\n        ],\n        \"semantic_type\": \"\",\n        \"description\": \"\"\n      }\n    }\n  ]\n}"
            }
          },
          "metadata": {},
          "execution_count": 20
        }
      ]
    },
    {
      "cell_type": "code",
      "source": [
        "from sklearn import preprocessing\n",
        "le = preprocessing.LabelEncoder()\n"
      ],
      "metadata": {
        "id": "jcB_ZvHna0Hz"
      },
      "execution_count": null,
      "outputs": []
    },
    {
      "cell_type": "code",
      "source": [
        "le.fit(df['NewsType'].tolist())\n",
        "df['label']=le.transform(df['NewsType'].tolist())"
      ],
      "metadata": {
        "id": "-xpTFeata0KR"
      },
      "execution_count": null,
      "outputs": []
    },
    {
      "cell_type": "code",
      "source": [
        "df.sample()"
      ],
      "metadata": {
        "colab": {
          "base_uri": "https://localhost:8080/",
          "height": 81
        },
        "id": "7RAbyhLrcAgX",
        "outputId": "1f8efc24-d27a-4b98-bffd-be14137a7ac0"
      },
      "execution_count": null,
      "outputs": [
        {
          "output_type": "execute_result",
          "data": {
            "text/plain": [
              "    Unnamed: 0 NewsType                                               News  \\\n",
              "44          20  Science  Going on a run or planning a Fourth of July ex...   \n",
              "\n",
              "                                         text_cleaned  label  \n",
              "44  Going on a run or planning a Fourth of July ex...      4  "
            ],
            "text/html": [
              "\n",
              "  <div id=\"df-e48cd209-8bef-47aa-86f6-b28cba194fd1\" class=\"colab-df-container\">\n",
              "    <div>\n",
              "<style scoped>\n",
              "    .dataframe tbody tr th:only-of-type {\n",
              "        vertical-align: middle;\n",
              "    }\n",
              "\n",
              "    .dataframe tbody tr th {\n",
              "        vertical-align: top;\n",
              "    }\n",
              "\n",
              "    .dataframe thead th {\n",
              "        text-align: right;\n",
              "    }\n",
              "</style>\n",
              "<table border=\"1\" class=\"dataframe\">\n",
              "  <thead>\n",
              "    <tr style=\"text-align: right;\">\n",
              "      <th></th>\n",
              "      <th>Unnamed: 0</th>\n",
              "      <th>NewsType</th>\n",
              "      <th>News</th>\n",
              "      <th>text_cleaned</th>\n",
              "      <th>label</th>\n",
              "    </tr>\n",
              "  </thead>\n",
              "  <tbody>\n",
              "    <tr>\n",
              "      <th>44</th>\n",
              "      <td>20</td>\n",
              "      <td>Science</td>\n",
              "      <td>Going on a run or planning a Fourth of July ex...</td>\n",
              "      <td>Going on a run or planning a Fourth of July ex...</td>\n",
              "      <td>4</td>\n",
              "    </tr>\n",
              "  </tbody>\n",
              "</table>\n",
              "</div>\n",
              "    <div class=\"colab-df-buttons\">\n",
              "\n",
              "  <div class=\"colab-df-container\">\n",
              "    <button class=\"colab-df-convert\" onclick=\"convertToInteractive('df-e48cd209-8bef-47aa-86f6-b28cba194fd1')\"\n",
              "            title=\"Convert this dataframe to an interactive table.\"\n",
              "            style=\"display:none;\">\n",
              "\n",
              "  <svg xmlns=\"http://www.w3.org/2000/svg\" height=\"24px\" viewBox=\"0 -960 960 960\">\n",
              "    <path d=\"M120-120v-720h720v720H120Zm60-500h600v-160H180v160Zm220 220h160v-160H400v160Zm0 220h160v-160H400v160ZM180-400h160v-160H180v160Zm440 0h160v-160H620v160ZM180-180h160v-160H180v160Zm440 0h160v-160H620v160Z\"/>\n",
              "  </svg>\n",
              "    </button>\n",
              "\n",
              "  <style>\n",
              "    .colab-df-container {\n",
              "      display:flex;\n",
              "      gap: 12px;\n",
              "    }\n",
              "\n",
              "    .colab-df-convert {\n",
              "      background-color: #E8F0FE;\n",
              "      border: none;\n",
              "      border-radius: 50%;\n",
              "      cursor: pointer;\n",
              "      display: none;\n",
              "      fill: #1967D2;\n",
              "      height: 32px;\n",
              "      padding: 0 0 0 0;\n",
              "      width: 32px;\n",
              "    }\n",
              "\n",
              "    .colab-df-convert:hover {\n",
              "      background-color: #E2EBFA;\n",
              "      box-shadow: 0px 1px 2px rgba(60, 64, 67, 0.3), 0px 1px 3px 1px rgba(60, 64, 67, 0.15);\n",
              "      fill: #174EA6;\n",
              "    }\n",
              "\n",
              "    .colab-df-buttons div {\n",
              "      margin-bottom: 4px;\n",
              "    }\n",
              "\n",
              "    [theme=dark] .colab-df-convert {\n",
              "      background-color: #3B4455;\n",
              "      fill: #D2E3FC;\n",
              "    }\n",
              "\n",
              "    [theme=dark] .colab-df-convert:hover {\n",
              "      background-color: #434B5C;\n",
              "      box-shadow: 0px 1px 3px 1px rgba(0, 0, 0, 0.15);\n",
              "      filter: drop-shadow(0px 1px 2px rgba(0, 0, 0, 0.3));\n",
              "      fill: #FFFFFF;\n",
              "    }\n",
              "  </style>\n",
              "\n",
              "    <script>\n",
              "      const buttonEl =\n",
              "        document.querySelector('#df-e48cd209-8bef-47aa-86f6-b28cba194fd1 button.colab-df-convert');\n",
              "      buttonEl.style.display =\n",
              "        google.colab.kernel.accessAllowed ? 'block' : 'none';\n",
              "\n",
              "      async function convertToInteractive(key) {\n",
              "        const element = document.querySelector('#df-e48cd209-8bef-47aa-86f6-b28cba194fd1');\n",
              "        const dataTable =\n",
              "          await google.colab.kernel.invokeFunction('convertToInteractive',\n",
              "                                                    [key], {});\n",
              "        if (!dataTable) return;\n",
              "\n",
              "        const docLinkHtml = 'Like what you see? Visit the ' +\n",
              "          '<a target=\"_blank\" href=https://colab.research.google.com/notebooks/data_table.ipynb>data table notebook</a>'\n",
              "          + ' to learn more about interactive tables.';\n",
              "        element.innerHTML = '';\n",
              "        dataTable['output_type'] = 'display_data';\n",
              "        await google.colab.output.renderOutput(dataTable, element);\n",
              "        const docLink = document.createElement('div');\n",
              "        docLink.innerHTML = docLinkHtml;\n",
              "        element.appendChild(docLink);\n",
              "      }\n",
              "    </script>\n",
              "  </div>\n",
              "\n",
              "\n",
              "    </div>\n",
              "  </div>\n"
            ],
            "application/vnd.google.colaboratory.intrinsic+json": {
              "type": "dataframe",
              "summary": "{\n  \"name\": \"df\",\n  \"rows\": 1,\n  \"fields\": [\n    {\n      \"column\": \"Unnamed: 0\",\n      \"properties\": {\n        \"dtype\": \"number\",\n        \"std\": null,\n        \"min\": 20,\n        \"max\": 20,\n        \"num_unique_values\": 1,\n        \"samples\": [\n          20\n        ],\n        \"semantic_type\": \"\",\n        \"description\": \"\"\n      }\n    },\n    {\n      \"column\": \"NewsType\",\n      \"properties\": {\n        \"dtype\": \"string\",\n        \"num_unique_values\": 1,\n        \"samples\": [\n          \"Science\"\n        ],\n        \"semantic_type\": \"\",\n        \"description\": \"\"\n      }\n    },\n    {\n      \"column\": \"News\",\n      \"properties\": {\n        \"dtype\": \"string\",\n        \"num_unique_values\": 1,\n        \"samples\": [\n          \"Going on a run or planning a Fourth of July extravaganza and curious about how muggy it's going to be out? If so, we have just the ticket for you in this encore episode. Former Short Wave co-host Maddie Sofia chats with former producer Thomas Lu about relative humidity and why some meteorologists are telling us to pay more attention to dew point temperature, not relative humidity. Plus \\u2014 how moisture in the air and temperature influence the way our body \\\"feels\\\" when we're outside. Click here for the National Weather Service Heat Index chart referenced in the episode. Interested in more space episodes? Email us your question at shortwave@npr.org . Listen to every episode of Short Wave sponsor-free and support our work at NPR by signing up for Short Wave+ at plus.npr.org/shortwave . Listen to Short Wave on Spotify and Apple Podcasts . This episode was produced by Thomas Lu and Rachel Carlson. It was edited by Rebecca Ramirez and Gisele Grayson. Tyler Jones checked the facts, and the audio engineers were Maggie Luthar and Kwesi Lee.\"\n        ],\n        \"semantic_type\": \"\",\n        \"description\": \"\"\n      }\n    },\n    {\n      \"column\": \"text_cleaned\",\n      \"properties\": {\n        \"dtype\": \"string\",\n        \"num_unique_values\": 1,\n        \"samples\": [\n          \"Going on a run or planning a Fourth of July extravaganza and curious about how muggy it's going to be out? If so, we have just the ticket for you in this encore episode. Former Short Wave co-host Maddie Sofia chats with former producer Thomas Lu about relative humidity and why some meteorologists are telling us to pay more attention to dew point temperature, not relative humidity. Plus \\u2014 how moisture in the air and temperature influence the way our body \\\"feels\\\" when we're outside. Click here for the National Weather Service Heat Index chart referenced in the episode. Interested in more space episodes? Email us your question at shortwave@npr.org . Listen to every episode of Short Wave sponsor-free and support our work at NPR by signing up for Short Wave+ at plus.npr.org/shortwave . Listen to Short Wave on Spotify and Apple Podcasts . This episode was produced by Thomas Lu and Rachel Carlson. It was edited by Rebecca Ramirez and Gisele Grayson. Tyler Jones checked the facts, and the audio engineers were Maggie Luthar and Kwesi Lee.\"\n        ],\n        \"semantic_type\": \"\",\n        \"description\": \"\"\n      }\n    },\n    {\n      \"column\": \"label\",\n      \"properties\": {\n        \"dtype\": \"number\",\n        \"std\": null,\n        \"min\": 4,\n        \"max\": 4,\n        \"num_unique_values\": 1,\n        \"samples\": [\n          4\n        ],\n        \"semantic_type\": \"\",\n        \"description\": \"\"\n      }\n    }\n  ]\n}"
            }
          },
          "metadata": {},
          "execution_count": 23
        }
      ]
    },
    {
      "cell_type": "code",
      "source": [
        "from sklearn.model_selection import train_test_split\n",
        "train_df,test_df=train_test_split(df,test_size=0.2,random_state=42)"
      ],
      "metadata": {
        "id": "0Eawzikma0Ma"
      },
      "execution_count": null,
      "outputs": []
    },
    {
      "cell_type": "code",
      "source": [
        "df_train=train_df[['text_cleaned','label']]\n",
        "df_test=test_df[['text_cleaned','label']]"
      ],
      "metadata": {
        "id": "1ItsENMJa0Oi"
      },
      "execution_count": null,
      "outputs": []
    },
    {
      "cell_type": "markdown",
      "source": [
        "#### Convert To HuggingFACE Dataset"
      ],
      "metadata": {
        "id": "ctHd8FT3a0Qw"
      }
    },
    {
      "cell_type": "code",
      "source": [
        "!pip install datasets\n",
        "!pip install evaluate"
      ],
      "metadata": {
        "colab": {
          "base_uri": "https://localhost:8080/"
        },
        "id": "woCeGDs0a0Sq",
        "outputId": "08df6e45-1cfe-4462-ee8d-9998dae3eea1"
      },
      "execution_count": null,
      "outputs": [
        {
          "output_type": "stream",
          "name": "stdout",
          "text": [
            "Requirement already satisfied: datasets in /usr/local/lib/python3.11/dist-packages (2.14.4)\n",
            "Requirement already satisfied: numpy>=1.17 in /usr/local/lib/python3.11/dist-packages (from datasets) (2.0.2)\n",
            "Requirement already satisfied: pyarrow>=8.0.0 in /usr/local/lib/python3.11/dist-packages (from datasets) (18.1.0)\n",
            "Requirement already satisfied: dill<0.3.8,>=0.3.0 in /usr/local/lib/python3.11/dist-packages (from datasets) (0.3.7)\n",
            "Requirement already satisfied: pandas in /usr/local/lib/python3.11/dist-packages (from datasets) (2.2.2)\n",
            "Requirement already satisfied: requests>=2.19.0 in /usr/local/lib/python3.11/dist-packages (from datasets) (2.32.3)\n",
            "Requirement already satisfied: tqdm>=4.62.1 in /usr/local/lib/python3.11/dist-packages (from datasets) (4.67.1)\n",
            "Requirement already satisfied: xxhash in /usr/local/lib/python3.11/dist-packages (from datasets) (3.5.0)\n",
            "Requirement already satisfied: multiprocess in /usr/local/lib/python3.11/dist-packages (from datasets) (0.70.15)\n",
            "Requirement already satisfied: fsspec>=2021.11.1 in /usr/local/lib/python3.11/dist-packages (from fsspec[http]>=2021.11.1->datasets) (2025.3.2)\n",
            "Requirement already satisfied: aiohttp in /usr/local/lib/python3.11/dist-packages (from datasets) (3.11.15)\n",
            "Requirement already satisfied: huggingface-hub<1.0.0,>=0.14.0 in /usr/local/lib/python3.11/dist-packages (from datasets) (0.33.2)\n",
            "Requirement already satisfied: packaging in /usr/local/lib/python3.11/dist-packages (from datasets) (24.2)\n",
            "Requirement already satisfied: pyyaml>=5.1 in /usr/local/lib/python3.11/dist-packages (from datasets) (6.0.2)\n",
            "Requirement already satisfied: aiohappyeyeballs>=2.3.0 in /usr/local/lib/python3.11/dist-packages (from aiohttp->datasets) (2.6.1)\n",
            "Requirement already satisfied: aiosignal>=1.1.2 in /usr/local/lib/python3.11/dist-packages (from aiohttp->datasets) (1.4.0)\n",
            "Requirement already satisfied: attrs>=17.3.0 in /usr/local/lib/python3.11/dist-packages (from aiohttp->datasets) (25.3.0)\n",
            "Requirement already satisfied: frozenlist>=1.1.1 in /usr/local/lib/python3.11/dist-packages (from aiohttp->datasets) (1.7.0)\n",
            "Requirement already satisfied: multidict<7.0,>=4.5 in /usr/local/lib/python3.11/dist-packages (from aiohttp->datasets) (6.6.3)\n",
            "Requirement already satisfied: propcache>=0.2.0 in /usr/local/lib/python3.11/dist-packages (from aiohttp->datasets) (0.3.2)\n",
            "Requirement already satisfied: yarl<2.0,>=1.17.0 in /usr/local/lib/python3.11/dist-packages (from aiohttp->datasets) (1.20.1)\n",
            "Requirement already satisfied: filelock in /usr/local/lib/python3.11/dist-packages (from huggingface-hub<1.0.0,>=0.14.0->datasets) (3.18.0)\n",
            "Requirement already satisfied: typing-extensions>=3.7.4.3 in /usr/local/lib/python3.11/dist-packages (from huggingface-hub<1.0.0,>=0.14.0->datasets) (4.14.1)\n",
            "Requirement already satisfied: hf-xet<2.0.0,>=1.1.2 in /usr/local/lib/python3.11/dist-packages (from huggingface-hub<1.0.0,>=0.14.0->datasets) (1.1.5)\n",
            "Requirement already satisfied: charset-normalizer<4,>=2 in /usr/local/lib/python3.11/dist-packages (from requests>=2.19.0->datasets) (3.4.2)\n",
            "Requirement already satisfied: idna<4,>=2.5 in /usr/local/lib/python3.11/dist-packages (from requests>=2.19.0->datasets) (3.10)\n",
            "Requirement already satisfied: urllib3<3,>=1.21.1 in /usr/local/lib/python3.11/dist-packages (from requests>=2.19.0->datasets) (2.4.0)\n",
            "Requirement already satisfied: certifi>=2017.4.17 in /usr/local/lib/python3.11/dist-packages (from requests>=2.19.0->datasets) (2025.7.9)\n",
            "Requirement already satisfied: python-dateutil>=2.8.2 in /usr/local/lib/python3.11/dist-packages (from pandas->datasets) (2.9.0.post0)\n",
            "Requirement already satisfied: pytz>=2020.1 in /usr/local/lib/python3.11/dist-packages (from pandas->datasets) (2025.2)\n",
            "Requirement already satisfied: tzdata>=2022.7 in /usr/local/lib/python3.11/dist-packages (from pandas->datasets) (2025.2)\n",
            "Requirement already satisfied: six>=1.5 in /usr/local/lib/python3.11/dist-packages (from python-dateutil>=2.8.2->pandas->datasets) (1.17.0)\n",
            "Collecting evaluate\n",
            "  Downloading evaluate-0.4.5-py3-none-any.whl.metadata (9.5 kB)\n",
            "Requirement already satisfied: datasets>=2.0.0 in /usr/local/lib/python3.11/dist-packages (from evaluate) (2.14.4)\n",
            "Requirement already satisfied: numpy>=1.17 in /usr/local/lib/python3.11/dist-packages (from evaluate) (2.0.2)\n",
            "Requirement already satisfied: dill in /usr/local/lib/python3.11/dist-packages (from evaluate) (0.3.7)\n",
            "Requirement already satisfied: pandas in /usr/local/lib/python3.11/dist-packages (from evaluate) (2.2.2)\n",
            "Requirement already satisfied: requests>=2.19.0 in /usr/local/lib/python3.11/dist-packages (from evaluate) (2.32.3)\n",
            "Requirement already satisfied: tqdm>=4.62.1 in /usr/local/lib/python3.11/dist-packages (from evaluate) (4.67.1)\n",
            "Requirement already satisfied: xxhash in /usr/local/lib/python3.11/dist-packages (from evaluate) (3.5.0)\n",
            "Requirement already satisfied: multiprocess in /usr/local/lib/python3.11/dist-packages (from evaluate) (0.70.15)\n",
            "Requirement already satisfied: fsspec>=2021.05.0 in /usr/local/lib/python3.11/dist-packages (from fsspec[http]>=2021.05.0->evaluate) (2025.3.2)\n",
            "Requirement already satisfied: huggingface-hub>=0.7.0 in /usr/local/lib/python3.11/dist-packages (from evaluate) (0.33.2)\n",
            "Requirement already satisfied: packaging in /usr/local/lib/python3.11/dist-packages (from evaluate) (24.2)\n",
            "Requirement already satisfied: pyarrow>=8.0.0 in /usr/local/lib/python3.11/dist-packages (from datasets>=2.0.0->evaluate) (18.1.0)\n",
            "Requirement already satisfied: aiohttp in /usr/local/lib/python3.11/dist-packages (from datasets>=2.0.0->evaluate) (3.11.15)\n",
            "Requirement already satisfied: pyyaml>=5.1 in /usr/local/lib/python3.11/dist-packages (from datasets>=2.0.0->evaluate) (6.0.2)\n",
            "Requirement already satisfied: filelock in /usr/local/lib/python3.11/dist-packages (from huggingface-hub>=0.7.0->evaluate) (3.18.0)\n",
            "Requirement already satisfied: typing-extensions>=3.7.4.3 in /usr/local/lib/python3.11/dist-packages (from huggingface-hub>=0.7.0->evaluate) (4.14.1)\n",
            "Requirement already satisfied: hf-xet<2.0.0,>=1.1.2 in /usr/local/lib/python3.11/dist-packages (from huggingface-hub>=0.7.0->evaluate) (1.1.5)\n",
            "Requirement already satisfied: charset-normalizer<4,>=2 in /usr/local/lib/python3.11/dist-packages (from requests>=2.19.0->evaluate) (3.4.2)\n",
            "Requirement already satisfied: idna<4,>=2.5 in /usr/local/lib/python3.11/dist-packages (from requests>=2.19.0->evaluate) (3.10)\n",
            "Requirement already satisfied: urllib3<3,>=1.21.1 in /usr/local/lib/python3.11/dist-packages (from requests>=2.19.0->evaluate) (2.4.0)\n",
            "Requirement already satisfied: certifi>=2017.4.17 in /usr/local/lib/python3.11/dist-packages (from requests>=2.19.0->evaluate) (2025.7.9)\n",
            "Requirement already satisfied: python-dateutil>=2.8.2 in /usr/local/lib/python3.11/dist-packages (from pandas->evaluate) (2.9.0.post0)\n",
            "Requirement already satisfied: pytz>=2020.1 in /usr/local/lib/python3.11/dist-packages (from pandas->evaluate) (2025.2)\n",
            "Requirement already satisfied: tzdata>=2022.7 in /usr/local/lib/python3.11/dist-packages (from pandas->evaluate) (2025.2)\n",
            "Requirement already satisfied: aiohappyeyeballs>=2.3.0 in /usr/local/lib/python3.11/dist-packages (from aiohttp->datasets>=2.0.0->evaluate) (2.6.1)\n",
            "Requirement already satisfied: aiosignal>=1.1.2 in /usr/local/lib/python3.11/dist-packages (from aiohttp->datasets>=2.0.0->evaluate) (1.4.0)\n",
            "Requirement already satisfied: attrs>=17.3.0 in /usr/local/lib/python3.11/dist-packages (from aiohttp->datasets>=2.0.0->evaluate) (25.3.0)\n",
            "Requirement already satisfied: frozenlist>=1.1.1 in /usr/local/lib/python3.11/dist-packages (from aiohttp->datasets>=2.0.0->evaluate) (1.7.0)\n",
            "Requirement already satisfied: multidict<7.0,>=4.5 in /usr/local/lib/python3.11/dist-packages (from aiohttp->datasets>=2.0.0->evaluate) (6.6.3)\n",
            "Requirement already satisfied: propcache>=0.2.0 in /usr/local/lib/python3.11/dist-packages (from aiohttp->datasets>=2.0.0->evaluate) (0.3.2)\n",
            "Requirement already satisfied: yarl<2.0,>=1.17.0 in /usr/local/lib/python3.11/dist-packages (from aiohttp->datasets>=2.0.0->evaluate) (1.20.1)\n",
            "Requirement already satisfied: six>=1.5 in /usr/local/lib/python3.11/dist-packages (from python-dateutil>=2.8.2->pandas->evaluate) (1.17.0)\n",
            "Downloading evaluate-0.4.5-py3-none-any.whl (84 kB)\n",
            "\u001b[2K   \u001b[90m━━━━━━━━━━━━━━━━━━━━━━━━━━━━━━━━━━━━━━━━\u001b[0m \u001b[32m84.1/84.1 kB\u001b[0m \u001b[31m3.5 MB/s\u001b[0m eta \u001b[36m0:00:00\u001b[0m\n",
            "\u001b[?25hInstalling collected packages: evaluate\n",
            "Successfully installed evaluate-0.4.5\n"
          ]
        }
      ]
    },
    {
      "cell_type": "code",
      "source": [
        "from datasets import Dataset\n",
        "dataset_train=Dataset.from_pandas(df_train)\n",
        "dataset_test=Dataset.from_pandas(df_test)"
      ],
      "metadata": {
        "id": "7iXFtSnHa0U8"
      },
      "execution_count": null,
      "outputs": []
    },
    {
      "cell_type": "code",
      "source": [
        "from transformers import AutoTokenizer\n",
        "tokenizer=AutoTokenizer.from_pretrained(model_name)"
      ],
      "metadata": {
        "colab": {
          "base_uri": "https://localhost:8080/",
          "height": 237,
          "referenced_widgets": [
            "b70be32d4329487881f65bcbfa20f09c",
            "925339909a2e485197231521635eeb00",
            "2fdad693d63c40179e348c885c850448",
            "23e4ef8c360f40c5aad46cb0b84ee140",
            "bdc8074926e846f585ea84ac4cdd1c98",
            "8e8a2b5f5a7d41448d6da07c95e24d88",
            "a863c5485ae14bb0a1abb83be2ffefe8",
            "324ffa9454064a038e36f8a7df09efcf",
            "4631319b385447efaa887e72a9129fe8",
            "11f2a1b90fec43b683289cf928cfd80e",
            "7748c14da9eb41a3acc9b106d136c719",
            "bafda7bee7b74ce6a9b9c44057e896fe",
            "5355ece94474419cb7cafb760db8d453",
            "c61f78c487284eaba1c0e7cf6ab10953",
            "71d09cd7b1484f64a1f683ad8f0c697e",
            "f384b3cedd644146aa007d0c162532c1",
            "0d45933cbde64107ab0aceed8cf66327",
            "70b831217e1c40509896454e2779484d",
            "15dd2ccf90484c7b8bad92cfdae40266",
            "1f5d4473338746d899e787b7fa5e2ec8",
            "d5795de6bd1142239eb6b13320e3d631",
            "cded886b0af54f9695e615708b876f6b",
            "9a79fddb19804e23a3b7544ed462e16d",
            "1f580887d40d43259a96cbfac03c5424",
            "9b20be50ea8e484db885a7fa32137196",
            "f0c02d74e3d14f94af29ef7b4afb5746",
            "4a90a4ac1e1b4d2fbb980b73f6ae802f",
            "7e4b5794ade341ba837d7d66b272e119",
            "60fa5a53c54b4b1bbd17582a515e507f",
            "d8c7c811dbeb4f038b652a077eef00e5",
            "f2c5cdce1806465fbfcd301da630e590",
            "4f299f16f24d44d49fd97131a89c5a75",
            "e8d481852f984e9f816b35ac7b469365"
          ]
        },
        "id": "7CNwk94ia0Ww",
        "outputId": "0c4b3829-dcfd-4804-d6c7-93e8d4eb775c"
      },
      "execution_count": null,
      "outputs": [
        {
          "output_type": "stream",
          "name": "stderr",
          "text": [
            "/usr/local/lib/python3.11/dist-packages/huggingface_hub/utils/_auth.py:94: UserWarning: \n",
            "The secret `HF_TOKEN` does not exist in your Colab secrets.\n",
            "To authenticate with the Hugging Face Hub, create a token in your settings tab (https://huggingface.co/settings/tokens), set it as secret in your Google Colab and restart your session.\n",
            "You will be able to reuse this secret in all of your notebooks.\n",
            "Please note that authentication is recommended but still optional to access public models or datasets.\n",
            "  warnings.warn(\n"
          ]
        },
        {
          "output_type": "display_data",
          "data": {
            "text/plain": [
              "tokenizer_config.json:   0%|          | 0.00/50.5k [00:00<?, ?B/s]"
            ],
            "application/vnd.jupyter.widget-view+json": {
              "version_major": 2,
              "version_minor": 0,
              "model_id": "b70be32d4329487881f65bcbfa20f09c"
            }
          },
          "metadata": {}
        },
        {
          "output_type": "display_data",
          "data": {
            "text/plain": [
              "tokenizer.json:   0%|          | 0.00/9.09M [00:00<?, ?B/s]"
            ],
            "application/vnd.jupyter.widget-view+json": {
              "version_major": 2,
              "version_minor": 0,
              "model_id": "bafda7bee7b74ce6a9b9c44057e896fe"
            }
          },
          "metadata": {}
        },
        {
          "output_type": "display_data",
          "data": {
            "text/plain": [
              "special_tokens_map.json:   0%|          | 0.00/301 [00:00<?, ?B/s]"
            ],
            "application/vnd.jupyter.widget-view+json": {
              "version_major": 2,
              "version_minor": 0,
              "model_id": "9a79fddb19804e23a3b7544ed462e16d"
            }
          },
          "metadata": {}
        }
      ]
    },
    {
      "cell_type": "code",
      "source": [
        "tokenizer.pad_token = tokenizer.eos_token\n",
        "tokenizer.pad_token_id=tokenizer.eos_token_id\n",
        "tokenizer.save_pretrained(\"tokenizer\")"
      ],
      "metadata": {
        "colab": {
          "base_uri": "https://localhost:8080/"
        },
        "id": "EiITp9aNlaji",
        "outputId": "0bf4025b-bc3c-4823-fcb2-f3d01aa74e71"
      },
      "execution_count": null,
      "outputs": [
        {
          "output_type": "execute_result",
          "data": {
            "text/plain": [
              "('tokenizer/tokenizer_config.json',\n",
              " 'tokenizer/special_tokens_map.json',\n",
              " 'tokenizer/tokenizer.json')"
            ]
          },
          "metadata": {},
          "execution_count": 29
        }
      ]
    },
    {
      "cell_type": "code",
      "source": [
        "def preprocessing(examples):\n",
        "  return tokenizer(examples['text_cleaned'],truncation=True)\n",
        "\n",
        "tokenized_train=dataset_train.map(preprocessing,batched=True)\n",
        "tokenized_test=dataset_test.map(preprocessing,batched=True)"
      ],
      "metadata": {
        "colab": {
          "base_uri": "https://localhost:8080/",
          "height": 81,
          "referenced_widgets": [
            "417be7c090ff400f992829e4fd23d517",
            "bfcae41797c7420aa44f9c082c516bc2",
            "9d8bd5d14bf14ad2af49d142f1e8df40",
            "732ff823533143c385b92dd6c5fec7eb",
            "0f1abfe1763e48a4a76a686d974edede",
            "f4c48a7a8784459c910d2fffa13e4971",
            "e704dfd66b6847ba91e508ff6059ed8a",
            "26dd35a45a8d468a8d5811f5e1b938bc",
            "9c8f6fbbd32f4e21a010e7150154e555",
            "a4f826771b4347889622b8a20422fd71",
            "249b70ca879443ca94be7543b826ae1e",
            "02d13e72f8b040fe98e1c8cfde25225a",
            "69f2ab27c0dc463598ef458c63cb536a",
            "0de8e3af94e147fc874a9160a6ba80a1",
            "cc72b050a8d04c698f7fdef8f3121caa",
            "f4dc9ee750a442489bb93be86d2194b0",
            "c3a12a0c77c949a8a3592352f80eecf7",
            "77b136821b854cc4a887a19a7e1f0294",
            "957119c99f1b405899e37a8cdd766e96",
            "61591c89dc7346e3b24e0db9ccb423e0",
            "0d9678f9484d454b9400dd3972366f17",
            "81116e9126c34eaeaf7592bedde43161"
          ]
        },
        "id": "H_tJ4nzpa0Zu",
        "outputId": "462dcd01-eb4c-4544-a00f-d9f3752ef721"
      },
      "execution_count": null,
      "outputs": [
        {
          "output_type": "display_data",
          "data": {
            "text/plain": [
              "Map:   0%|          | 0/96 [00:00<?, ? examples/s]"
            ],
            "application/vnd.jupyter.widget-view+json": {
              "version_major": 2,
              "version_minor": 0,
              "model_id": "417be7c090ff400f992829e4fd23d517"
            }
          },
          "metadata": {}
        },
        {
          "output_type": "display_data",
          "data": {
            "text/plain": [
              "Map:   0%|          | 0/24 [00:00<?, ? examples/s]"
            ],
            "application/vnd.jupyter.widget-view+json": {
              "version_major": 2,
              "version_minor": 0,
              "model_id": "02d13e72f8b040fe98e1c8cfde25225a"
            }
          },
          "metadata": {}
        }
      ]
    },
    {
      "cell_type": "code",
      "source": [
        "  #Intialize Model\n",
        "from transformers import AutoModelForSequenceClassification\n",
        "model=AutoModelForSequenceClassification.from_pretrained(model_name,num_labels=5)"
      ],
      "metadata": {
        "colab": {
          "base_uri": "https://localhost:8080/",
          "height": 136,
          "referenced_widgets": [
            "2570824e5b634b98bf9bf1e6eeaa10c3",
            "a8daeedac557472dbcbb2cd8ad62e705",
            "a26c4a37a55f428cb9285cbed7c8f749",
            "f167f2972ead41319468966cb12273f9",
            "6528e72225014f8ab7a67d5ae3844755",
            "d0c37853ef3d46919d7583e8966a2e5b",
            "caae438e86c44bd29f9ec8c85dd3afda",
            "2aea99c67ba74748a2dd2444690d157e",
            "2dac7b7b78854b44a73de1b540a9ea4c",
            "e21e583147854c6e89e1847f40c0f509",
            "4e3901cee83242028551d879d8e96d3f",
            "8df6447a1bd64d59acacc11647cb8cf3",
            "1e2ab2d8abc049dfaf1e83ca65eddd8f",
            "296fe005060e4ef48e9565a8ee97f336",
            "ad605a73f67d4284abfae88755812179",
            "fcf1bc46b68c49dcb336e118c76b617a",
            "701997aca1bf447dbfc88a0a518f3a25",
            "600e3e39449b42f6aaac4701f5b79cb6",
            "1c1c5778dbdf4a84bdff5c470c07ddcc",
            "02263738ccad4d70b956f0d9868e6ba2",
            "bb3f5c64292c4a8a95927436a57077fc",
            "12a4772019124112a013ae2b05872845"
          ]
        },
        "id": "Sk68ZuGzmIYI",
        "outputId": "c0f8d9b8-f3d2-457f-9d07-76ca96693804"
      },
      "execution_count": null,
      "outputs": [
        {
          "output_type": "display_data",
          "data": {
            "text/plain": [
              "config.json:   0%|          | 0.00/843 [00:00<?, ?B/s]"
            ],
            "application/vnd.jupyter.widget-view+json": {
              "version_major": 2,
              "version_minor": 0,
              "model_id": "2570824e5b634b98bf9bf1e6eeaa10c3"
            }
          },
          "metadata": {}
        },
        {
          "output_type": "display_data",
          "data": {
            "text/plain": [
              "model.safetensors:   0%|          | 0.00/2.47G [00:00<?, ?B/s]"
            ],
            "application/vnd.jupyter.widget-view+json": {
              "version_major": 2,
              "version_minor": 0,
              "model_id": "8df6447a1bd64d59acacc11647cb8cf3"
            }
          },
          "metadata": {}
        },
        {
          "output_type": "stream",
          "name": "stderr",
          "text": [
            "Some weights of LlamaForSequenceClassification were not initialized from the model checkpoint at meta-llama/Llama-3.2-1B and are newly initialized: ['score.weight']\n",
            "You should probably TRAIN this model on a down-stream task to be able to use it for predictions and inference.\n"
          ]
        }
      ]
    },
    {
      "cell_type": "code",
      "source": [
        "model.config.pad_token_id=model.config.eos_token_id"
      ],
      "metadata": {
        "id": "WQMdw5CHtJq0"
      },
      "execution_count": null,
      "outputs": []
    },
    {
      "cell_type": "code",
      "source": [
        "numberoflayers=0\n",
        "for param in model.base_model.parameters():\n",
        "  numberoflayers+=1\n",
        "print(numberoflayers)"
      ],
      "metadata": {
        "colab": {
          "base_uri": "https://localhost:8080/"
        },
        "id": "mpzcUoi-mIcV",
        "outputId": "1c785a31-9745-4b51-c68f-b6253dd6cb4a"
      },
      "execution_count": null,
      "outputs": [
        {
          "output_type": "stream",
          "name": "stdout",
          "text": [
            "146\n"
          ]
        }
      ]
    },
    {
      "cell_type": "code",
      "source": [
        "layersnumber=0\n",
        "for param in model.base_model.parameters():\n",
        "  if layersnumber>numberoflayers-25:\n",
        "    break\n",
        "  layersnumber+=1\n",
        "  param.requires_grad=False\n"
      ],
      "metadata": {
        "id": "KA6iehWMmIe1"
      },
      "execution_count": null,
      "outputs": []
    },
    {
      "cell_type": "code",
      "source": [
        "#TrainModel\n",
        "from transformers import TrainingArguments,Trainer\n",
        "import evaluate\n",
        "import numpy as np\n",
        "from transformers import DataCollatorWithPadding\n",
        "data_collator=DataCollatorWithPadding(tokenizer=tokenizer)\n",
        "metric=evaluate.load(\"accuracy\")\n",
        "def compute_metrics(eval_pred):\n",
        "  logits,labels=eval_pred\n",
        "  predictions=np.argmax(logits,axis=-1)\n",
        "  return metric.compute(predictions=predictions,references=labels)"
      ],
      "metadata": {
        "colab": {
          "base_uri": "https://localhost:8080/",
          "height": 49,
          "referenced_widgets": [
            "316ea4bbff1241c196977fa0d359ae37",
            "c435daf9789847d1a1e1aab4e3d9afe1",
            "2d24f2c87050441dbe3702c3914d5d90",
            "3cfc7f6e6f8e41a183424d68c5d6cb00",
            "efb76b42910c4b49ad8677bd175058a8",
            "2efd7ab1906b4d6a8f0a0d6d9d9f1149",
            "a7f5ad60670d42b98e7f469e7c1c4442",
            "d99c9200672c416ca0bae6e9b64e53aa",
            "ce934091f99b4a5494da30541124c488",
            "17d73991451840889ad2c217d8860b1a",
            "9eee41460680495ea7cd097228b12bf7"
          ]
        },
        "id": "wGW6D-awmIhR",
        "outputId": "9c6b7c2b-0fea-44f1-bb13-e23c6e6aa14b"
      },
      "execution_count": null,
      "outputs": [
        {
          "output_type": "display_data",
          "data": {
            "text/plain": [
              "Downloading builder script: 0.00B [00:00, ?B/s]"
            ],
            "application/vnd.jupyter.widget-view+json": {
              "version_major": 2,
              "version_minor": 0,
              "model_id": "316ea4bbff1241c196977fa0d359ae37"
            }
          },
          "metadata": {}
        }
      ]
    },
    {
      "cell_type": "code",
      "source": [
        "tokenizer.pad_token = tokenizer.eos_token\n",
        "tokenizer.pad_token_id = tokenizer.eos_token_id\n",
        "model.config.pad_token_id = tokenizer.pad_token_id  # match model to tokenizer"
      ],
      "metadata": {
        "id": "FNfnJ2a4vKH4"
      },
      "execution_count": null,
      "outputs": []
    },
    {
      "cell_type": "code",
      "source": [
        "print(\"Tokenizer pad_token:\", tokenizer.pad_token)\n",
        "print(\"Tokenizer pad_token_id:\", tokenizer.pad_token_id)\n",
        "print(\"Model config pad_token_id:\", model.config.pad_token_id)"
      ],
      "metadata": {
        "colab": {
          "base_uri": "https://localhost:8080/"
        },
        "id": "HMet_n05vCdK",
        "outputId": "531fde5c-35b6-4d4a-b9e0-4ada7e5a6ff5"
      },
      "execution_count": null,
      "outputs": [
        {
          "output_type": "stream",
          "name": "stdout",
          "text": [
            "Tokenizer pad_token: <|end_of_text|>\n",
            "Tokenizer pad_token_id: 128001\n",
            "Model config pad_token_id: 128001\n"
          ]
        }
      ]
    },
    {
      "cell_type": "code",
      "source": [
        "training_args=TrainingArguments(\n",
        "    output_dir=\"./results\",\n",
        "    learning_rate=2e-5,\n",
        "\n",
        "    per_device_train_batch_size=2,\n",
        "    per_device_eval_batch_size=2,\n",
        "    weight_decay=0.01,\n",
        "    fp16=True,\n",
        "    report_to=\"none\",\n",
        "\n",
        "      save_steps=2000\n",
        ")\n",
        "trainer=Trainer(\n",
        "    model=model,\n",
        "    args=training_args,\n",
        "    train_dataset=tokenized_train,\n",
        "    eval_dataset=tokenized_test,\n",
        "    tokenizer=tokenizer,\n",
        "    data_collator=data_collator,\n",
        "    compute_metrics=compute_metrics,\n",
        ")"
      ],
      "metadata": {
        "colab": {
          "base_uri": "https://localhost:8080/"
        },
        "id": "AjgfK1XPmIkV",
        "outputId": "db41fee2-ea88-4c96-f289-eff5402fde0f"
      },
      "execution_count": null,
      "outputs": [
        {
          "output_type": "stream",
          "name": "stderr",
          "text": [
            "/tmp/ipython-input-38-3023062028.py:13: FutureWarning: `tokenizer` is deprecated and will be removed in version 5.0.0 for `Trainer.__init__`. Use `processing_class` instead.\n",
            "  trainer=Trainer(\n"
          ]
        }
      ]
    },
    {
      "cell_type": "code",
      "source": [
        "trainer.train()"
      ],
      "metadata": {
        "colab": {
          "base_uri": "https://localhost:8080/",
          "height": 110
        },
        "id": "VkCmRpBNoIUc",
        "outputId": "f124d40a-00c5-4305-a9eb-507792423f83"
      },
      "execution_count": null,
      "outputs": [
        {
          "output_type": "display_data",
          "data": {
            "text/plain": [
              "<IPython.core.display.HTML object>"
            ],
            "text/html": [
              "\n",
              "    <div>\n",
              "      \n",
              "      <progress value='144' max='144' style='width:300px; height:20px; vertical-align: middle;'></progress>\n",
              "      [144/144 06:29, Epoch 3/3]\n",
              "    </div>\n",
              "    <table border=\"1\" class=\"dataframe\">\n",
              "  <thead>\n",
              " <tr style=\"text-align: left;\">\n",
              "      <th>Step</th>\n",
              "      <th>Training Loss</th>\n",
              "    </tr>\n",
              "  </thead>\n",
              "  <tbody>\n",
              "  </tbody>\n",
              "</table><p>"
            ]
          },
          "metadata": {}
        },
        {
          "output_type": "execute_result",
          "data": {
            "text/plain": [
              "TrainOutput(global_step=144, training_loss=1.742465443081326, metrics={'train_runtime': 391.5096, 'train_samples_per_second': 0.736, 'train_steps_per_second': 0.368, 'total_flos': 2578685272031232.0, 'train_loss': 1.742465443081326, 'epoch': 3.0})"
            ]
          },
          "metadata": {},
          "execution_count": 39
        }
      ]
    },
    {
      "cell_type": "code",
      "source": [
        "from sklearn.metrics import classification_report\n",
        "preds = trainer.predict(tokenized_test)\n",
        "preds = np.argmax(preds.predictions, axis=-1)\n",
        "GT= df_test['label'].tolist()\n",
        "print(classification_report(GT, preds))"
      ],
      "metadata": {
        "colab": {
          "base_uri": "https://localhost:8080/",
          "height": 225
        },
        "id": "LeWJxY6WoJA3",
        "outputId": "674299c4-e702-4725-ef45-7fb0b35e19dc"
      },
      "execution_count": null,
      "outputs": [
        {
          "output_type": "display_data",
          "data": {
            "text/plain": [
              "<IPython.core.display.HTML object>"
            ],
            "text/html": []
          },
          "metadata": {}
        },
        {
          "output_type": "stream",
          "name": "stdout",
          "text": [
            "              precision    recall  f1-score   support\n",
            "\n",
            "           0       0.50      0.75      0.60         4\n",
            "           1       0.17      0.33      0.22         3\n",
            "           2       0.75      0.60      0.67         5\n",
            "           3       1.00      0.40      0.57         5\n",
            "           4       0.50      0.43      0.46         7\n",
            "\n",
            "    accuracy                           0.50        24\n",
            "   macro avg       0.58      0.50      0.50        24\n",
            "weighted avg       0.61      0.50      0.52        24\n",
            "\n"
          ]
        }
      ]
    },
    {
      "cell_type": "code",
      "source": [
        "model.config.id2label= {i:label for i,label in enumerate(le.classes_)}\n",
        "model.config.idlabel2= {i:label for i,label in enumerate(le.classes_)}"
      ],
      "metadata": {
        "id": "26lwsSYQ0-Jf"
      },
      "execution_count": null,
      "outputs": []
    },
    {
      "cell_type": "code",
      "source": [
        "trainer.save_model(\"./news_classifier_model\")\n",
        "tokenizer.save_pretrained(\"./news_classifer_model\")"
      ],
      "metadata": {
        "colab": {
          "base_uri": "https://localhost:8080/"
        },
        "id": "xAS47YKS1Yf-",
        "outputId": "dd86bee5-b282-403e-eaa9-31650d1779bc"
      },
      "execution_count": null,
      "outputs": [
        {
          "output_type": "execute_result",
          "data": {
            "text/plain": [
              "('./news_classifer_model/tokenizer_config.json',\n",
              " './news_classifer_model/special_tokens_map.json',\n",
              " './news_classifer_model/tokenizer.json')"
            ]
          },
          "metadata": {},
          "execution_count": 44
        }
      ]
    },
    {
      "cell_type": "code",
      "source": [
        "from transformers import pipeline\n",
        "classifier=pipeline(\"text-classification\",model=\"./news_classifier_model\",tokenizer=\"./news_classifier_model\")\n",
        "clf = pipeline(\"text-classification\", model=model, tokenizer=tokenizer)"
      ],
      "metadata": {
        "colab": {
          "base_uri": "https://localhost:8080/"
        },
        "id": "50oaQ8aX14F4",
        "outputId": "39b263b4-0acc-4a6a-886e-7c72f915936a"
      },
      "execution_count": null,
      "outputs": [
        {
          "output_type": "stream",
          "name": "stderr",
          "text": [
            "Device set to use cuda:0\n",
            "Device set to use cuda:0\n"
          ]
        }
      ]
    },
    {
      "cell_type": "code",
      "source": [
        "text = \"\"\"\n",
        "ndependence Day is approaching!\n",
        "\n",
        "Imagine if, in a few days, someone has procured illegal fireworks from a couple of states over. Are you:\n",
        "\n",
        "first in line to light them\n",
        "content to watch while others set them off\n",
        "going to find a fire extinguisher — just in case — while loudly condemning the activity?\n",
        "Ken Carter, a psychologist at Oxford College of Emory University, says everyone has a different level of sensation-seeking. This episode, we get into the factors at play, like people's brain chemistry, when deciding whether or not to do an activity, like setting off fireworks.\n",
        "\n",
        "For low and average sensation-seekers, very thrilling activities like large, self-run fireworks displays can cause their bodies to produce a lot of cortisol, a stress hormone.\n",
        "\n",
        "On the other hand, high sensation-seekers, Carter says, \"don't tend to produce that much cortisol when they're in those highly chaotic experiences. So when they're seeing those fireworks, they actually produce higher amounts of another chemical called dopamine, which is a neurotransmitter or a chemical messenger that's involved in pleasure.\"\n",
        "\n",
        "Carter has developed a 40-point self-assessment survey for people to figure out how much of a sensation-seeker they are. The survey can be found in his book, Buzz!\n",
        "\"\"\""
      ],
      "metadata": {
        "id": "AbhCrRkm2SZ4"
      },
      "execution_count": null,
      "outputs": []
    },
    {
      "cell_type": "code",
      "source": [
        "result = clf.predict(text)\n",
        "print(result)"
      ],
      "metadata": {
        "colab": {
          "base_uri": "https://localhost:8080/"
        },
        "id": "qMZG5h2h2qDJ",
        "outputId": "3963c323-2d4a-42dd-b059-baf84e7068c7"
      },
      "execution_count": null,
      "outputs": [
        {
          "output_type": "stream",
          "name": "stdout",
          "text": [
            "[{'label': np.str_('Health'), 'score': 0.5699164867401123}]\n"
          ]
        }
      ]
    },
    {
      "cell_type": "code",
      "source": [],
      "metadata": {
        "id": "zq5XyR-ZBIIe"
      },
      "execution_count": null,
      "outputs": []
    }
  ]
}