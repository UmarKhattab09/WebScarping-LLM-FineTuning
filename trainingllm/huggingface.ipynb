{
 "cells": [
  {
   "cell_type": "code",
   "execution_count": 3,
   "id": "a778613d",
   "metadata": {},
   "outputs": [
    {
     "name": "stderr",
     "output_type": "stream",
     "text": [
      "c:\\Users\\khatt\\Documents\\WebScarping-LLM-FineTuning\\venv\\lib\\site-packages\\tqdm\\auto.py:21: TqdmWarning: IProgress not found. Please update jupyter and ipywidgets. See https://ipywidgets.readthedocs.io/en/stable/user_install.html\n",
      "  from .autonotebook import tqdm as notebook_tqdm\n"
     ]
    }
   ],
   "source": [
    "from huggingface_hub import HfApi"
   ]
  },
  {
   "cell_type": "code",
   "execution_count": null,
   "id": "b9f0dbbe",
   "metadata": {},
   "outputs": [
    {
     "name": "stderr",
     "output_type": "stream",
     "text": [
      "No files have been modified since last commit. Skipping to prevent empty commit.\n"
     ]
    },
    {
     "data": {
      "text/plain": [
       "CommitInfo(commit_url='https://huggingface.co/UmarKhattab09/llmfinetuning/commit/185b12ec2af38363f4a6da21b7c6d31e0161375a', commit_message='Upload folder using huggingface_hub', commit_description='', oid='185b12ec2af38363f4a6da21b7c6d31e0161375a', pr_url=None, repo_url=RepoUrl('https://huggingface.co/UmarKhattab09/llmfinetuning', endpoint='https://huggingface.co', repo_type='model', repo_id='UmarKhattab09/llmfinetuning'), pr_revision=None, pr_num=None)"
      ]
     },
     "execution_count": 5,
     "metadata": {},
     "output_type": "execute_result"
    }
   ],
   "source": [
    "hf_token=\"HFTOKEN\"\n",
    "api = HfApi(token=hf_token)\n",
    "api.upload_folder(\n",
    "    folder_path=\"C:/Users/khatt/Documents/WebScarping-LLM-FineTuning/trainingllm/models/news_classifier_model\",\n",
    "    repo_id=\"UmarKhattab09/llmfinetuning\",\n",
    "    repo_type=\"model\",\n",
    ")"
   ]
  }
 ],
 "metadata": {
  "kernelspec": {
   "display_name": "Python 3",
   "language": "python",
   "name": "python3"
  },
  "language_info": {
   "codemirror_mode": {
    "name": "ipython",
    "version": 3
   },
   "file_extension": ".py",
   "mimetype": "text/x-python",
   "name": "python",
   "nbconvert_exporter": "python",
   "pygments_lexer": "ipython3",
   "version": "3.10.18"
  }
 },
 "nbformat": 4,
 "nbformat_minor": 5
}
