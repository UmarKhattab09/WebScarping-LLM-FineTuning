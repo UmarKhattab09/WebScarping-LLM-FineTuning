{
 "cells": [
  {
   "cell_type": "code",
   "execution_count": 3,
   "id": "fd6d8e89",
   "metadata": {},
   "outputs": [
    {
     "name": "stderr",
     "output_type": "stream",
     "text": [
      "Device set to use cpu\n"
     ]
    }
   ],
   "source": [
    "from transformers import pipeline\n",
    "classifier=pipeline(\"text-classification\",model=\"C:/Users/khatt/Documents/WebScarping-LLM-FineTuning/models/\",tokenizer=\"C:/Users/khatt/Documents/WebScarping-LLM-FineTuning/models/\")\n",
    "# clf = pipeline(\"text-classification\", model=model, tokenizer=tokenizer)"
   ]
  },
  {
   "cell_type": "code",
   "execution_count": null,
   "id": "bd049262",
   "metadata": {},
   "outputs": [],
   "source": [
    "text = \"\"\"\n",
    "ndependence Day is approaching!\n",
    "\n",
    "Imagine if, in a few days, someone has procured illegal fireworks from a couple of states over. Are you:\n",
    "\n",
    "first in line to light them\n",
    "content to watch while others set them off\n",
    "going to find a fire extinguisher — just in case — while loudly condemning the activity?\n",
    "Ken Carter, a psychologist at Oxford College of Emory University, says everyone has a different level of sensation-seeking. This episode, we get into the factors at play, like people's brain chemistry, when deciding whether or not to do an activity, like setting off fireworks.\n",
    "\n",
    "For low and average sensation-seekers, very thrilling activities like large, self-run fireworks displays can cause their bodies to produce a lot of cortisol, a stress hormone.\n",
    "\n",
    "On the other hand, high sensation-seekers, Carter says, \"don't tend to produce that much cortisol when they're in those highly chaotic experiences. So when they're seeing those fireworks, they actually produce higher amounts of another chemical called dopamine, which is a neurotransmitter or a chemical messenger that's involved in pleasure.\"\n",
    "\n",
    "Carter has developed a 40-point self-assessment survey for people to figure out how much of a sensation-seeker they are. The survey can be found in his book, Buzz!\n",
    "\"\"\""
   ]
  },
  {
   "cell_type": "code",
   "execution_count": null,
   "id": "06f4b3a8",
   "metadata": {},
   "outputs": [],
   "source": [
    "result = classifier.predict(text)\n",
    "print(result)"
   ]
  },
  {
   "cell_type": "code",
   "execution_count": 4,
   "id": "c67964ec",
   "metadata": {},
   "outputs": [
    {
     "name": "stdout",
     "output_type": "stream",
     "text": [
      "^C\n"
     ]
    }
   ],
   "source": [
    "!huggingface-cli login"
   ]
  },
  {
   "cell_type": "code",
   "execution_count": 8,
   "id": "8e77e68a",
   "metadata": {},
   "outputs": [
    {
     "name": "stderr",
     "output_type": "stream",
     "text": [
      "Device set to use cpu\n"
     ]
    }
   ],
   "source": [
    "from transformers import pipeline\n",
    "model_name = \"UmarKhSattab09/llmfinetuning\"\n",
    "classifier = pipeline(\n",
    "    \"text-classification\",\n",
    "    model=model_name,\n",
    "    tokenizer=model_name,\n",
    "    \n",
    ")"
   ]
  },
  {
   "cell_type": "code",
   "execution_count": 11,
   "id": "b2237f55",
   "metadata": {},
   "outputs": [],
   "source": [
    "text = \"\"\"\n",
    "President Trump announced in a post on social media on Tuesday a trade deal with Japan that sets \"reciprocal\" tariffs at 15%.\n",
    "\n",
    "The post celebrated what he described as \"a massive Deal\" that will see Japan invest $550 billion in the U.S. Trump said that as part of the deal, Japan will further open their country to trade including cars, trucks, rice and other agricultural products.\n",
    "\n",
    "\"This Deal will create Hundreds of Thousands of Jobs — There has never been anything like it,\" Trump wrote.\n",
    "\n",
    "Screengrab of a data table showing a list of countries who have received tariff letters or have recently struck deals with the U.S.\n",
    "Politics\n",
    "Here's a list of Trump's tariff letters so far and the rates they threaten\n",
    "Japanese Prime Minister Shigeru Ishiba acknowledged the new trade agreement on Wednesday, saying it would benefit both sides, according to AP.\n",
    "\n",
    "The U.S. ran a nearly $70 billion trade imbalance on goods with Japan in 2024, according to USTR data.\n",
    "\n",
    "The new rate on Japanese goods is lower than the 24% rate Trump threatened on April 2 and a 25% rate he said he'd impose starting Aug. 1. The 25% rate was floated in a letter to Ishiba earlier this month.\n",
    "\n",
    "Trump has been sending letters that threaten sizable tariff rates that set an Aug. 1 deadline on a growing list of countries. In recent days, he's announced trade frameworks with the Philippines, Indonesia and Vietnam that, like the new deal with Japan, lower tariff rates threatened in his letters.\n",
    "\n",
    "According to a White House fact sheet on the deal released Wednesday, Japan's $550 million investment will be targeted to several sectors, including energy infrastructure and production; semiconductor manufacturing and research; critical minerals mining, processing and refining; pharmaceutical and medical production; and commercial and defense shipbuilding. The U.S., according to the White House, \"will retain 90% of the profits from this investment – ensuring that American workers, taxpayers, and communities reap the overwhelming share of the benefit.\"\n",
    "\n",
    "Yerxa holds some green coffee beans before they get roasted at Lost Sock Roasters in Washington, DC.\n",
    "National\n",
    "U.S. coffee drinkers and businesses will pay the price for Trump's Brazil tariffs\n",
    "The White House also says that Japan has committed to buying 100 Boeing aircraft and notes that Japan will lift restrictions on U.S. cars and trucks, \"granting U.S. automakers access to the Japanese consumer market; U.S. Automotive standards will be approved in Japan for the first time ever.\"\n",
    "\n",
    "The announced deal with Japan comes after Trump directly participated in tariff negotiations with Japanese officials, eager to reach an early deal with Tokyo that he can point to as an example he wants other nations to follow.\n",
    "\n",
    "It also comes days after Ishiba's ruling coalition suffered a major setback in Sunday's Upper House election. There have been growing calls for him to resign.\n",
    "\n",
    "Averting a \"national crisis\"?\n",
    "Months before Tuesday's announcement, Trump threatened a 24 percent tariff on Japanese goods. This prompted Ishiba to declare that the tariffs would amount to nothing less than a \"national crisis\".\n",
    "\n",
    "The flag of Japan (right) hangs outside the New York Stock Exchange on May 5, 2008, in honor of Ryozo Kato, the ambassador of Japan to the United States at the time, ringing the opening bell.\n",
    "Opinion\n",
    "Why Japan sees President Trump's tariffs as a 'national crisis'\n",
    "Ishiba was one of the first foreign leaders to visit Trump after his inauguration. He emphasized Japan's role as the top foreign investor in the U.S., but it failed to shield his country from Trump's tariffs.\n",
    "\n",
    "In April, Ishiba called the tariffs \"extremely regrettable and disappointing,\" and told lawmakers: \"We do not intend to make one compromise after another to conclude negotiations swiftly.\"\n",
    "\n",
    "Japan had shown uncertainty about exactly what trade-related and unrelated chips to put on the table in tariff negotiations. Japanese officials repeatedly floated suggestions of using its world-leading holdings of $1.3 trillion in U.S. government debt, and purchases of U.S. weapons for leverage in negotiations, only to backpedal later, saying the issues should be kept separate.\n",
    "\n",
    "Trump has complained for more than four decades about Japan as the epitome of a rich American ally that rips the U.S. off on trade and freeloads off the U.S. defense commitment.\n",
    "\n",
    "\n",
    "\"\"\""
   ]
  },
  {
   "cell_type": "code",
   "execution_count": 12,
   "id": "9ed23451",
   "metadata": {},
   "outputs": [
    {
     "name": "stdout",
     "output_type": "stream",
     "text": [
      "[{'label': 'health', 'score': 0.6062672138214111}]\n"
     ]
    }
   ],
   "source": [
    "result = classifier.predict(text)\n",
    "print(result)"
   ]
  },
  {
   "cell_type": "code",
   "execution_count": null,
   "id": "6fd36b76",
   "metadata": {},
   "outputs": [],
   "source": []
  },
  {
   "cell_type": "code",
   "execution_count": null,
   "id": "a95aae0d",
   "metadata": {},
   "outputs": [],
   "source": []
  },
  {
   "cell_type": "code",
   "execution_count": null,
   "id": "160b47e8",
   "metadata": {},
   "outputs": [],
   "source": []
  }
 ],
 "metadata": {
  "kernelspec": {
   "display_name": "Python 3",
   "language": "python",
   "name": "python3"
  },
  "language_info": {
   "codemirror_mode": {
    "name": "ipython",
    "version": 3
   },
   "file_extension": ".py",
   "mimetype": "text/x-python",
   "name": "python",
   "nbconvert_exporter": "python",
   "pygments_lexer": "ipython3",
   "version": "3.10.18"
  }
 },
 "nbformat": 4,
 "nbformat_minor": 5
}
