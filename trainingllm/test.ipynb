{
 "cells": [
  {
   "cell_type": "code",
   "execution_count": 3,
   "id": "fd6d8e89",
   "metadata": {},
   "outputs": [
    {
     "name": "stderr",
     "output_type": "stream",
     "text": [
      "Device set to use cpu\n"
     ]
    }
   ],
   "source": [
    "from transformers import pipeline\n",
    "classifier=pipeline(\"text-classification\",model=\"C:/Users/khatt/Documents/WebScarping-LLM-FineTuning/models/\",tokenizer=\"C:/Users/khatt/Documents/WebScarping-LLM-FineTuning/models/\")\n",
    "# clf = pipeline(\"text-classification\", model=model, tokenizer=tokenizer)"
   ]
  },
  {
   "cell_type": "code",
   "execution_count": null,
   "id": "bd049262",
   "metadata": {},
   "outputs": [],
   "source": [
    "text = \"\"\"\n",
    "ndependence Day is approaching!\n",
    "\n",
    "Imagine if, in a few days, someone has procured illegal fireworks from a couple of states over. Are you:\n",
    "\n",
    "first in line to light them\n",
    "content to watch while others set them off\n",
    "going to find a fire extinguisher — just in case — while loudly condemning the activity?\n",
    "Ken Carter, a psychologist at Oxford College of Emory University, says everyone has a different level of sensation-seeking. This episode, we get into the factors at play, like people's brain chemistry, when deciding whether or not to do an activity, like setting off fireworks.\n",
    "\n",
    "For low and average sensation-seekers, very thrilling activities like large, self-run fireworks displays can cause their bodies to produce a lot of cortisol, a stress hormone.\n",
    "\n",
    "On the other hand, high sensation-seekers, Carter says, \"don't tend to produce that much cortisol when they're in those highly chaotic experiences. So when they're seeing those fireworks, they actually produce higher amounts of another chemical called dopamine, which is a neurotransmitter or a chemical messenger that's involved in pleasure.\"\n",
    "\n",
    "Carter has developed a 40-point self-assessment survey for people to figure out how much of a sensation-seeker they are. The survey can be found in his book, Buzz!\n",
    "\"\"\""
   ]
  },
  {
   "cell_type": "code",
   "execution_count": null,
   "id": "06f4b3a8",
   "metadata": {},
   "outputs": [],
   "source": [
    "result = classifier.predict(text)\n",
    "print(result)"
   ]
  }
 ],
 "metadata": {
  "kernelspec": {
   "display_name": "Python 3",
   "language": "python",
   "name": "python3"
  },
  "language_info": {
   "codemirror_mode": {
    "name": "ipython",
    "version": 3
   },
   "file_extension": ".py",
   "mimetype": "text/x-python",
   "name": "python",
   "nbconvert_exporter": "python",
   "pygments_lexer": "ipython3",
   "version": "3.10.18"
  }
 },
 "nbformat": 4,
 "nbformat_minor": 5
}
